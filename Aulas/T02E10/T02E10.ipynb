{
  "nbformat": 4,
  "nbformat_minor": 0,
  "metadata": {
    "colab": {
      "name": "T02E10.ipynb",
      "provenance": [],
      "collapsed_sections": []
    },
    "kernelspec": {
      "name": "python3",
      "display_name": "Python 3"
    }
  },
  "cells": [
    {
      "cell_type": "markdown",
      "metadata": {
        "id": "UH3xIgjOopuq"
      },
      "source": [
        "# **T02E10 - Introdução ao Python**\n",
        "## **Aula de Hoje:** Estruturas Condicionais III - Elif"
      ]
    },
    {
      "cell_type": "markdown",
      "metadata": {
        "id": "S1CmRxrWfTVs"
      },
      "source": [
        "## **Estruras Condicionais Com Elif**\n",
        "\n",
        "\n",
        "\n",
        "```\n",
        "if Condição 01:\n",
        "  Faça isso 01\n",
        "\n",
        "elif Condição 02:\n",
        "  Faça isso 02\n",
        "\n",
        "elif Condição 03:\n",
        "  Faça isso 03\n",
        "  \n",
        "else:\n",
        "  Faça isso 04\n",
        "```\n",
        "\n"
      ]
    },
    {
      "cell_type": "markdown",
      "metadata": {
        "id": "qtqs0IjmjnD-"
      },
      "source": [
        "## **Exercícios**"
      ]
    },
    {
      "cell_type": "markdown",
      "metadata": {
        "id": "0f1z9Q3MkKTq"
      },
      "source": [
        "**Exercício 01)** A loja amoveisbrasil quer criar um sistema para medir a a temperatura do cliente, e de acordo com a medida informar se ele pode entrar na loja ou não. As medidas seguem a seguinte tabela: \n",
        "\n",
        "|TEMPERATURA|CLASSIFICAÇÃO|STATUS|\n",
        "|-----------|-------------|------|\n",
        "|MENOR 37|NORMAL|PODE ENTRAR|\n",
        "|ENTRE 37 E 38|ESTADO FEBRIL|NÃO PODE ENTRAR|\n",
        "|ACIMA DE 38|FEBRE|NÃO PODE ENTRAR|\n",
        "\n",
        "Crie um sistema que de acordo com a medida, informe a classificação e o status para o cliente."
      ]
    },
    {
      "cell_type": "code",
      "metadata": {
        "id": "tNpW-ltHrYS5",
        "outputId": "76f391e0-7b9b-4614-d716-187ea76ca63c",
        "colab": {
          "base_uri": "https://localhost:8080/",
          "height": 50
        }
      },
      "source": [
        "temp = float(input('Qual a sua temperatura em °C: '))\n",
        "\n",
        "if temp < 37:\n",
        "  print(f'A sua temperatura é de {temp}°C, portanto você pode entrar na loja! Boas compras!')\n",
        "elif 37<= temp <=38:\n",
        "  print(f'A sua temperatura é de {temp}°C, você não pode entrar na loja!')\n",
        "else:\n",
        "  print(f'A sua temperatura é de {temp}°C, você não pode entrar, procure um médico!')"
      ],
      "execution_count": 3,
      "outputs": [
        {
          "output_type": "stream",
          "text": [
            "Qual a sua temperatura em °C: 37.8\n",
            "A sua temperatura é de 37.8°C, você não pode entrar na loja!\n"
          ],
          "name": "stdout"
        }
      ]
    },
    {
      "cell_type": "markdown",
      "metadata": {
        "id": "4fU8zvX6lMJR"
      },
      "source": [
        "**Exercício 02)** O departamento de Diversidade e Inclusão da empresa abusinessbrasil quer disponibilizar um sistema para que seus colaboradores possam saber que geração eles fazem parte, as gerações seguem a seguinte tabela: \n",
        "\n",
        "|NASCIMENTO |CLASSIFICAÇÃO|\n",
        "|-----------|-------------|\n",
        "|1964 OU MENOS|BABY BOOMER|\n",
        "|1965 – 1984|GERAÇÃO X|\n",
        "|1985 – 1999|GERAÇÃO Y|\n",
        "|2000 – OU MAIS|GERAÇÃO Z|\n",
        "\n",
        "Crie um sistema que solicita a idade do colaborador, e informa a classificação."
      ]
    },
    {
      "cell_type": "code",
      "metadata": {
        "id": "QFLdID3SmAJ4",
        "outputId": "27aa1754-1299-4c04-f6dd-19f644dab3ab",
        "colab": {
          "base_uri": "https://localhost:8080/",
          "height": 50
        }
      },
      "source": [
        "idade = int(input('Olá, digite a sua idade: '))\n",
        "ano_nasc = 2020 - idade\n",
        "\n",
        "if ano_nasc <= 1964:\n",
        "  classific = 'Baby boomer'\n",
        "elif 1965 <= ano_nasc <= 1984:\n",
        "  classific = 'Geração X'\n",
        "elif 1985 <= ano_nasc <= 1999:\n",
        "  classific = 'Geração Y'\n",
        "else:\n",
        "  classific = 'Geração Z'\n",
        "\n",
        "print(f'Você tem {idade} anos, portanto, você está na geração: {classific}')"
      ],
      "execution_count": 7,
      "outputs": [
        {
          "output_type": "stream",
          "text": [
            "Olá, digite a sua idade: 36\n",
            "Você tem 36 anos, portanto, você está na geração: Geração X\n"
          ],
          "name": "stdout"
        }
      ]
    },
    {
      "cell_type": "markdown",
      "metadata": {
        "id": "AxS6TVCiknuS"
      },
      "source": [
        "**Exercício 03)** O departamento de marketing da livraria alivrosbrasil está muito preocupado com a venda de livros deste ano, para reverter a situação o time decidiu criar uma promoção de desconto progressivo. Caso o cliente compre 2 livros terá um desconto de 5% no valor da compra, caso compre 3 livros terá um desconto de 10%, caso compre 4 livros terá um desconto de 15% e caso compre 5 livros ou mais terá um desconto de 20%. Desenvolva um sistema que solicita para o cliente o valor total da compra e a quantidade de livros e informa o valor sem desconto e com desconto."
      ]
    },
    {
      "cell_type": "code",
      "metadata": {
        "id": "Me14JBQlmGEM",
        "outputId": "8e908f29-bf20-49f8-d50f-14ad92e3853d",
        "colab": {
          "base_uri": "https://localhost:8080/",
          "height": 185
        }
      },
      "source": [
        "#1 ou nenhum - 0%\n",
        "#2 livros - 5%\n",
        "#3 livros - 10%\n",
        "#4 livros - 15%\n",
        "#5 ou mais livros - 20%\n",
        "\n",
        "valor_total = float(input('Quanto você gastou ao todo: '))\n",
        "quant_livros = int(input('Quantos livros você comprou: '))\n",
        "\n",
        "if quant_livros <= 1:\n",
        "  desc = 0\n",
        "elif quant_livros == 2:\n",
        "  desc = 0.95\n",
        "elif quant_livros == 3:\n",
        "  desc = 0.9\n",
        "elif quant_livros == 4:\n",
        "  desc = 0.85\n",
        "else:\n",
        "  desc = 0.8\n",
        "\n",
        "valor_desc = valor_total * desc\n",
        "\n",
        "print(f'''\n",
        "Você gastou ao todo: R$ {valor_total}!\n",
        "e você comprou {quant_livros} livros.\n",
        "\n",
        "Valor com desconto R$ {valor_desc}\n",
        "\n",
        "Obrigado por comprar conosco!\n",
        "''')\n"
      ],
      "execution_count": 9,
      "outputs": [
        {
          "output_type": "stream",
          "text": [
            "Quanto você gastou ao todo: 100\n",
            "Quantos livros você comprou: 5\n",
            "\n",
            "Você gastou ao todo: R$ 100.0!\n",
            "e você comprou 5 livros.\n",
            "\n",
            "Valor com desconto R$ 80.0\n",
            "\n",
            "Obrigado por comprar conosco!\n",
            "\n"
          ],
          "name": "stdout"
        }
      ]
    },
    {
      "cell_type": "markdown",
      "metadata": {
        "id": "pS8-EMUQ8_9i"
      },
      "source": [
        "**Exercício 04)** A academia amusculosbrasil quer criar um sistema para que os alunos possam medir seu IMC e tenham a informação de sua classificação, de acordo com a massa e altura. Crie um sistema que solicita as informações, calcula o IMC e retorna a classificação do aluno.\n",
        "\n",
        "Informações adicionais:  \n",
        "\n",
        "`IMC = MASSA / ALTURA²`\n",
        "\n",
        "|IMC|CLASSIFICAÇÃO|\n",
        "|-------------|--|\n",
        "|MENOR QUE 18,5|MAGREZA|\n",
        "|ENTRE 18,5 E 24,9|NORMAL|\n",
        "|ENTRE 25,0 E 29,9|SOBREPESO|\n",
        "|ENTRE 30,0 E 39,9|OBESIDADE|\n",
        "|MAIOR QUE 40,0|OBESIDADE GRAVE\t|\n"
      ]
    },
    {
      "cell_type": "code",
      "metadata": {
        "id": "mOqlcuoAAvcG",
        "outputId": "d8c7e847-4831-450c-ce91-104acbe11ed8",
        "colab": {
          "base_uri": "https://localhost:8080/",
          "height": 168
        }
      },
      "source": [
        "massa = float(input('Digite a sua massa em Kg: '))\n",
        "altura = float(input('Digite a sua altura em metros: '))\n",
        "\n",
        "imc = massa / altura ** 2\n",
        "\n",
        "if imc < 18.5:\n",
        "  classific = 'Magreza'\n",
        "elif 18.5 <= imc <= 24.9:\n",
        "  classific = 'Normal'\n",
        "elif 25 <= imc <= 29.9:\n",
        "  classific = 'Sobrepeso'\n",
        "elif 30 <= imc <= 39.9:\n",
        "  classific = 'Obesidade'\n",
        "else:\n",
        "  classific = 'Obesidade Grave'\n",
        "\n",
        "print(f'''\n",
        "O seu peso é de {massa}Kgs e a sua altura é de {altura} metros\n",
        "O seu IMC é de {imc}\n",
        "E você está na classificação: {classific}\n",
        "\n",
        "OBS - O IMC normal esta entre 18.5 e 24.9\n",
        "''')"
      ],
      "execution_count": 11,
      "outputs": [
        {
          "output_type": "stream",
          "text": [
            "Digite a sua massa em Kg: 85\n",
            "Digite a sua altura em metros: 1.76\n",
            "\n",
            "O seu peso é de 85.0Kgs e a sua altura é de 1.76 metros\n",
            "O seu IMC é de 27.44059917355372\n",
            "E você está na classificação: Sobrepeso\n",
            "\n",
            "OBS - O IMC normal esta entre 18.5 e 24.9\n",
            "\n"
          ],
          "name": "stdout"
        }
      ]
    },
    {
      "cell_type": "markdown",
      "metadata": {
        "id": "zy6pj3037RX7"
      },
      "source": [
        "**Extra** Não necessáriamente precisamos ter um \"else\" em uma estrutra condicional. Caso o problema tenha uma única condição, podemos utilizar somente o if. \n",
        "\n",
        "**Por exemplo:** Crie um sistema para a loja acomprasbrasil que solicita o nome do cliente e deseja boas vindas. Caso seja a primeira vez, imprima uma mensagem informando que o cliente ganhou um desconto de 10%.\n"
      ]
    },
    {
      "cell_type": "code",
      "metadata": {
        "id": "4cABjMtp8tIt",
        "outputId": "42aa00c7-39c8-4e09-c96d-abc5e58697c8",
        "colab": {
          "base_uri": "https://localhost:8080/",
          "height": 84
        }
      },
      "source": [
        "nome = input('Digite o seu nome: ')\n",
        "compra = input('Essa é a sua primeira compra (Responda: sim ou não): ')\n",
        "\n",
        "print(f'Olá {nome}, seja bem vindo a nossa loja!')\n",
        "if compra == 'sim':\n",
        "  print('Que bom, você ganhou 10% de desconto')"
      ],
      "execution_count": 13,
      "outputs": [
        {
          "output_type": "stream",
          "text": [
            "Digite o seu nome: Pedro\n",
            "Essa é a sua primeira compra (Responda: sim ou não): sim\n",
            " Olá Pedro, seja bem vindo a nossa loja!\n",
            "Que bom, você ganhou 10% de desconto\n"
          ],
          "name": "stdout"
        }
      ]
    },
    {
      "cell_type": "markdown",
      "metadata": {
        "id": "rgmPSzbAo5R2"
      },
      "source": [
        "-----\n",
        "\n",
        "## **Análise de Dados Brasil**!\n",
        "***Um jeito diferente de aprender Análise de Dados!***\n",
        "\n",
        "[Youtube](https://www.youtube.com/channel/UC1TUZx4WcPgKkcXymqL1KYA) • [GitHub](https://github.com/adadosbrasil) • [Instagram](https://www.instagram.com/adadosbrasil/) • [Twitter](https://twitter.com/adadosbrasil/) • [LinkedIn](https://www.linkedin.com/company/adadosbrasil/)\n",
        "\n"
      ]
    }
  ]
}