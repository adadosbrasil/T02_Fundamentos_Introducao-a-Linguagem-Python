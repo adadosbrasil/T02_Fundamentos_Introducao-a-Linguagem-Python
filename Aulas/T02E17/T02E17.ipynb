{
  "nbformat": 4,
  "nbformat_minor": 0,
  "metadata": {
    "colab": {
      "name": "T02E17.ipynb",
      "provenance": [],
      "collapsed_sections": []
    },
    "kernelspec": {
      "name": "python3",
      "display_name": "Python 3"
    }
  },
  "cells": [
    {
      "cell_type": "markdown",
      "metadata": {
        "id": "UH3xIgjOopuq"
      },
      "source": [
        "# **T02E17 - Introdução ao Python**\n",
        "## **Aula de Hoje:** Trabalhando com Tuplas I"
      ]
    },
    {
      "cell_type": "markdown",
      "metadata": {
        "id": "ZXleAueGD1MT"
      },
      "source": [
        "### Notas Aluno Gleisson Bispo\n",
        "\n",
        "\n",
        "* Português - 5\n",
        "* História - 7\n",
        "* Geografia - 6\n",
        "* Ciência - 8\n",
        "* Matemática - 7"
      ]
    },
    {
      "cell_type": "markdown",
      "metadata": {
        "id": "2MdN_rvOQAdK"
      },
      "source": [
        "### **Exemplo 01)** Criando uma tupla com as notas utilizando \"( )\""
      ]
    },
    {
      "cell_type": "code",
      "metadata": {
        "id": "el1ksSP8HF5O"
      },
      "source": [
        "tupla_notas = (5, 7, 6, 8, 7)"
      ],
      "execution_count": null,
      "outputs": []
    },
    {
      "cell_type": "code",
      "metadata": {
        "colab": {
          "base_uri": "https://localhost:8080/"
        },
        "id": "nlZ9IOU5krN3",
        "outputId": "da33f2aa-9c6f-4bed-9c73-7dd7a13bf954"
      },
      "source": [
        "tupla_notas"
      ],
      "execution_count": null,
      "outputs": [
        {
          "output_type": "execute_result",
          "data": {
            "text/plain": [
              "(5, 7, 6, 8, 7)"
            ]
          },
          "metadata": {
            "tags": []
          },
          "execution_count": 2
        }
      ]
    },
    {
      "cell_type": "code",
      "metadata": {
        "colab": {
          "base_uri": "https://localhost:8080/"
        },
        "id": "45VZbtxZkwMQ",
        "outputId": "a5dde34b-ebde-43d7-8764-33953166700c"
      },
      "source": [
        "type(tupla_notas)"
      ],
      "execution_count": null,
      "outputs": [
        {
          "output_type": "execute_result",
          "data": {
            "text/plain": [
              "tuple"
            ]
          },
          "metadata": {
            "tags": []
          },
          "execution_count": 3
        }
      ]
    },
    {
      "cell_type": "markdown",
      "metadata": {
        "id": "Xthnc3x1EZKp"
      },
      "source": [
        "### **Exemplo 02)** Criando uma tupla com as notas utilizando \"tuple()\""
      ]
    },
    {
      "cell_type": "code",
      "metadata": {
        "id": "COQ5hohwHGXd",
        "colab": {
          "base_uri": "https://localhost:8080/",
          "height": 166
        },
        "outputId": "1c789412-61f5-4970-9c5e-160064278a46"
      },
      "source": [
        "tuple(5, 7, 6, 8, 7)"
      ],
      "execution_count": null,
      "outputs": [
        {
          "output_type": "error",
          "ename": "TypeError",
          "evalue": "ignored",
          "traceback": [
            "\u001b[0;31m---------------------------------------------------------------------------\u001b[0m",
            "\u001b[0;31mTypeError\u001b[0m                                 Traceback (most recent call last)",
            "\u001b[0;32m<ipython-input-4-0f05583832a5>\u001b[0m in \u001b[0;36m<module>\u001b[0;34m()\u001b[0m\n\u001b[0;32m----> 1\u001b[0;31m \u001b[0mtuple\u001b[0m\u001b[0;34m(\u001b[0m\u001b[0;36m5\u001b[0m\u001b[0;34m,\u001b[0m \u001b[0;36m7\u001b[0m\u001b[0;34m,\u001b[0m \u001b[0;36m6\u001b[0m\u001b[0;34m,\u001b[0m \u001b[0;36m8\u001b[0m\u001b[0;34m,\u001b[0m \u001b[0;36m7\u001b[0m\u001b[0;34m)\u001b[0m\u001b[0;34m\u001b[0m\u001b[0;34m\u001b[0m\u001b[0m\n\u001b[0m",
            "\u001b[0;31mTypeError\u001b[0m: tuple expected at most 1 arguments, got 5"
          ]
        }
      ]
    },
    {
      "cell_type": "code",
      "metadata": {
        "colab": {
          "base_uri": "https://localhost:8080/"
        },
        "id": "BVAOVuDvlEk1",
        "outputId": "af762202-6ceb-4944-b7ac-c2dfd88734b2"
      },
      "source": [
        "tuple([5, 7, 6, 8, 7])"
      ],
      "execution_count": null,
      "outputs": [
        {
          "output_type": "execute_result",
          "data": {
            "text/plain": [
              "(5, 7, 6, 8, 7)"
            ]
          },
          "metadata": {
            "tags": []
          },
          "execution_count": 5
        }
      ]
    },
    {
      "cell_type": "code",
      "metadata": {
        "id": "Ynh5E3NxlT0t"
      },
      "source": [
        "tupla_notas_gb = tuple([5, 7, 6, 8, 7])"
      ],
      "execution_count": null,
      "outputs": []
    },
    {
      "cell_type": "code",
      "metadata": {
        "colab": {
          "base_uri": "https://localhost:8080/"
        },
        "id": "W3aMi3tElYc8",
        "outputId": "63e72c6f-befb-4a69-d4d8-b9fd5acb51a6"
      },
      "source": [
        "tupla_notas_gb"
      ],
      "execution_count": null,
      "outputs": [
        {
          "output_type": "execute_result",
          "data": {
            "text/plain": [
              "(5, 7, 6, 8, 7)"
            ]
          },
          "metadata": {
            "tags": []
          },
          "execution_count": 7
        }
      ]
    },
    {
      "cell_type": "code",
      "metadata": {
        "colab": {
          "base_uri": "https://localhost:8080/"
        },
        "id": "x4EUR8zolaq8",
        "outputId": "9f310df3-6402-4fd0-8c2c-b5982773f22b"
      },
      "source": [
        "list(tupla_notas_gb)"
      ],
      "execution_count": null,
      "outputs": [
        {
          "output_type": "execute_result",
          "data": {
            "text/plain": [
              "[5, 7, 6, 8, 7]"
            ]
          },
          "metadata": {
            "tags": []
          },
          "execution_count": 9
        }
      ]
    },
    {
      "cell_type": "code",
      "metadata": {
        "colab": {
          "base_uri": "https://localhost:8080/"
        },
        "id": "ZGA_29dLlhBm",
        "outputId": "532c2860-3af1-4cba-a5cd-7a4849a2338b"
      },
      "source": [
        "type(tupla_notas_gb)"
      ],
      "execution_count": null,
      "outputs": [
        {
          "output_type": "execute_result",
          "data": {
            "text/plain": [
              "tuple"
            ]
          },
          "metadata": {
            "tags": []
          },
          "execution_count": 11
        }
      ]
    },
    {
      "cell_type": "code",
      "metadata": {
        "colab": {
          "base_uri": "https://localhost:8080/"
        },
        "id": "oo21s4KdloMW",
        "outputId": "7e7d334b-c292-4a5c-e307-52e2a021ab87"
      },
      "source": [
        "tupla_notas_gb"
      ],
      "execution_count": null,
      "outputs": [
        {
          "output_type": "execute_result",
          "data": {
            "text/plain": [
              "(5, 7, 6, 8, 7)"
            ]
          },
          "metadata": {
            "tags": []
          },
          "execution_count": 12
        }
      ]
    },
    {
      "cell_type": "markdown",
      "metadata": {
        "id": "reeKw2pzEd9A"
      },
      "source": [
        "### **Exemplo 03)** Criando uma tupla com as notas utilizando uma sequência de valores"
      ]
    },
    {
      "cell_type": "code",
      "metadata": {
        "id": "7zRU0-K4HG2g"
      },
      "source": [
        "tupla_notas = 5, 7, 6, 8, 7, 8, 9"
      ],
      "execution_count": null,
      "outputs": []
    },
    {
      "cell_type": "code",
      "metadata": {
        "colab": {
          "base_uri": "https://localhost:8080/"
        },
        "id": "OUEykDfcl2Qg",
        "outputId": "bfb22760-824c-45bb-9c39-137f4468c3e6"
      },
      "source": [
        "tupla_notas"
      ],
      "execution_count": null,
      "outputs": [
        {
          "output_type": "execute_result",
          "data": {
            "text/plain": [
              "(5, 7, 6, 8, 7, 8, 9)"
            ]
          },
          "metadata": {
            "tags": []
          },
          "execution_count": 16
        }
      ]
    },
    {
      "cell_type": "markdown",
      "metadata": {
        "id": "rgmPSzbAo5R2"
      },
      "source": [
        "-----\n",
        "\n",
        "## **Análise de Dados Brasil**!\n",
        "***Um jeito diferente de aprender Análise de Dados!***\n",
        "\n",
        "[Youtube](https://www.youtube.com/channel/UC1TUZx4WcPgKkcXymqL1KYA) • [GitHub](https://github.com/adadosbrasil) • [Instagram](https://www.instagram.com/adadosbrasil/) • [Twitter](https://twitter.com/adadosbrasil/) • [LinkedIn](https://www.linkedin.com/company/adadosbrasil/)\n",
        "\n"
      ]
    }
  ]
}