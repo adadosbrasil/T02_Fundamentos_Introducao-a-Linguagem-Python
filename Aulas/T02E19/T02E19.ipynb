{
  "nbformat": 4,
  "nbformat_minor": 0,
  "metadata": {
    "colab": {
      "name": "T02E19.ipynb",
      "provenance": [],
      "collapsed_sections": []
    },
    "kernelspec": {
      "name": "python3",
      "display_name": "Python 3"
    }
  },
  "cells": [
    {
      "cell_type": "markdown",
      "metadata": {
        "id": "UH3xIgjOopuq"
      },
      "source": [
        "# **T02E19 - Introdução ao Python**\n",
        "## **Aula de Hoje:** Trabalhando com Tuplas III"
      ]
    },
    {
      "cell_type": "markdown",
      "metadata": {
        "id": "ZXleAueGD1MT"
      },
      "source": [
        "|Matéria|Português|História|Geografia|Ciência|Matemática|\n",
        "|-------|---------|--------|---------|-------|----------|\n",
        "|Nota|5|7|6|8|7|\n",
        "|Índice|0|1|2|3|4|"
      ]
    },
    {
      "cell_type": "code",
      "metadata": {
        "colab": {
          "base_uri": "https://localhost:8080/"
        },
        "id": "dB9M57hFWqz1",
        "outputId": "13c7459f-3a53-4448-8894-f1cc9373080e"
      },
      "source": [
        "notas_gb = (5, 7, 6, 8, 7)\n",
        "notas_gb"
      ],
      "execution_count": 1,
      "outputs": [
        {
          "output_type": "execute_result",
          "data": {
            "text/plain": [
              "(5, 7, 6, 8, 7)"
            ]
          },
          "metadata": {
            "tags": []
          },
          "execution_count": 1
        }
      ]
    },
    {
      "cell_type": "code",
      "metadata": {
        "colab": {
          "base_uri": "https://localhost:8080/"
        },
        "id": "j5HPZ4pbWxRj",
        "outputId": "c0b8acda-85fa-49c7-bd71-2c05a1d608a9"
      },
      "source": [
        "type(notas_gb)"
      ],
      "execution_count": 2,
      "outputs": [
        {
          "output_type": "execute_result",
          "data": {
            "text/plain": [
              "tuple"
            ]
          },
          "metadata": {
            "tags": []
          },
          "execution_count": 2
        }
      ]
    },
    {
      "cell_type": "markdown",
      "metadata": {
        "id": "2MdN_rvOQAdK"
      },
      "source": [
        "### **Exemplo 01)** Acessando valor a partir de um índice"
      ]
    },
    {
      "cell_type": "code",
      "metadata": {
        "id": "el1ksSP8HF5O",
        "colab": {
          "base_uri": "https://localhost:8080/"
        },
        "outputId": "e042a5df-e659-4375-b5f6-ebcdc4d53167"
      },
      "source": [
        "notas_gb"
      ],
      "execution_count": 3,
      "outputs": [
        {
          "output_type": "execute_result",
          "data": {
            "text/plain": [
              "(5, 7, 6, 8, 7)"
            ]
          },
          "metadata": {
            "tags": []
          },
          "execution_count": 3
        }
      ]
    },
    {
      "cell_type": "code",
      "metadata": {
        "colab": {
          "base_uri": "https://localhost:8080/"
        },
        "id": "VNJc4eurXDG8",
        "outputId": "39ce5d1a-d9f2-40a9-e5d8-b2ca87edc98c"
      },
      "source": [
        "notas_gb[0]"
      ],
      "execution_count": 4,
      "outputs": [
        {
          "output_type": "execute_result",
          "data": {
            "text/plain": [
              "5"
            ]
          },
          "metadata": {
            "tags": []
          },
          "execution_count": 4
        }
      ]
    },
    {
      "cell_type": "code",
      "metadata": {
        "colab": {
          "base_uri": "https://localhost:8080/"
        },
        "id": "96NjFVyJXLUt",
        "outputId": "a3bc7fdd-65f7-4d5d-b4e4-a2575cc02fe5"
      },
      "source": [
        "notas_gb[3]"
      ],
      "execution_count": 5,
      "outputs": [
        {
          "output_type": "execute_result",
          "data": {
            "text/plain": [
              "8"
            ]
          },
          "metadata": {
            "tags": []
          },
          "execution_count": 5
        }
      ]
    },
    {
      "cell_type": "code",
      "metadata": {
        "colab": {
          "base_uri": "https://localhost:8080/"
        },
        "id": "ZwM_VZK9XTSt",
        "outputId": "fd12dd1f-9f43-4c51-8282-097e8a87f039"
      },
      "source": [
        "notas_gb[-1]"
      ],
      "execution_count": 6,
      "outputs": [
        {
          "output_type": "execute_result",
          "data": {
            "text/plain": [
              "7"
            ]
          },
          "metadata": {
            "tags": []
          },
          "execution_count": 6
        }
      ]
    },
    {
      "cell_type": "code",
      "metadata": {
        "colab": {
          "base_uri": "https://localhost:8080/"
        },
        "id": "od8AKlWLXfWz",
        "outputId": "d70e3345-46a6-4b54-e40a-de522c4c1108"
      },
      "source": [
        "notas_gb[-2]"
      ],
      "execution_count": 7,
      "outputs": [
        {
          "output_type": "execute_result",
          "data": {
            "text/plain": [
              "8"
            ]
          },
          "metadata": {
            "tags": []
          },
          "execution_count": 7
        }
      ]
    },
    {
      "cell_type": "markdown",
      "metadata": {
        "id": "Xthnc3x1EZKp"
      },
      "source": [
        "### **Exemplo 02)** Fatiamento de Tuplas"
      ]
    },
    {
      "cell_type": "code",
      "metadata": {
        "id": "COQ5hohwHGXd",
        "colab": {
          "base_uri": "https://localhost:8080/"
        },
        "outputId": "168a656f-5b03-4832-e977-a0577ab794dc"
      },
      "source": [
        "notas_gb"
      ],
      "execution_count": 8,
      "outputs": [
        {
          "output_type": "execute_result",
          "data": {
            "text/plain": [
              "(5, 7, 6, 8, 7)"
            ]
          },
          "metadata": {
            "tags": []
          },
          "execution_count": 8
        }
      ]
    },
    {
      "cell_type": "code",
      "metadata": {
        "colab": {
          "base_uri": "https://localhost:8080/"
        },
        "id": "NpDeBnI-Xruz",
        "outputId": "82722fad-3380-45f1-947f-061c3e441777"
      },
      "source": [
        "notas_gb[0:5]"
      ],
      "execution_count": 9,
      "outputs": [
        {
          "output_type": "execute_result",
          "data": {
            "text/plain": [
              "(5, 7, 6, 8, 7)"
            ]
          },
          "metadata": {
            "tags": []
          },
          "execution_count": 9
        }
      ]
    },
    {
      "cell_type": "code",
      "metadata": {
        "colab": {
          "base_uri": "https://localhost:8080/"
        },
        "id": "GfxXHZs6X3GT",
        "outputId": "039e61b4-87b1-48ab-cad1-01ef53499776"
      },
      "source": [
        "notas_gb[0:3]"
      ],
      "execution_count": 10,
      "outputs": [
        {
          "output_type": "execute_result",
          "data": {
            "text/plain": [
              "(5, 7, 6)"
            ]
          },
          "metadata": {
            "tags": []
          },
          "execution_count": 10
        }
      ]
    },
    {
      "cell_type": "code",
      "metadata": {
        "colab": {
          "base_uri": "https://localhost:8080/"
        },
        "id": "lPoutA7uYAh7",
        "outputId": "2af32034-c7ac-4b3e-c795-bdc3b4c32ab0"
      },
      "source": [
        "notas_gb[2:4]"
      ],
      "execution_count": 11,
      "outputs": [
        {
          "output_type": "execute_result",
          "data": {
            "text/plain": [
              "(6, 8)"
            ]
          },
          "metadata": {
            "tags": []
          },
          "execution_count": 11
        }
      ]
    },
    {
      "cell_type": "code",
      "metadata": {
        "colab": {
          "base_uri": "https://localhost:8080/"
        },
        "id": "jqx7-zbGYs9d",
        "outputId": "2fef85c1-d87c-4034-c1d8-72273b87db4e"
      },
      "source": [
        "notas_gb[-4:-1]"
      ],
      "execution_count": 14,
      "outputs": [
        {
          "output_type": "execute_result",
          "data": {
            "text/plain": [
              "(7, 6, 8)"
            ]
          },
          "metadata": {
            "tags": []
          },
          "execution_count": 14
        }
      ]
    },
    {
      "cell_type": "markdown",
      "metadata": {
        "id": "reeKw2pzEd9A"
      },
      "source": [
        "### **Exemplo 03)** Acessando índice a partir de um valor"
      ]
    },
    {
      "cell_type": "code",
      "metadata": {
        "id": "7zRU0-K4HG2g",
        "colab": {
          "base_uri": "https://localhost:8080/"
        },
        "outputId": "32ccb7f2-307d-4350-f3c3-1d9ffb559c0a"
      },
      "source": [
        "notas_gb"
      ],
      "execution_count": 15,
      "outputs": [
        {
          "output_type": "execute_result",
          "data": {
            "text/plain": [
              "(5, 7, 6, 8, 7)"
            ]
          },
          "metadata": {
            "tags": []
          },
          "execution_count": 15
        }
      ]
    },
    {
      "cell_type": "code",
      "metadata": {
        "colab": {
          "base_uri": "https://localhost:8080/"
        },
        "id": "1Vq6WxQZZKB0",
        "outputId": "9a758db5-b1d0-4054-b3d6-e97b132445f2"
      },
      "source": [
        "notas_gb.index(6)"
      ],
      "execution_count": 16,
      "outputs": [
        {
          "output_type": "execute_result",
          "data": {
            "text/plain": [
              "2"
            ]
          },
          "metadata": {
            "tags": []
          },
          "execution_count": 16
        }
      ]
    },
    {
      "cell_type": "code",
      "metadata": {
        "colab": {
          "base_uri": "https://localhost:8080/"
        },
        "id": "tR1Lo1I4ZTPs",
        "outputId": "a58db736-8f84-4c1f-9699-d303f174953e"
      },
      "source": [
        "notas_gb.index(7)"
      ],
      "execution_count": 17,
      "outputs": [
        {
          "output_type": "execute_result",
          "data": {
            "text/plain": [
              "1"
            ]
          },
          "metadata": {
            "tags": []
          },
          "execution_count": 17
        }
      ]
    },
    {
      "cell_type": "code",
      "metadata": {
        "colab": {
          "base_uri": "https://localhost:8080/"
        },
        "id": "ldLL-O3CZiud",
        "outputId": "3ffe9cf4-a465-4139-e872-b207808534da"
      },
      "source": [
        "notas_gb.index(8)"
      ],
      "execution_count": 18,
      "outputs": [
        {
          "output_type": "execute_result",
          "data": {
            "text/plain": [
              "3"
            ]
          },
          "metadata": {
            "tags": []
          },
          "execution_count": 18
        }
      ]
    },
    {
      "cell_type": "markdown",
      "metadata": {
        "id": "8w7HOoqmXmU4"
      },
      "source": [
        "### **Exemplo 04)** Contando valores de uma tupla"
      ]
    },
    {
      "cell_type": "code",
      "metadata": {
        "id": "ocWofxjrXkuS",
        "colab": {
          "base_uri": "https://localhost:8080/"
        },
        "outputId": "ecad21f2-69bf-462a-808e-2b98fe780489"
      },
      "source": [
        "notas_gb"
      ],
      "execution_count": 19,
      "outputs": [
        {
          "output_type": "execute_result",
          "data": {
            "text/plain": [
              "(5, 7, 6, 8, 7)"
            ]
          },
          "metadata": {
            "tags": []
          },
          "execution_count": 19
        }
      ]
    },
    {
      "cell_type": "code",
      "metadata": {
        "colab": {
          "base_uri": "https://localhost:8080/"
        },
        "id": "6Ek3XwPHZsEH",
        "outputId": "74e5e80f-cb1f-4bfe-d4d7-beeec04a1d85"
      },
      "source": [
        "notas_gb.count(5)"
      ],
      "execution_count": 20,
      "outputs": [
        {
          "output_type": "execute_result",
          "data": {
            "text/plain": [
              "1"
            ]
          },
          "metadata": {
            "tags": []
          },
          "execution_count": 20
        }
      ]
    },
    {
      "cell_type": "code",
      "metadata": {
        "colab": {
          "base_uri": "https://localhost:8080/"
        },
        "id": "EYuoZMBlZxOk",
        "outputId": "42b6c54c-a107-4d4c-dba6-1aa135bc1d64"
      },
      "source": [
        "notas_gb.count(7)"
      ],
      "execution_count": 21,
      "outputs": [
        {
          "output_type": "execute_result",
          "data": {
            "text/plain": [
              "2"
            ]
          },
          "metadata": {
            "tags": []
          },
          "execution_count": 21
        }
      ]
    },
    {
      "cell_type": "markdown",
      "metadata": {
        "id": "MwPstsgJX2DR"
      },
      "source": [
        "### **Exemplo 05)** Comprimento de uma tupla com a função len()"
      ]
    },
    {
      "cell_type": "code",
      "metadata": {
        "id": "6QlbzqgjXzE7",
        "colab": {
          "base_uri": "https://localhost:8080/"
        },
        "outputId": "39d442d1-d186-41c2-c073-eafa1e4bdce3"
      },
      "source": [
        "notas_gb"
      ],
      "execution_count": 22,
      "outputs": [
        {
          "output_type": "execute_result",
          "data": {
            "text/plain": [
              "(5, 7, 6, 8, 7)"
            ]
          },
          "metadata": {
            "tags": []
          },
          "execution_count": 22
        }
      ]
    },
    {
      "cell_type": "code",
      "metadata": {
        "colab": {
          "base_uri": "https://localhost:8080/"
        },
        "id": "lgTOIsWtZ_PQ",
        "outputId": "644e21f6-4e6d-4f61-b404-3fd7e40abfd8"
      },
      "source": [
        "len(notas_gb)"
      ],
      "execution_count": 23,
      "outputs": [
        {
          "output_type": "execute_result",
          "data": {
            "text/plain": [
              "5"
            ]
          },
          "metadata": {
            "tags": []
          },
          "execution_count": 23
        }
      ]
    },
    {
      "cell_type": "markdown",
      "metadata": {
        "id": "qStig5yUaGZF"
      },
      "source": [
        "## Bonus!!!"
      ]
    },
    {
      "cell_type": "code",
      "metadata": {
        "colab": {
          "base_uri": "https://localhost:8080/"
        },
        "id": "kgtSpTUYaFWU",
        "outputId": "f73e66e7-d3fb-42c6-9db8-c72d679bff14"
      },
      "source": [
        "notas_gb"
      ],
      "execution_count": 24,
      "outputs": [
        {
          "output_type": "execute_result",
          "data": {
            "text/plain": [
              "(5, 7, 6, 8, 7)"
            ]
          },
          "metadata": {
            "tags": []
          },
          "execution_count": 24
        }
      ]
    },
    {
      "cell_type": "code",
      "metadata": {
        "colab": {
          "base_uri": "https://localhost:8080/"
        },
        "id": "l1chR1yraLZW",
        "outputId": "c1d18fc1-1bc9-43ab-d1bf-0af4c0fd50d7"
      },
      "source": [
        "10 in notas_gb"
      ],
      "execution_count": 25,
      "outputs": [
        {
          "output_type": "execute_result",
          "data": {
            "text/plain": [
              "False"
            ]
          },
          "metadata": {
            "tags": []
          },
          "execution_count": 25
        }
      ]
    },
    {
      "cell_type": "code",
      "metadata": {
        "colab": {
          "base_uri": "https://localhost:8080/"
        },
        "id": "L8xSFpoXaN_s",
        "outputId": "7c06a1a3-de5f-483b-8236-e2037fa3b1d5"
      },
      "source": [
        "5 in notas_gb"
      ],
      "execution_count": 26,
      "outputs": [
        {
          "output_type": "execute_result",
          "data": {
            "text/plain": [
              "True"
            ]
          },
          "metadata": {
            "tags": []
          },
          "execution_count": 26
        }
      ]
    },
    {
      "cell_type": "markdown",
      "metadata": {
        "id": "rgmPSzbAo5R2"
      },
      "source": [
        "-----\n",
        "\n",
        "## **Análise de Dados Brasil**!\n",
        "***Um jeito diferente de aprender Análise de Dados!***\n",
        "\n",
        "[Youtube](https://www.youtube.com/channel/UC1TUZx4WcPgKkcXymqL1KYA) • [GitHub](https://github.com/adadosbrasil) • [Instagram](https://www.instagram.com/adadosbrasil/) • [LinkedIn](https://www.linkedin.com/company/adadosbrasil/)\n",
        "\n"
      ]
    }
  ]
}