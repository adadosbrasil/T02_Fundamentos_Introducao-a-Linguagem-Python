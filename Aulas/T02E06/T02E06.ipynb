{
  "nbformat": 4,
  "nbformat_minor": 0,
  "metadata": {
    "colab": {
      "name": "T02E06.ipynb",
      "provenance": [],
      "collapsed_sections": []
    },
    "kernelspec": {
      "name": "python3",
      "display_name": "Python 3"
    }
  },
  "cells": [
    {
      "cell_type": "markdown",
      "metadata": {
        "id": "UH3xIgjOopuq",
        "colab_type": "text"
      },
      "source": [
        "# **T02E06 - Introdução ao Python**\n",
        "## **Aula de Hoje:** Formatando a Saída de Dados"
      ]
    },
    {
      "cell_type": "markdown",
      "metadata": {
        "id": "LachaZD9Bkvs",
        "colab_type": "text"
      },
      "source": [
        "## **F String**\n",
        "Uma forma simples de formatar a saída de dados para o usuário é utilizando a *string liteal formatada* ou  **f' string**, que permite que se inclua o valor de expressões Python dentro de uma string, prefixando-a com `f` ou `F` e escrevendo expressões na forma `{expression}`."
      ]
    },
    {
      "cell_type": "markdown",
      "metadata": {
        "id": "zxUr0vdHv55X",
        "colab_type": "text"
      },
      "source": [
        "**Exemplo 01)** Crie um script que solicita o nome do usuário, e retorna a seguinte mensagem: \n",
        "```\n",
        "Olá <nome_do_usuario>, Seja bem vindo!\n",
        "```\n",
        "\n"
      ]
    },
    {
      "cell_type": "code",
      "metadata": {
        "id": "VFuGuqyE-rFn",
        "colab_type": "code",
        "colab": {
          "base_uri": "https://localhost:8080/",
          "height": 52
        },
        "outputId": "09134baa-05ef-4f54-a2e1-4379c15eeaa1"
      },
      "source": [
        "nome = input('Digite seu nome: ')\n",
        "print('Olá', nome, ', Seja bem vindo!')"
      ],
      "execution_count": 1,
      "outputs": [
        {
          "output_type": "stream",
          "text": [
            "Digite seu nome: Gleisson\n",
            "Olá Gleisson , Seja bem vindo!\n"
          ],
          "name": "stdout"
        }
      ]
    },
    {
      "cell_type": "code",
      "metadata": {
        "id": "Q3mhd9d44PY0",
        "colab_type": "code",
        "colab": {
          "base_uri": "https://localhost:8080/",
          "height": 52
        },
        "outputId": "cc57ba96-4c1c-4251-ec3e-73c8ff2432d3"
      },
      "source": [
        "nome = input('Digite seu nome: ')\n",
        "print(f'Olá {nome}, seja bem vindo!')"
      ],
      "execution_count": 2,
      "outputs": [
        {
          "output_type": "stream",
          "text": [
            "Digite seu nome: Gleisson\n",
            "Olá Gleisson, seja bem vindo!\n"
          ],
          "name": "stdout"
        }
      ]
    },
    {
      "cell_type": "markdown",
      "metadata": {
        "id": "-ItiG527DV9Z",
        "colab_type": "text"
      },
      "source": [
        "**Exemplo 02)** Crie um script que solicita as duas ultimas notas de um aluno e retorne a média da seguinte forma:\n",
        "\n",
        "```\n",
        "A média das notas <nota_01> e <nota_02> é igual a <media>\n",
        "```\n",
        "\n"
      ]
    },
    {
      "cell_type": "code",
      "metadata": {
        "id": "q_8tLKJvDyfW",
        "colab_type": "code",
        "colab": {
          "base_uri": "https://localhost:8080/",
          "height": 69
        },
        "outputId": "d4fbe68a-059c-49c4-ea0e-626b3c594bbf"
      },
      "source": [
        "nota_01 = float(input('Digite a primeira nota: '))\n",
        "nota_02 = float(input('Digite a segunda nota: '))\n",
        "media = (nota_01 + nota_02) / 2\n",
        "\n",
        "print(f'A média das notas {nota_01} e {nota_02} é igual a {media}')"
      ],
      "execution_count": 3,
      "outputs": [
        {
          "output_type": "stream",
          "text": [
            "Digite a primeira nota: 10\n",
            "Digite a segunda nota: 5\n",
            "A média das notas 10.0 e 5.0 é igual a 7.5\n"
          ],
          "name": "stdout"
        }
      ]
    },
    {
      "cell_type": "markdown",
      "metadata": {
        "id": "ytK8uSByEVqd",
        "colab_type": "text"
      },
      "source": [
        "**Exemplo 03)** Crie um script que solicita o dia, mes e ano para o usuário e retorna a data formatada:\n",
        "\n",
        "\n",
        "```\n",
        "<dia>/<mes>/<ano>\n",
        "```\n",
        "\n"
      ]
    },
    {
      "cell_type": "code",
      "metadata": {
        "id": "u1rDrtDOEwzS",
        "colab_type": "code",
        "colab": {
          "base_uri": "https://localhost:8080/",
          "height": 87
        },
        "outputId": "69bb10c0-93dc-4e83-cdb4-da838318a3a0"
      },
      "source": [
        "dia = int(input('Digite o dia: '))\n",
        "mes = int(input('Digite o mes: '))\n",
        "ano = int(input('Digite o ano: '))\n",
        "print(f'{dia}/{mes}/{ano}')"
      ],
      "execution_count": 4,
      "outputs": [
        {
          "output_type": "stream",
          "text": [
            "Digite o dia: 01\n",
            "Digite o mes: 02\n",
            "Digite o ano: 2020\n",
            "1/2/2020\n"
          ],
          "name": "stdout"
        }
      ]
    },
    {
      "cell_type": "markdown",
      "metadata": {
        "id": "kn1kGuY7E6l9",
        "colab_type": "text"
      },
      "source": [
        "**Exemplo 04)** Solicite um número para o usuário e retorne a sua elevação à  segunda potência e a sua Raiz Quadrada:\n",
        "\n",
        "```\n",
        "A elevação à segunda potência de <numero> é igual a <potencia_numero>\n",
        "A raiz quadrada de <numero> é igual a <raiz_quadrada>\n",
        "```\n",
        "\n"
      ]
    },
    {
      "cell_type": "code",
      "metadata": {
        "id": "v72mNHXT5qsu",
        "colab_type": "code",
        "colab": {
          "base_uri": "https://localhost:8080/",
          "height": 121
        },
        "outputId": "d2afbf1f-48e2-43fe-ff27-6333b6c97ae7"
      },
      "source": [
        "numero = float(input('Digite um número: '))\n",
        "print(f'''\n",
        "Você digitou o número {numero}\n",
        "A elevação a segunda potência de {numero} é igual a {numero ** 2}\n",
        "A raiz quadrada de {numero} é igual a {numero ** (1/2)}\n",
        "''')"
      ],
      "execution_count": 6,
      "outputs": [
        {
          "output_type": "stream",
          "text": [
            "Digite um número: 5.8\n",
            "\n",
            "Você digitou o número 5.8\n",
            "A elevação a segunda potência de 5.8 é igual a 33.64\n",
            "A raiz quadrada de 5.8 é igual a 2.4083189157584592\n",
            "\n"
          ],
          "name": "stdout"
        }
      ]
    },
    {
      "cell_type": "markdown",
      "metadata": {
        "id": "ZFt9M-46vMt1",
        "colab_type": "text"
      },
      "source": [
        "## **Format**\n",
        "Outra forma de formatar a saída de dados para o usuário, é através do método **.format()**!"
      ]
    },
    {
      "cell_type": "markdown",
      "metadata": {
        "id": "LPhax9uQFZUR",
        "colab_type": "text"
      },
      "source": [
        "**Exemplo 01)** Crie um script que solicita o nome do usuário, e retorna a seguinte mensagem: \n",
        "```\n",
        "Olá <nome_do_usuario>, Seja bem vindo!\n",
        "```"
      ]
    },
    {
      "cell_type": "code",
      "metadata": {
        "id": "F-0QRVvDFaSt",
        "colab_type": "code",
        "colab": {
          "base_uri": "https://localhost:8080/",
          "height": 52
        },
        "outputId": "63fe5a77-5ee6-4896-fe06-6826431dec2a"
      },
      "source": [
        "nome = input('Digite seu nome: ')\n",
        "print('Olá {}, seja bem vindo'.format(nome))"
      ],
      "execution_count": 7,
      "outputs": [
        {
          "output_type": "stream",
          "text": [
            "Digite seu nome: Marcelo\n",
            "Olá Marcelo, seja bem vindo\n"
          ],
          "name": "stdout"
        }
      ]
    },
    {
      "cell_type": "markdown",
      "metadata": {
        "id": "2jmM00w0FeYx",
        "colab_type": "text"
      },
      "source": [
        "**Exemplo 02)** Crie um script que solicita as duas ultimas notas de um aluno e retorne a média da seguinte forma:\n",
        "\n",
        "```\n",
        "A média das notas <nota_01> e <nota_02> é igua a <media>\n",
        "```\n",
        "\n"
      ]
    },
    {
      "cell_type": "code",
      "metadata": {
        "id": "2v4bCSzQFdDl",
        "colab_type": "code",
        "colab": {
          "base_uri": "https://localhost:8080/",
          "height": 69
        },
        "outputId": "5a16cf31-e102-4531-ac80-40e06e11dff8"
      },
      "source": [
        "nota_01 = float(input('Digite a primeira nota: '))\n",
        "nota_02 = float(input('Digite a segunda nota: '))\n",
        "media = (nota_01 + nota_02)/2\n",
        "\n",
        "print('A média das notas {} e {} é igual a {}'.format(nota_01, nota_02, media))"
      ],
      "execution_count": 8,
      "outputs": [
        {
          "output_type": "stream",
          "text": [
            "Digite a primeira nota: 5\n",
            "Digite a segunda nota: 8\n",
            "A média das notas 5.0 e 8.0 é igual a 6.5\n"
          ],
          "name": "stdout"
        }
      ]
    },
    {
      "cell_type": "markdown",
      "metadata": {
        "id": "le-jmHP2FiXR",
        "colab_type": "text"
      },
      "source": [
        "**Exemplo 03)** Crie um script que solicita o dia, mes e ano para o usuário e retorna a data formatada:\n",
        "\n",
        "\n",
        "```\n",
        "<dia>/<mes>/<ano>\n",
        "```\n",
        "\n"
      ]
    },
    {
      "cell_type": "code",
      "metadata": {
        "id": "tcn9xXdJFjTt",
        "colab_type": "code",
        "colab": {
          "base_uri": "https://localhost:8080/",
          "height": 87
        },
        "outputId": "cce85c73-746c-415d-c3d2-f213b0010bfe"
      },
      "source": [
        "dia = int(input('Digite o dia: '))\n",
        "mes = int(input('Digite o mes: '))\n",
        "ano = int(input('Digite o ano: '))\n",
        "print('{}/{}/{}'.format(dia, mes, ano))"
      ],
      "execution_count": 9,
      "outputs": [
        {
          "output_type": "stream",
          "text": [
            "Digite o dia: 22\n",
            "Digite o mes: 9\n",
            "Digite o ano: 2020\n",
            "22/9/2020\n"
          ],
          "name": "stdout"
        }
      ]
    },
    {
      "cell_type": "markdown",
      "metadata": {
        "id": "UORwLSpYFjql",
        "colab_type": "text"
      },
      "source": [
        "**Exemplo 04)** Solicite um número para o usuário e retorne a sua elevação à  segunda potência e a sua Raiz Quadrada:\n",
        "\n",
        "```\n",
        "A elevação à segunda potência de <numero> é igual a <potencia_numero>\n",
        "A raiz quadrada de <numero> é igual a <raiz_quadrada>\n",
        "```\n",
        "\n"
      ]
    },
    {
      "cell_type": "code",
      "metadata": {
        "id": "3cohOpIVFmO-",
        "colab_type": "code",
        "colab": {
          "base_uri": "https://localhost:8080/",
          "height": 121
        },
        "outputId": "5d0bdbdd-9010-4adf-9d09-d0b18183f39b"
      },
      "source": [
        "numero = float(input('Digite um número: '))\n",
        "print('''\n",
        "Você digitou o número {}\n",
        "A segunda potência de {} é igual a {}\n",
        "A raiz quadrada de {} é igual a {}\n",
        "'''.format(numero, numero, numero**2, numero, numero ** (1/2)))"
      ],
      "execution_count": 10,
      "outputs": [
        {
          "output_type": "stream",
          "text": [
            "Digite um número: 4\n",
            "\n",
            "Você digitou o número 4.0\n",
            "A segunda potência de 4.0 é igual a 16.0\n",
            "A raiz quadrada de 4.0 é igual a 2.0\n",
            "\n"
          ],
          "name": "stdout"
        }
      ]
    },
    {
      "cell_type": "code",
      "metadata": {
        "id": "E6hUiAeq8cKt",
        "colab_type": "code",
        "colab": {
          "base_uri": "https://localhost:8080/",
          "height": 121
        },
        "outputId": "cc48e4ae-baeb-4fc5-ffec-e8a3ad655885"
      },
      "source": [
        "numero = float(input('Digite um número: '))\n",
        "print('''\n",
        "Você digitou o número {0}\n",
        "A segunda potência de {0} é igual a {1}\n",
        "A raiz quadrada de {0} é igual a {2}\n",
        "'''.format(numero, numero ** 2, numero ** (1/2)))"
      ],
      "execution_count": 12,
      "outputs": [
        {
          "output_type": "stream",
          "text": [
            "Digite um número: 4\n",
            "\n",
            "Você digitou o número 4.0\n",
            "A segunda potência de 4.0 é igual a 16.0\n",
            "A raiz quadrada de 4.0 é igual a 2.0\n",
            "\n"
          ],
          "name": "stdout"
        }
      ]
    },
    {
      "cell_type": "markdown",
      "metadata": {
        "id": "SIpZkCTnFy--",
        "colab_type": "text"
      },
      "source": [
        "-----\n",
        "**Desafio**: Refaça o desafio da tabuada utilizando o `f' string` e o `.format()`\n",
        "\n",
        "\n",
        "\n",
        "```\n",
        "A tabuada do <numero> é:\n",
        "\n",
        "<numero> x 1 = <resultado>\n",
        "<numero> x 2 = <resultado>\n",
        "<numero> x 3 = <resultado>\n",
        "<numero> x 4 = <resultado>\n",
        "<numero> x 5 = <resultado>\n",
        "<numero> x 6 = <resultado>\n",
        "<numero> x 7 = <resultado>\n",
        "<numero> x 8 = <resultado>\n",
        "<numero> x 9 = <resultado>\n",
        "<numero> x 10 = <resultado>\n",
        "```\n",
        "\n"
      ]
    },
    {
      "cell_type": "markdown",
      "metadata": {
        "id": "rgmPSzbAo5R2",
        "colab_type": "text"
      },
      "source": [
        "-----\n",
        "\n",
        "## **Análise de Dados Brasil**!\n",
        "***Um jeito diferente de aprender Análise de Dados!***\n",
        "\n",
        "[Youtube](https://www.youtube.com/channel/UC1TUZx4WcPgKkcXymqL1KYA) • [GitHub](https://github.com/adadosbrasil) • [Instagram](https://www.instagram.com/adadosbrasil/) • [Twitter](https://twitter.com/adadosbrasil/) • [LinkedIn](https://www.linkedin.com/company/adadosbrasil/)\n",
        "\n"
      ]
    }
  ]
}