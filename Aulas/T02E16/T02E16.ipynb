{
  "nbformat": 4,
  "nbformat_minor": 0,
  "metadata": {
    "colab": {
      "name": "T02E16.ipynb",
      "provenance": [],
      "collapsed_sections": []
    },
    "kernelspec": {
      "name": "python3",
      "display_name": "Python 3"
    }
  },
  "cells": [
    {
      "cell_type": "markdown",
      "metadata": {
        "id": "UH3xIgjOopuq"
      },
      "source": [
        "# **T02E16 - Introdução ao Python**\n",
        "## **Aula de Hoje:** Trabalhando com Listas IV"
      ]
    },
    {
      "cell_type": "markdown",
      "metadata": {
        "id": "ZXleAueGD1MT"
      },
      "source": [
        "### Lista de Compras\n",
        "\n",
        "\n",
        "|Maça|Uva|Banana|Laranja|Limão|Manga|\n",
        "|----|---|------|-------|-----|-----|\n",
        "|0|1|2|3|4|5|"
      ]
    },
    {
      "cell_type": "markdown",
      "metadata": {
        "id": "2MdN_rvOQAdK"
      },
      "source": [
        "### **Exemplo 01)** Criando uma lista com as frutas"
      ]
    },
    {
      "cell_type": "code",
      "metadata": {
        "id": "7eIh8ezcfcUy",
        "colab": {
          "base_uri": "https://localhost:8080/"
        },
        "outputId": "b5e82811-cf5a-468e-ed49-548617d5d6ab"
      },
      "source": [
        "lista_compras = ['Maça', 'Uva', 'Banana', 'Laranja', 'Limão', 'Manga']\n",
        "lista_compras"
      ],
      "execution_count": null,
      "outputs": [
        {
          "output_type": "execute_result",
          "data": {
            "text/plain": [
              "['Maça', 'Uva', 'Banana', 'Laranja', 'Limão', 'Manga']"
            ]
          },
          "metadata": {
            "tags": []
          },
          "execution_count": 1
        }
      ]
    },
    {
      "cell_type": "markdown",
      "metadata": {
        "id": "Xthnc3x1EZKp"
      },
      "source": [
        "### **Exemplo 02)** Sort vs Reverse"
      ]
    },
    {
      "cell_type": "code",
      "metadata": {
        "id": "W88qYE0OfbSL"
      },
      "source": [
        "lista_compras.sort()"
      ],
      "execution_count": null,
      "outputs": []
    },
    {
      "cell_type": "code",
      "metadata": {
        "colab": {
          "base_uri": "https://localhost:8080/"
        },
        "id": "jieyB-X1euHv",
        "outputId": "729555dc-9161-4d69-f3c9-48b43243f025"
      },
      "source": [
        "lista_compras"
      ],
      "execution_count": null,
      "outputs": [
        {
          "output_type": "execute_result",
          "data": {
            "text/plain": [
              "['Banana', 'Laranja', 'Limão', 'Manga', 'Maça', 'Uva']"
            ]
          },
          "metadata": {
            "tags": []
          },
          "execution_count": 3
        }
      ]
    },
    {
      "cell_type": "code",
      "metadata": {
        "id": "dVF35K3uexwF"
      },
      "source": [
        "lista_compras.reverse()"
      ],
      "execution_count": null,
      "outputs": []
    },
    {
      "cell_type": "code",
      "metadata": {
        "colab": {
          "base_uri": "https://localhost:8080/"
        },
        "id": "zDjuwNswe2os",
        "outputId": "ba9c2c11-aa36-4a35-dcbd-eba3f3b06c1d"
      },
      "source": [
        "lista_compras"
      ],
      "execution_count": null,
      "outputs": [
        {
          "output_type": "execute_result",
          "data": {
            "text/plain": [
              "['Uva', 'Maça', 'Manga', 'Limão', 'Laranja', 'Banana']"
            ]
          },
          "metadata": {
            "tags": []
          },
          "execution_count": 5
        }
      ]
    },
    {
      "cell_type": "markdown",
      "metadata": {
        "id": "GRBJmku0qfEw"
      },
      "source": [
        "### **Exemplo 03)** Criando listas Aninhadas\n",
        "\n",
        "#### Frutas Semana\n",
        "\n",
        "|Segunda|Terça|Quarta|\n",
        "|-------|-----|------|\n",
        "|Manga|Maracuja|Abacaxi|\n",
        "|Melancia|Limão|Morango|\n",
        "|Banana|Laranja|Acerola|"
      ]
    },
    {
      "cell_type": "code",
      "metadata": {
        "id": "UfQUX7xFfZ6i"
      },
      "source": [
        "lista_semana = [['Manga', 'Melancia', 'Banana'], ['Maracuja', 'Limão', 'Laranja'], ['Abacaxi', 'Morango', 'Acerola']]"
      ],
      "execution_count": null,
      "outputs": []
    },
    {
      "cell_type": "code",
      "metadata": {
        "colab": {
          "base_uri": "https://localhost:8080/"
        },
        "id": "zioSvn8sfn3e",
        "outputId": "1abda962-a614-4d17-812e-3b98f17e2460"
      },
      "source": [
        "lista_semana"
      ],
      "execution_count": null,
      "outputs": [
        {
          "output_type": "execute_result",
          "data": {
            "text/plain": [
              "[['Manga', 'Melancia', 'Banana'],\n",
              " ['Maracuja', 'Limão', 'Laranja'],\n",
              " ['Abacaxi', 'Morango', 'Acerola']]"
            ]
          },
          "metadata": {
            "tags": []
          },
          "execution_count": 7
        }
      ]
    },
    {
      "cell_type": "code",
      "metadata": {
        "colab": {
          "base_uri": "https://localhost:8080/"
        },
        "id": "hiophFswfrhL",
        "outputId": "93471d20-e31a-463f-f8dd-bbff45732fd6"
      },
      "source": [
        "lista_semana[0]"
      ],
      "execution_count": null,
      "outputs": [
        {
          "output_type": "execute_result",
          "data": {
            "text/plain": [
              "['Manga', 'Melancia', 'Banana']"
            ]
          },
          "metadata": {
            "tags": []
          },
          "execution_count": 8
        }
      ]
    },
    {
      "cell_type": "code",
      "metadata": {
        "colab": {
          "base_uri": "https://localhost:8080/"
        },
        "id": "sF9QT4R4fx9d",
        "outputId": "6006376f-5951-4c5e-edf8-b24bd1ee5642"
      },
      "source": [
        "lista_semana[1]"
      ],
      "execution_count": null,
      "outputs": [
        {
          "output_type": "execute_result",
          "data": {
            "text/plain": [
              "['Maracuja', 'Limão', 'Laranja']"
            ]
          },
          "metadata": {
            "tags": []
          },
          "execution_count": 9
        }
      ]
    },
    {
      "cell_type": "code",
      "metadata": {
        "colab": {
          "base_uri": "https://localhost:8080/"
        },
        "id": "zJFehhQrf3bw",
        "outputId": "72b75e55-3189-4c6e-b917-f3100da92e55"
      },
      "source": [
        "lista_semana[2]"
      ],
      "execution_count": null,
      "outputs": [
        {
          "output_type": "execute_result",
          "data": {
            "text/plain": [
              "['Abacaxi', 'Morango', 'Acerola']"
            ]
          },
          "metadata": {
            "tags": []
          },
          "execution_count": 10
        }
      ]
    },
    {
      "cell_type": "code",
      "metadata": {
        "colab": {
          "base_uri": "https://localhost:8080/",
          "height": 35
        },
        "id": "UWrkxeJjf7Rm",
        "outputId": "fa56fb39-1ca9-41ff-ee76-fe5a190da377"
      },
      "source": [
        "lista_semana[0][2]"
      ],
      "execution_count": null,
      "outputs": [
        {
          "output_type": "execute_result",
          "data": {
            "application/vnd.google.colaboratory.intrinsic+json": {
              "type": "string"
            },
            "text/plain": [
              "'Banana'"
            ]
          },
          "metadata": {
            "tags": []
          },
          "execution_count": 14
        }
      ]
    },
    {
      "cell_type": "code",
      "metadata": {
        "colab": {
          "base_uri": "https://localhost:8080/",
          "height": 35
        },
        "id": "HsSOx9_TgRw1",
        "outputId": "3cc0747a-df13-4efc-8018-19f3b00e0144"
      },
      "source": [
        "lista_semana[1][2]"
      ],
      "execution_count": null,
      "outputs": [
        {
          "output_type": "execute_result",
          "data": {
            "application/vnd.google.colaboratory.intrinsic+json": {
              "type": "string"
            },
            "text/plain": [
              "'Laranja'"
            ]
          },
          "metadata": {
            "tags": []
          },
          "execution_count": 16
        }
      ]
    },
    {
      "cell_type": "markdown",
      "metadata": {
        "id": "1_kWylVD1QBe"
      },
      "source": [
        "### **Exemplo 04)** Procurando Itens com \"IN\""
      ]
    },
    {
      "cell_type": "code",
      "metadata": {
        "id": "0pjXTYDHfZHU",
        "colab": {
          "base_uri": "https://localhost:8080/"
        },
        "outputId": "a413203c-18e3-4de8-a9ed-22c14caee8d7"
      },
      "source": [
        "lista_compras"
      ],
      "execution_count": null,
      "outputs": [
        {
          "output_type": "execute_result",
          "data": {
            "text/plain": [
              "['Uva', 'Maça', 'Manga', 'Limão', 'Laranja', 'Banana']"
            ]
          },
          "metadata": {
            "tags": []
          },
          "execution_count": 17
        }
      ]
    },
    {
      "cell_type": "code",
      "metadata": {
        "colab": {
          "base_uri": "https://localhost:8080/"
        },
        "id": "UHHgtoZJgmQ8",
        "outputId": "cdad0c44-d97d-430d-bdcf-816ed496b366"
      },
      "source": [
        "'Uva' in lista_compras"
      ],
      "execution_count": null,
      "outputs": [
        {
          "output_type": "execute_result",
          "data": {
            "text/plain": [
              "True"
            ]
          },
          "metadata": {
            "tags": []
          },
          "execution_count": 18
        }
      ]
    },
    {
      "cell_type": "code",
      "metadata": {
        "colab": {
          "base_uri": "https://localhost:8080/"
        },
        "id": "MJctJdtag7wd",
        "outputId": "f648745a-c2f5-41c3-e803-a3388ca57d93"
      },
      "source": [
        "'uva' in lista_compras"
      ],
      "execution_count": null,
      "outputs": [
        {
          "output_type": "execute_result",
          "data": {
            "text/plain": [
              "False"
            ]
          },
          "metadata": {
            "tags": []
          },
          "execution_count": 22
        }
      ]
    },
    {
      "cell_type": "code",
      "metadata": {
        "colab": {
          "base_uri": "https://localhost:8080/"
        },
        "id": "0GIKyvAmgunk",
        "outputId": "ee01a35e-139b-450e-e028-5d444a9af2ec"
      },
      "source": [
        "'Graviola' in lista_compras"
      ],
      "execution_count": null,
      "outputs": [
        {
          "output_type": "execute_result",
          "data": {
            "text/plain": [
              "False"
            ]
          },
          "metadata": {
            "tags": []
          },
          "execution_count": 19
        }
      ]
    },
    {
      "cell_type": "code",
      "metadata": {
        "colab": {
          "base_uri": "https://localhost:8080/"
        },
        "id": "THrH-uv-gyo0",
        "outputId": "af876373-d425-4961-faf4-497f4fc4e5f5"
      },
      "source": [
        "lista_semana"
      ],
      "execution_count": null,
      "outputs": [
        {
          "output_type": "execute_result",
          "data": {
            "text/plain": [
              "[['Manga', 'Melancia', 'Banana'],\n",
              " ['Maracuja', 'Limão', 'Laranja'],\n",
              " ['Abacaxi', 'Morango', 'Acerola']]"
            ]
          },
          "metadata": {
            "tags": []
          },
          "execution_count": 20
        }
      ]
    },
    {
      "cell_type": "code",
      "metadata": {
        "colab": {
          "base_uri": "https://localhost:8080/"
        },
        "id": "yHzneGi8g3XU",
        "outputId": "e3a3645e-b8f7-4cbf-e721-457c153ba4c1"
      },
      "source": [
        "'Manga' in lista_semana"
      ],
      "execution_count": null,
      "outputs": [
        {
          "output_type": "execute_result",
          "data": {
            "text/plain": [
              "False"
            ]
          },
          "metadata": {
            "tags": []
          },
          "execution_count": 21
        }
      ]
    },
    {
      "cell_type": "code",
      "metadata": {
        "colab": {
          "base_uri": "https://localhost:8080/"
        },
        "id": "bGGiGAPChIsl",
        "outputId": "7553b2eb-07a3-4f8b-ae56-63ff2a14660f"
      },
      "source": [
        "['Manga', 'Melancia', 'Banana'] in lista_semana"
      ],
      "execution_count": null,
      "outputs": [
        {
          "output_type": "execute_result",
          "data": {
            "text/plain": [
              "True"
            ]
          },
          "metadata": {
            "tags": []
          },
          "execution_count": 24
        }
      ]
    },
    {
      "cell_type": "code",
      "metadata": {
        "colab": {
          "base_uri": "https://localhost:8080/"
        },
        "id": "mAe7P0KKhDFG",
        "outputId": "e18879f4-ec6e-492d-dad0-c9f6bfce2207"
      },
      "source": [
        "'Manga'in lista_semana[0]"
      ],
      "execution_count": null,
      "outputs": [
        {
          "output_type": "execute_result",
          "data": {
            "text/plain": [
              "True"
            ]
          },
          "metadata": {
            "tags": []
          },
          "execution_count": 23
        }
      ]
    },
    {
      "cell_type": "code",
      "metadata": {
        "colab": {
          "base_uri": "https://localhost:8080/"
        },
        "id": "JjuLShDBhZbc",
        "outputId": "85c20b0d-cede-496e-d561-dbb7c895d848"
      },
      "source": [
        "lista_semana[0]"
      ],
      "execution_count": null,
      "outputs": [
        {
          "output_type": "execute_result",
          "data": {
            "text/plain": [
              "['Manga', 'Melancia', 'Banana']"
            ]
          },
          "metadata": {
            "tags": []
          },
          "execution_count": 25
        }
      ]
    },
    {
      "cell_type": "code",
      "metadata": {
        "colab": {
          "base_uri": "https://localhost:8080/"
        },
        "id": "1UWTYdc7hfKE",
        "outputId": "9e64da06-5d3d-4296-bdb2-ed8cd13e93ba"
      },
      "source": [
        "val = input('Digite uma fruta: ')\n",
        "if (val in lista_compras) == True:\n",
        "  print(f'A fruta {val} está na lista de compras')\n",
        "else:\n",
        "  print(f'A fruta {val} NÃO está na lista de compras')"
      ],
      "execution_count": null,
      "outputs": [
        {
          "output_type": "stream",
          "text": [
            "Digite uma fruta: Ciriguela\n",
            "A fruta Ciriguela NÃO está na lista de compras\n"
          ],
          "name": "stdout"
        }
      ]
    },
    {
      "cell_type": "markdown",
      "metadata": {
        "id": "NYERJOfQ1v2T"
      },
      "source": [
        " ### **Exemplo 05)** String em Listas com Split"
      ]
    },
    {
      "cell_type": "code",
      "metadata": {
        "id": "0NTWxnobfXrz"
      },
      "source": [
        "valor = 'O Gleisson ensina Ciencia de Dados e Python'"
      ],
      "execution_count": null,
      "outputs": []
    },
    {
      "cell_type": "code",
      "metadata": {
        "colab": {
          "base_uri": "https://localhost:8080/"
        },
        "id": "O1rrR9zbimoc",
        "outputId": "bd58ace3-ca16-41b7-ad62-380f3fc3f703"
      },
      "source": [
        "type(valor)"
      ],
      "execution_count": null,
      "outputs": [
        {
          "output_type": "execute_result",
          "data": {
            "text/plain": [
              "str"
            ]
          },
          "metadata": {
            "tags": []
          },
          "execution_count": 35
        }
      ]
    },
    {
      "cell_type": "code",
      "metadata": {
        "colab": {
          "base_uri": "https://localhost:8080/",
          "height": 35
        },
        "id": "XWDYVOFNiobM",
        "outputId": "fe9d48f3-f4fa-4365-9035-42a02429c6b3"
      },
      "source": [
        "valor"
      ],
      "execution_count": null,
      "outputs": [
        {
          "output_type": "execute_result",
          "data": {
            "application/vnd.google.colaboratory.intrinsic+json": {
              "type": "string"
            },
            "text/plain": [
              "'O Gleisson ensina Ciencia de Dados e Python'"
            ]
          },
          "metadata": {
            "tags": []
          },
          "execution_count": 36
        }
      ]
    },
    {
      "cell_type": "code",
      "metadata": {
        "colab": {
          "base_uri": "https://localhost:8080/"
        },
        "id": "rsLlLmxxiqAV",
        "outputId": "289b3be1-e859-43e1-8e1e-bcec53ecd1fd"
      },
      "source": [
        "valor.split()"
      ],
      "execution_count": null,
      "outputs": [
        {
          "output_type": "execute_result",
          "data": {
            "text/plain": [
              "['O', 'Gleisson', 'ensina', 'Ciencia', 'de', 'Dados', 'e', 'Python']"
            ]
          },
          "metadata": {
            "tags": []
          },
          "execution_count": 40
        }
      ]
    },
    {
      "cell_type": "code",
      "metadata": {
        "colab": {
          "base_uri": "https://localhost:8080/"
        },
        "id": "ciE4X9bfixSr",
        "outputId": "96585c11-014a-435a-fddf-4f2a2dbe507d"
      },
      "source": [
        "valor.split('i')"
      ],
      "execution_count": null,
      "outputs": [
        {
          "output_type": "execute_result",
          "data": {
            "text/plain": [
              "['O Gle', 'sson ens', 'na C', 'enc', 'a de Dados e Python']"
            ]
          },
          "metadata": {
            "tags": []
          },
          "execution_count": 41
        }
      ]
    },
    {
      "cell_type": "markdown",
      "metadata": {
        "id": "rgmPSzbAo5R2"
      },
      "source": [
        "-----\n",
        "\n",
        "## **Análise de Dados Brasil**!\n",
        "***Um jeito diferente de aprender Análise de Dados!***\n",
        "\n",
        "[Youtube](https://www.youtube.com/channel/UC1TUZx4WcPgKkcXymqL1KYA) • [GitHub](https://github.com/adadosbrasil) • [Instagram](https://www.instagram.com/adadosbrasil/) • [LinkedIn](https://www.linkedin.com/company/adadosbrasil/)\n",
        "\n"
      ]
    }
  ]
}