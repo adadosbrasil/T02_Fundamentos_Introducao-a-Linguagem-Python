{
  "nbformat": 4,
  "nbformat_minor": 0,
  "metadata": {
    "colab": {
      "name": "T02E08.ipynb",
      "provenance": [],
      "collapsed_sections": []
    },
    "kernelspec": {
      "name": "python3",
      "display_name": "Python 3"
    }
  },
  "cells": [
    {
      "cell_type": "markdown",
      "metadata": {
        "id": "UH3xIgjOopuq"
      },
      "source": [
        "# **T02E08 - Introdução ao Python**\n",
        "## **Aula de Hoje:** Estruturas Condicionais I"
      ]
    },
    {
      "cell_type": "markdown",
      "metadata": {
        "id": "S1CmRxrWfTVs"
      },
      "source": [
        "## **Estruras Condicionais**\n",
        "\n",
        "\n",
        "\n",
        "```\n",
        "if Condição:\n",
        "  Faça Isso\n",
        "else:\n",
        "  Faça Isso\n",
        "```\n",
        "\n"
      ]
    },
    {
      "cell_type": "markdown",
      "metadata": {
        "id": "qtqs0IjmjnD-"
      },
      "source": [
        "## **Exercícios**"
      ]
    },
    {
      "cell_type": "markdown",
      "metadata": {
        "id": "0f1z9Q3MkKTq"
      },
      "source": [
        "**Exercício 01)** A boleria abolosbrasil quer disponibilizar um sistema para os clientes poderem saber se podem compar ou não o bolo especial que custa R$ 25.00. Crie um sistema que verifica a possibilidade do usuário comprar ou não o bolo especial. "
      ]
    },
    {
      "cell_type": "code",
      "metadata": {
        "id": "j2ppAlpdHVnc",
        "outputId": "d94e5e4d-9999-4773-b06f-9808e0c65d3b",
        "colab": {
          "base_uri": "https://localhost:8080/",
          "height": 87
        }
      },
      "source": [
        "dinheiro = float(input('Quanto dinheiro voce tem?'))\n",
        "\n",
        "if dinheiro >= 25:\n",
        "  print('Voce pode comprar o bolo')\n",
        "else:\n",
        "  print('Voce nao pode comprar o bolo')\n",
        "  print('Mas voce pode comprar uma coxinha')\n",
        "\n",
        "print('Obrigado por usar nosso sistema')"
      ],
      "execution_count": 3,
      "outputs": [
        {
          "output_type": "stream",
          "text": [
            "Quanto dinheiro voce tem?5\n",
            "Voce nao pode comprar o bolo\n",
            "Mas voce pode comprar uma coxinha\n",
            "Obrigado por usar nosso sistema\n"
          ],
          "name": "stdout"
        }
      ]
    },
    {
      "cell_type": "markdown",
      "metadata": {
        "id": "4fU8zvX6lMJR"
      },
      "source": [
        "**Exercício 02)** O parque Sodada quer automatizar o processo de aprovação para andar na roda gigante. Para andar no brinquedo, a criança precisa ter no mínimo 1.60m. Crie um sistema que solicita a altura e verifica se a criança pode ir no brinquedo ou não, retornando uma mensagem personalizada."
      ]
    },
    {
      "cell_type": "code",
      "metadata": {
        "id": "QFLdID3SmAJ4",
        "outputId": "9fc388e0-5f81-45af-b2d7-1ad76808594b",
        "colab": {
          "base_uri": "https://localhost:8080/",
          "height": 52
        }
      },
      "source": [
        "altura = float(input('Qual a sua altura: '))\n",
        "\n",
        "if altura >= 1.60:\n",
        "  print('Voce pode andar no brinquedo')\n",
        "else:\n",
        "  print('Voce nao pode andar no brinquedo')"
      ],
      "execution_count": 5,
      "outputs": [
        {
          "output_type": "stream",
          "text": [
            "Qual a sua altura: 1\n",
            "Voce nao pode andar no brinquedo\n"
          ],
          "name": "stdout"
        }
      ]
    },
    {
      "cell_type": "markdown",
      "metadata": {
        "id": "AxS6TVCiknuS"
      },
      "source": [
        "**Exercício 03)** Crie um sistema para a escola adados, que solicita as notas de matemática, português e ciências do aluno, calcula a média e verifica se ele foi aprovado ou reprovado. Lembrando que a nota de corte da escola é 7."
      ]
    },
    {
      "cell_type": "code",
      "metadata": {
        "id": "Me14JBQlmGEM",
        "outputId": "ecd99ba5-21f5-4cb0-f8ba-9a1351f6f24c",
        "colab": {
          "base_uri": "https://localhost:8080/",
          "height": 243
        }
      },
      "source": [
        "por = float(input('Nota Portugues: '))\n",
        "mat = float(input('Nota matematica: '))\n",
        "cie = float(input('Nota ciencias: '))\n",
        "\n",
        "media = (por + mat + cie ) / 3\n",
        "\n",
        "if media >= 7:\n",
        "  status = 'Aprovado'\n",
        "else:\n",
        "  status = 'Reprovado'\n",
        "\n",
        "print(f'''\n",
        "Olá suas notas foram:\n",
        "Portugues {por}\n",
        "Matematica {mat}\n",
        "Ciencias {cie}\n",
        "\n",
        "A sua media é de {media}\n",
        "\n",
        "Status {status}\n",
        "''')"
      ],
      "execution_count": 7,
      "outputs": [
        {
          "output_type": "stream",
          "text": [
            "Nota Portugues: 5\n",
            "Nota matematica: 6\n",
            "Nota ciencias: 5\n",
            "\n",
            "Olá suas notas foram:\n",
            "Portugues 5.0\n",
            "Matematica 6.0\n",
            "Ciencias 5.0\n",
            "\n",
            "A sua media é de 5.333333333333333\n",
            "\n",
            "Status Reprovado\n",
            "\n"
          ],
          "name": "stdout"
        }
      ]
    },
    {
      "cell_type": "markdown",
      "metadata": {
        "id": "wwN27Z76mHAU"
      },
      "source": [
        "**Exercício 04)** O salão acortesbrasil quer criar um sistema de recomendação de serviços para seus clientes de acordo com sua identificação\n",
        "\n",
        "Caso o cliente se identifique como **mulher**, o salão quer recomendar:\n",
        "\n",
        "- Corte Cabelo Curto - R$ 25.00\n",
        "\n",
        "- Corte Cabelo Longo - R$ 30.00\n",
        "\n",
        "Caso o cliente se identifique como **homem**, o salão quer recomendar:\n",
        "\n",
        "- Corte Cabelo - R$ 20.00\n",
        "\n",
        "- Corte Cabelo e Barba - R$ 30.00\n",
        "\n",
        "Crie um sistema que solicita a identificação do cliente, e recomenda os serviços.\n"
      ]
    },
    {
      "cell_type": "code",
      "metadata": {
        "id": "ZC684Lc2wKzK",
        "outputId": "54ac54c9-8927-46fa-98ff-0d6436f06538",
        "colab": {
          "base_uri": "https://localhost:8080/",
          "height": 104
        }
      },
      "source": [
        "identificacao = input('Como voce se identifica: ')\n",
        "\n",
        "if identificacao == 'Mulher':\n",
        "  print('''\n",
        "  - Corte cabelo curto - 25\n",
        "  - Corte Cabelo longo - 30\n",
        "  ''')\n",
        "else:\n",
        "  print('''\n",
        "  - Corte cabelo - 20\n",
        "  - Corte cabelo e barba - 30\n",
        "  ''')"
      ],
      "execution_count": 11,
      "outputs": [
        {
          "output_type": "stream",
          "text": [
            "Como voce se identifica: Mulher\n",
            "\n",
            "  - Corte cabelo curto - 25\n",
            "  - Corte Cabelo longo - 30\n",
            "  \n"
          ],
          "name": "stdout"
        }
      ]
    },
    {
      "cell_type": "markdown",
      "metadata": {
        "id": "rahxBltYvs69"
      },
      "source": [
        "**Exercício 05)** A Loja adadosmodas quer criar um sistema para seus clientes decidirem qual a melhor forma de pagamento. Caso o cliente decida pagar o valor do produto a vista, ele terá um desconto de 10% no valor da compra. Caso queira parcelar em duas vezes ou mais, o valor total terá um acrescimo de 5%. Crie um sistema, que informa para o cliente o valor e quantidade de parcelas de acordo com o a opção escolhida."
      ]
    },
    {
      "cell_type": "code",
      "metadata": {
        "id": "KlpxS6ATvrfy",
        "outputId": "e683e567-3498-4eed-fd45-e8c5d36665c0",
        "colab": {
          "base_uri": "https://localhost:8080/",
          "height": 139
        }
      },
      "source": [
        "valor_compra = float(input('Qual o valor de sua compra: '))\n",
        "quantidade_parcelas = int(input('Quantas parcelas: '))\n",
        "\n",
        "if quantidade_parcelas >= 2:\n",
        "  valor_pagar = valor_compra * 1.05\n",
        "  valor_parcela = valor_pagar / quantidade_parcelas\n",
        "\n",
        "  print(f'Valor total do produto {valor_compra}')\n",
        "  print(f'Quantidade de Parcelas {quantidade_parcelas}')\n",
        "  print(f'Valor da parcela {valor_parcela}')\n",
        "  print(f'Valor total a prazo {valor_pagar}')\n",
        "\n",
        "else:\n",
        "  valor_pagar = valor_compra * 0.9\n",
        "  print(f'Valor total {valor_compra}')\n",
        "  print(f'Quantidade de Parcelas: A vista')\n",
        "  print(f'Valor com desconto {valor_pagar}')\n",
        "\n",
        "print('Obrigado por comprar conosco')"
      ],
      "execution_count": 15,
      "outputs": [
        {
          "output_type": "stream",
          "text": [
            "Qual o valor de sua compra: 3500\n",
            "Quantas parcelas: 24\n",
            "Valor total do produto 3500.0\n",
            "Quantidade de Parcelas 24\n",
            "Valor da parcela 153.125\n",
            "Valor total a prazo 3675.0\n",
            "Obrigado por comprar conosco\n"
          ],
          "name": "stdout"
        }
      ]
    },
    {
      "cell_type": "markdown",
      "metadata": {
        "id": "pS8-EMUQ8_9i"
      },
      "source": [
        "**Exercício 06)** A academia amusculosbrasil quer criar um sistema para que os alunos possam medir seu IMC, e tenham a informação se estão com sobrepeso ou não. Crie um sistema que solicita as informações de altura e massa, calcula o IMC e retorna se o aluno esta com sobrepeso ou não.\n",
        "\n",
        "Informações adicionais:  \n",
        "\n",
        "`IMC = MASSA / ALTURA²`\n",
        "\n",
        "|IMC|CLASSIFICAÇÃO|\n",
        "|-------------|--|\n",
        "|MENOR QUE 18,5|MAGREZA|\n",
        "|ENTRE 18,5 E 24,9|NORMAL|\n",
        "|ENTRE 25,0 E 29,9|SOBREPESO|\n",
        "|ENTRE 30,0 E 39,9|OBESIDADE|\n",
        "|MAIOR QUE 40,0|OBESIDADE GRAVE\t|\n"
      ]
    },
    {
      "cell_type": "code",
      "metadata": {
        "id": "mOqlcuoAAvcG"
      },
      "source": [
        ""
      ],
      "execution_count": null,
      "outputs": []
    },
    {
      "cell_type": "markdown",
      "metadata": {
        "id": "rgmPSzbAo5R2"
      },
      "source": [
        "-----\n",
        "\n",
        "## **Análise de Dados Brasil**!\n",
        "***Um jeito diferente de aprender Análise de Dados!***\n",
        "\n",
        "[Youtube](https://www.youtube.com/channel/UC1TUZx4WcPgKkcXymqL1KYA) • [GitHub](https://github.com/adadosbrasil) • [Instagram](https://www.instagram.com/adadosbrasil/) • [Twitter](https://twitter.com/adadosbrasil/) • [LinkedIn](https://www.linkedin.com/company/adadosbrasil/)\n",
        "\n"
      ]
    }
  ]
}