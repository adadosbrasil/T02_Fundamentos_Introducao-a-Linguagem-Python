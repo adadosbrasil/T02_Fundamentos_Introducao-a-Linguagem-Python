{
  "nbformat": 4,
  "nbformat_minor": 0,
  "metadata": {
    "colab": {
      "name": "T02E13.ipynb",
      "provenance": [],
      "collapsed_sections": []
    },
    "kernelspec": {
      "name": "python3",
      "display_name": "Python 3"
    }
  },
  "cells": [
    {
      "cell_type": "markdown",
      "metadata": {
        "id": "UH3xIgjOopuq"
      },
      "source": [
        "# **T02E13 - Introdução ao Python**\n",
        "## **Aula de Hoje:** Trabalhando com Listas I"
      ]
    },
    {
      "cell_type": "markdown",
      "metadata": {
        "id": "ZXleAueGD1MT"
      },
      "source": [
        "### Análisando Idades\n",
        "\n",
        "\n",
        "* João - 15\n",
        "* Lucia - 20\n",
        "* Pedro - 52\n",
        "* Fernando - 38\n",
        "* Ana - 27\n",
        "* Maria - 42\n",
        "\n"
      ]
    },
    {
      "cell_type": "markdown",
      "metadata": {
        "id": "2MdN_rvOQAdK"
      },
      "source": [
        "### **Exemplo 01)** Criando uma lista com as idades"
      ]
    },
    {
      "cell_type": "code",
      "metadata": {
        "colab": {
          "base_uri": "https://localhost:8080/"
        },
        "id": "el1ksSP8HF5O",
        "outputId": "544515cb-4a0d-4dfb-bee5-de9f67512dd8"
      },
      "source": [
        "[15, 20, 52, 38, 27, 42]"
      ],
      "execution_count": 8,
      "outputs": [
        {
          "output_type": "execute_result",
          "data": {
            "text/plain": [
              "[15, 20, 52, 38, 27, 42]"
            ]
          },
          "metadata": {
            "tags": []
          },
          "execution_count": 8
        }
      ]
    },
    {
      "cell_type": "code",
      "metadata": {
        "id": "Z-_EZDbYP865"
      },
      "source": [
        "lista_idades = [15, 20, 52, 38, 27, 42]"
      ],
      "execution_count": 9,
      "outputs": []
    },
    {
      "cell_type": "code",
      "metadata": {
        "colab": {
          "base_uri": "https://localhost:8080/"
        },
        "id": "NIjnUI4FQDQm",
        "outputId": "646a0c4c-f5ee-4e25-d71a-526b5ecc08b3"
      },
      "source": [
        "print(lista_idades)"
      ],
      "execution_count": 10,
      "outputs": [
        {
          "output_type": "stream",
          "text": [
            "[15, 20, 52, 38, 27, 42]\n"
          ],
          "name": "stdout"
        }
      ]
    },
    {
      "cell_type": "markdown",
      "metadata": {
        "id": "Xthnc3x1EZKp"
      },
      "source": [
        "### **Exemplo 02)** Verificando o tipo do objeto"
      ]
    },
    {
      "cell_type": "code",
      "metadata": {
        "colab": {
          "base_uri": "https://localhost:8080/"
        },
        "id": "COQ5hohwHGXd",
        "outputId": "15e0c5d7-fec7-4dbd-9cb6-dc801cb20057"
      },
      "source": [
        "lista_idades"
      ],
      "execution_count": 11,
      "outputs": [
        {
          "output_type": "execute_result",
          "data": {
            "text/plain": [
              "[15, 20, 52, 38, 27, 42]"
            ]
          },
          "metadata": {
            "tags": []
          },
          "execution_count": 11
        }
      ]
    },
    {
      "cell_type": "code",
      "metadata": {
        "colab": {
          "base_uri": "https://localhost:8080/"
        },
        "id": "h52XPvx5QWu1",
        "outputId": "e5eeb512-e1ed-47a9-d6a8-76a8dea8b52c"
      },
      "source": [
        "type(lista_idades)"
      ],
      "execution_count": 13,
      "outputs": [
        {
          "output_type": "execute_result",
          "data": {
            "text/plain": [
              "list"
            ]
          },
          "metadata": {
            "tags": []
          },
          "execution_count": 13
        }
      ]
    },
    {
      "cell_type": "markdown",
      "metadata": {
        "id": "reeKw2pzEd9A"
      },
      "source": [
        "### **Exemplo 03)** Adicionando um novo item na lista"
      ]
    },
    {
      "cell_type": "code",
      "metadata": {
        "colab": {
          "base_uri": "https://localhost:8080/"
        },
        "id": "7zRU0-K4HG2g",
        "outputId": "132b1525-de78-4dcb-ad27-adc77125b046"
      },
      "source": [
        "lista_idades"
      ],
      "execution_count": 22,
      "outputs": [
        {
          "output_type": "execute_result",
          "data": {
            "text/plain": [
              "[15, 20, 52, 38, 27, 42]"
            ]
          },
          "metadata": {
            "tags": []
          },
          "execution_count": 22
        }
      ]
    },
    {
      "cell_type": "code",
      "metadata": {
        "id": "BAxSklCxQuxk"
      },
      "source": [
        "lista_idades.append(55)"
      ],
      "execution_count": 23,
      "outputs": []
    },
    {
      "cell_type": "code",
      "metadata": {
        "colab": {
          "base_uri": "https://localhost:8080/"
        },
        "id": "rliULIUgQ9bM",
        "outputId": "1caf8f29-2e20-46eb-8290-defc9b14350d"
      },
      "source": [
        "lista_idades"
      ],
      "execution_count": 24,
      "outputs": [
        {
          "output_type": "execute_result",
          "data": {
            "text/plain": [
              "[15, 20, 52, 38, 27, 42, 55]"
            ]
          },
          "metadata": {
            "tags": []
          },
          "execution_count": 24
        }
      ]
    },
    {
      "cell_type": "code",
      "metadata": {
        "colab": {
          "base_uri": "https://localhost:8080/",
          "height": 166
        },
        "id": "JY6k8NDlRby_",
        "outputId": "d89bc8f8-d3f6-4101-a533-1ee77604c127"
      },
      "source": [
        "lista_idades.append(17, 25)"
      ],
      "execution_count": 25,
      "outputs": [
        {
          "output_type": "error",
          "ename": "TypeError",
          "evalue": "ignored",
          "traceback": [
            "\u001b[0;31m---------------------------------------------------------------------------\u001b[0m",
            "\u001b[0;31mTypeError\u001b[0m                                 Traceback (most recent call last)",
            "\u001b[0;32m<ipython-input-25-e1954f9e57af>\u001b[0m in \u001b[0;36m<module>\u001b[0;34m()\u001b[0m\n\u001b[0;32m----> 1\u001b[0;31m \u001b[0mlista_idades\u001b[0m\u001b[0;34m.\u001b[0m\u001b[0mappend\u001b[0m\u001b[0;34m(\u001b[0m\u001b[0;36m17\u001b[0m\u001b[0;34m,\u001b[0m \u001b[0;36m25\u001b[0m\u001b[0;34m)\u001b[0m\u001b[0;34m\u001b[0m\u001b[0;34m\u001b[0m\u001b[0m\n\u001b[0m",
            "\u001b[0;31mTypeError\u001b[0m: append() takes exactly one argument (2 given)"
          ]
        }
      ]
    },
    {
      "cell_type": "code",
      "metadata": {
        "id": "U2ilTIMKRjrn"
      },
      "source": [
        "lista_idades.append(17)\n",
        "lista_idades.append(25)"
      ],
      "execution_count": 26,
      "outputs": []
    },
    {
      "cell_type": "code",
      "metadata": {
        "colab": {
          "base_uri": "https://localhost:8080/"
        },
        "id": "G385_WK8Rn4V",
        "outputId": "e73fbb71-6c88-4825-b412-ffd9d6734af9"
      },
      "source": [
        "lista_idades"
      ],
      "execution_count": 27,
      "outputs": [
        {
          "output_type": "execute_result",
          "data": {
            "text/plain": [
              "[15, 20, 52, 38, 27, 42, 55, 17, 25]"
            ]
          },
          "metadata": {
            "tags": []
          },
          "execution_count": 27
        }
      ]
    },
    {
      "cell_type": "markdown",
      "metadata": {
        "id": "G5KIFVLcEeLI"
      },
      "source": [
        "### **Exemplo 04)** Criando uma lista vazia com a função list() e adicionando itens"
      ]
    },
    {
      "cell_type": "code",
      "metadata": {
        "id": "m0Kd036ZHbDR"
      },
      "source": [
        "lista_semana = list()"
      ],
      "execution_count": 28,
      "outputs": []
    },
    {
      "cell_type": "code",
      "metadata": {
        "colab": {
          "base_uri": "https://localhost:8080/"
        },
        "id": "w1359ViER8f7",
        "outputId": "203dd43b-fcf2-4620-9611-d01deec5dacf"
      },
      "source": [
        "lista_semana"
      ],
      "execution_count": 29,
      "outputs": [
        {
          "output_type": "execute_result",
          "data": {
            "text/plain": [
              "[]"
            ]
          },
          "metadata": {
            "tags": []
          },
          "execution_count": 29
        }
      ]
    },
    {
      "cell_type": "code",
      "metadata": {
        "colab": {
          "base_uri": "https://localhost:8080/"
        },
        "id": "qsVwdOBMR_MC",
        "outputId": "28b79bc4-f89d-4027-90d9-c33a668f9d9c"
      },
      "source": [
        "type(lista_semana)"
      ],
      "execution_count": 30,
      "outputs": [
        {
          "output_type": "execute_result",
          "data": {
            "text/plain": [
              "list"
            ]
          },
          "metadata": {
            "tags": []
          },
          "execution_count": 30
        }
      ]
    },
    {
      "cell_type": "code",
      "metadata": {
        "id": "uP_gFGX3SDH_"
      },
      "source": [
        "lista_semana.append('Segunda-Feira')\n",
        "lista_semana.append('Terça-Feira')"
      ],
      "execution_count": 31,
      "outputs": []
    },
    {
      "cell_type": "code",
      "metadata": {
        "colab": {
          "base_uri": "https://localhost:8080/"
        },
        "id": "-WpcqS4gSKJ_",
        "outputId": "80e15c59-71f3-44b7-9094-fd08e7d3ae17"
      },
      "source": [
        "lista_semana"
      ],
      "execution_count": 32,
      "outputs": [
        {
          "output_type": "execute_result",
          "data": {
            "text/plain": [
              "['Segunda-Feira', 'Terça-Feira']"
            ]
          },
          "metadata": {
            "tags": []
          },
          "execution_count": 32
        }
      ]
    },
    {
      "cell_type": "code",
      "metadata": {
        "id": "UPXUiBX0SRMV"
      },
      "source": [
        "lista_mes = []"
      ],
      "execution_count": 33,
      "outputs": []
    },
    {
      "cell_type": "code",
      "metadata": {
        "colab": {
          "base_uri": "https://localhost:8080/"
        },
        "id": "AtI1kEQGSVL0",
        "outputId": "5339577e-bdde-4571-86a2-183d4928983c"
      },
      "source": [
        "lista_mes"
      ],
      "execution_count": 34,
      "outputs": [
        {
          "output_type": "execute_result",
          "data": {
            "text/plain": [
              "[]"
            ]
          },
          "metadata": {
            "tags": []
          },
          "execution_count": 34
        }
      ]
    },
    {
      "cell_type": "code",
      "metadata": {
        "colab": {
          "base_uri": "https://localhost:8080/"
        },
        "id": "Zg_kMgP8SXV4",
        "outputId": "e277b16a-4f8e-4345-9257-f61890fd336a"
      },
      "source": [
        "type(lista_mes)"
      ],
      "execution_count": 35,
      "outputs": [
        {
          "output_type": "execute_result",
          "data": {
            "text/plain": [
              "list"
            ]
          },
          "metadata": {
            "tags": []
          },
          "execution_count": 35
        }
      ]
    },
    {
      "cell_type": "code",
      "metadata": {
        "id": "3r-b7t_RSbUX"
      },
      "source": [
        "lista_mes.append('Janeiro')\n",
        "lista_mes.append('Fevereiro')"
      ],
      "execution_count": 36,
      "outputs": []
    },
    {
      "cell_type": "code",
      "metadata": {
        "colab": {
          "base_uri": "https://localhost:8080/"
        },
        "id": "Q8eVQBydShEw",
        "outputId": "031adc41-b9a4-433c-f950-889e8946ae99"
      },
      "source": [
        "lista_mes"
      ],
      "execution_count": 37,
      "outputs": [
        {
          "output_type": "execute_result",
          "data": {
            "text/plain": [
              "['Janeiro', 'Fevereiro']"
            ]
          },
          "metadata": {
            "tags": []
          },
          "execution_count": 37
        }
      ]
    },
    {
      "cell_type": "markdown",
      "metadata": {
        "id": "rgmPSzbAo5R2"
      },
      "source": [
        "-----\n",
        "\n",
        "## **Análise de Dados Brasil**!\n",
        "***Um jeito diferente de aprender Análise de Dados!***\n",
        "\n",
        "[Youtube](https://www.youtube.com/channel/UC1TUZx4WcPgKkcXymqL1KYA) • [GitHub](https://github.com/adadosbrasil) • [Instagram](https://www.instagram.com/adadosbrasil/) • [Twitter](https://twitter.com/adadosbrasil/) • [LinkedIn](https://www.linkedin.com/company/adadosbrasil/)\n",
        "\n"
      ]
    }
  ]
}