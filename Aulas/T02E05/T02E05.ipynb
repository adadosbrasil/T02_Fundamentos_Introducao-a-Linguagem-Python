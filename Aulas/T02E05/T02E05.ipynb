{
  "nbformat": 4,
  "nbformat_minor": 0,
  "metadata": {
    "colab": {
      "name": "T02E05.ipynb",
      "provenance": [],
      "collapsed_sections": []
    },
    "kernelspec": {
      "name": "python3",
      "display_name": "Python 3"
    }
  },
  "cells": [
    {
      "cell_type": "markdown",
      "metadata": {
        "id": "8FH1fXysEgMA",
        "colab_type": "text"
      },
      "source": [
        "# **T02E05 - Introdução ao Python**\n",
        "## **Aula de Hoje:** Tipos Primitivos"
      ]
    },
    {
      "cell_type": "markdown",
      "metadata": {
        "id": "HjOIs7xOPT57",
        "colab_type": "text"
      },
      "source": [
        "## **Tipos Primitivos**\n",
        "Os **tipos primitivos** definem o qual é o tipo de dado que estamos trabalhando, para saber qual o tipo de um dado utilizamos a função **type()**"
      ]
    },
    {
      "cell_type": "markdown",
      "metadata": {
        "id": "oqCiEXLhQF4K",
        "colab_type": "text"
      },
      "source": [
        "#### **Str - Strings**\n",
        "Dados do tipo texto"
      ]
    },
    {
      "cell_type": "code",
      "metadata": {
        "id": "z4wDMeR6QKZi",
        "colab_type": "code",
        "colab": {}
      },
      "source": [
        "nome = 'Gleisson Bispo'"
      ],
      "execution_count": 1,
      "outputs": []
    },
    {
      "cell_type": "code",
      "metadata": {
        "id": "g8iEyhuUtKf4",
        "colab_type": "code",
        "colab": {
          "base_uri": "https://localhost:8080/",
          "height": 35
        },
        "outputId": "8c905f40-8e6e-4796-81dd-578f69f3c31c"
      },
      "source": [
        "print(nome)"
      ],
      "execution_count": 2,
      "outputs": [
        {
          "output_type": "stream",
          "text": [
            "Gleisson Bispo\n"
          ],
          "name": "stdout"
        }
      ]
    },
    {
      "cell_type": "code",
      "metadata": {
        "id": "4KHt7ip9tO01",
        "colab_type": "code",
        "colab": {
          "base_uri": "https://localhost:8080/",
          "height": 35
        },
        "outputId": "0cfa70b8-372f-4690-ee5a-5db951158dc9"
      },
      "source": [
        "print(type(nome))"
      ],
      "execution_count": 4,
      "outputs": [
        {
          "output_type": "stream",
          "text": [
            "<class 'str'>\n"
          ],
          "name": "stdout"
        }
      ]
    },
    {
      "cell_type": "code",
      "metadata": {
        "id": "JITDjwVatdoe",
        "colab_type": "code",
        "colab": {}
      },
      "source": [
        "numero = '10'"
      ],
      "execution_count": 5,
      "outputs": []
    },
    {
      "cell_type": "code",
      "metadata": {
        "id": "c8BZBnlLtf8t",
        "colab_type": "code",
        "colab": {
          "base_uri": "https://localhost:8080/",
          "height": 35
        },
        "outputId": "aa7d0024-bdf4-494c-f148-3a79f97f26f5"
      },
      "source": [
        "print(type(numero))"
      ],
      "execution_count": 8,
      "outputs": [
        {
          "output_type": "stream",
          "text": [
            "<class 'str'>\n"
          ],
          "name": "stdout"
        }
      ]
    },
    {
      "cell_type": "markdown",
      "metadata": {
        "id": "fryGzdxGQFrg",
        "colab_type": "text"
      },
      "source": [
        "#### **Int - Inteiros** \n",
        "Dados do tipo Números Inteiros"
      ]
    },
    {
      "cell_type": "code",
      "metadata": {
        "id": "mUcloFtpe2al",
        "colab_type": "code",
        "colab": {}
      },
      "source": [
        "numero = 10"
      ],
      "execution_count": 9,
      "outputs": []
    },
    {
      "cell_type": "code",
      "metadata": {
        "id": "95aDcG1Gt0kA",
        "colab_type": "code",
        "colab": {
          "base_uri": "https://localhost:8080/",
          "height": 35
        },
        "outputId": "87a64e71-e348-46f4-d28f-08954e366fee"
      },
      "source": [
        "type(numero)"
      ],
      "execution_count": 10,
      "outputs": [
        {
          "output_type": "execute_result",
          "data": {
            "text/plain": [
              "int"
            ]
          },
          "metadata": {
            "tags": []
          },
          "execution_count": 10
        }
      ]
    },
    {
      "cell_type": "code",
      "metadata": {
        "id": "Gpih7FPat2Bv",
        "colab_type": "code",
        "colab": {
          "base_uri": "https://localhost:8080/",
          "height": 35
        },
        "outputId": "5ca07f57-9cd5-4a37-ba8f-460ce3289b4b"
      },
      "source": [
        "type(-50)"
      ],
      "execution_count": 11,
      "outputs": [
        {
          "output_type": "execute_result",
          "data": {
            "text/plain": [
              "int"
            ]
          },
          "metadata": {
            "tags": []
          },
          "execution_count": 11
        }
      ]
    },
    {
      "cell_type": "code",
      "metadata": {
        "id": "EJKx3faGt6H2",
        "colab_type": "code",
        "colab": {
          "base_uri": "https://localhost:8080/",
          "height": 35
        },
        "outputId": "77a5a0d9-7009-4a08-8c88-b478baec827b"
      },
      "source": [
        "type(0)"
      ],
      "execution_count": 12,
      "outputs": [
        {
          "output_type": "execute_result",
          "data": {
            "text/plain": [
              "int"
            ]
          },
          "metadata": {
            "tags": []
          },
          "execution_count": 12
        }
      ]
    },
    {
      "cell_type": "markdown",
      "metadata": {
        "id": "Ue8pyALBQiY5",
        "colab_type": "text"
      },
      "source": [
        "#### **Float - Flutuantes** \n",
        "Dados do tipo Números de Ponto Flutuante ou Números Reais"
      ]
    },
    {
      "cell_type": "code",
      "metadata": {
        "id": "vqP2l0iZQqOQ",
        "colab_type": "code",
        "colab": {}
      },
      "source": [
        "temp = 36.5"
      ],
      "execution_count": 13,
      "outputs": []
    },
    {
      "cell_type": "code",
      "metadata": {
        "id": "ZDfI2dCluDH8",
        "colab_type": "code",
        "colab": {
          "base_uri": "https://localhost:8080/",
          "height": 35
        },
        "outputId": "6fd4cb52-3926-4344-f20d-64de3fca96ad"
      },
      "source": [
        "type(temp)"
      ],
      "execution_count": 14,
      "outputs": [
        {
          "output_type": "execute_result",
          "data": {
            "text/plain": [
              "float"
            ]
          },
          "metadata": {
            "tags": []
          },
          "execution_count": 14
        }
      ]
    },
    {
      "cell_type": "code",
      "metadata": {
        "id": "x8C5Od41uF5x",
        "colab_type": "code",
        "colab": {}
      },
      "source": [
        "num = 10/5"
      ],
      "execution_count": 15,
      "outputs": []
    },
    {
      "cell_type": "code",
      "metadata": {
        "id": "aPDeYrGcuOmW",
        "colab_type": "code",
        "colab": {
          "base_uri": "https://localhost:8080/",
          "height": 35
        },
        "outputId": "8e3ab11d-215b-4d04-ab5e-b861e825ead5"
      },
      "source": [
        "num"
      ],
      "execution_count": 17,
      "outputs": [
        {
          "output_type": "execute_result",
          "data": {
            "text/plain": [
              "2.0"
            ]
          },
          "metadata": {
            "tags": []
          },
          "execution_count": 17
        }
      ]
    },
    {
      "cell_type": "code",
      "metadata": {
        "id": "V75hqnHvuIg1",
        "colab_type": "code",
        "colab": {
          "base_uri": "https://localhost:8080/",
          "height": 35
        },
        "outputId": "393b4e72-4787-4933-be6b-460a0fb064aa"
      },
      "source": [
        "print(type(num))"
      ],
      "execution_count": 16,
      "outputs": [
        {
          "output_type": "stream",
          "text": [
            "<class 'float'>\n"
          ],
          "name": "stdout"
        }
      ]
    },
    {
      "cell_type": "markdown",
      "metadata": {
        "id": "dhuyUYWEQs2U",
        "colab_type": "text"
      },
      "source": [
        "#### **Bool - Booleanos** \n",
        "Dados do tipo Booleanos - True ou False"
      ]
    },
    {
      "cell_type": "code",
      "metadata": {
        "id": "j1UXBUfyQyub",
        "colab_type": "code",
        "colab": {}
      },
      "source": [
        "ver = True\n",
        "fal = False"
      ],
      "execution_count": 18,
      "outputs": []
    },
    {
      "cell_type": "code",
      "metadata": {
        "id": "V0ijmwPxugC0",
        "colab_type": "code",
        "colab": {
          "base_uri": "https://localhost:8080/",
          "height": 52
        },
        "outputId": "d3dc0cb3-d9f4-45ef-c855-73397985c2f8"
      },
      "source": [
        "print(type(ver))\n",
        "print(type(fal))"
      ],
      "execution_count": 19,
      "outputs": [
        {
          "output_type": "stream",
          "text": [
            "<class 'bool'>\n",
            "<class 'bool'>\n"
          ],
          "name": "stdout"
        }
      ]
    },
    {
      "cell_type": "markdown",
      "metadata": {
        "id": "SV0abIT2Q6sV",
        "colab_type": "text"
      },
      "source": [
        "### **Convertendo tipos primitivos**\n",
        "Para converter os dados em outros tipos primitivos, utilizamos as funções:\n",
        "\n",
        "*   **Str()** - Para converter para String;\n",
        "*   **Int()** - Para converter para Inteiro;\n",
        "*   **Float()** - Para converter para Flutuante;\n",
        "*   **Bool()** - Para converter para Booleano.\n",
        "\n"
      ]
    },
    {
      "cell_type": "markdown",
      "metadata": {
        "id": "pPLZig2tR9Ug",
        "colab_type": "text"
      },
      "source": [
        "Convertendo dados para **String**"
      ]
    },
    {
      "cell_type": "code",
      "metadata": {
        "id": "wGCiG-qxSNir",
        "colab_type": "code",
        "colab": {
          "base_uri": "https://localhost:8080/",
          "height": 35
        },
        "outputId": "4820e19f-6da9-4caa-e7a7-e0986fcd1d9f"
      },
      "source": [
        "inteiro = 10\n",
        "print(type(inteiro))"
      ],
      "execution_count": 20,
      "outputs": [
        {
          "output_type": "stream",
          "text": [
            "<class 'int'>\n"
          ],
          "name": "stdout"
        }
      ]
    },
    {
      "cell_type": "code",
      "metadata": {
        "id": "qcseqGVBvjmd",
        "colab_type": "code",
        "colab": {}
      },
      "source": [
        "inteiro = str(inteiro)"
      ],
      "execution_count": 22,
      "outputs": []
    },
    {
      "cell_type": "code",
      "metadata": {
        "id": "Rp8QMMIIvsK-",
        "colab_type": "code",
        "colab": {
          "base_uri": "https://localhost:8080/",
          "height": 35
        },
        "outputId": "75b121e1-5aa1-42e2-dc6a-11914d2722f9"
      },
      "source": [
        "type(inteiro)"
      ],
      "execution_count": 25,
      "outputs": [
        {
          "output_type": "execute_result",
          "data": {
            "text/plain": [
              "str"
            ]
          },
          "metadata": {
            "tags": []
          },
          "execution_count": 25
        }
      ]
    },
    {
      "cell_type": "markdown",
      "metadata": {
        "id": "ivASjS2fR-Y6",
        "colab_type": "text"
      },
      "source": [
        "Convertendo dados para **Inteiro**"
      ]
    },
    {
      "cell_type": "code",
      "metadata": {
        "id": "zS9aJ3o7SOEN",
        "colab_type": "code",
        "colab": {
          "base_uri": "https://localhost:8080/",
          "height": 35
        },
        "outputId": "4b0751ff-4ac6-47a6-fa73-787107c41bb8"
      },
      "source": [
        "valor = '50'\n",
        "print(type(valor))"
      ],
      "execution_count": 27,
      "outputs": [
        {
          "output_type": "stream",
          "text": [
            "<class 'str'>\n"
          ],
          "name": "stdout"
        }
      ]
    },
    {
      "cell_type": "code",
      "metadata": {
        "id": "3z69eInGwPz6",
        "colab_type": "code",
        "colab": {
          "base_uri": "https://localhost:8080/",
          "height": 35
        },
        "outputId": "67e0032e-fc54-457b-d408-a03b70f63f64"
      },
      "source": [
        "type(int(valor))"
      ],
      "execution_count": 29,
      "outputs": [
        {
          "output_type": "execute_result",
          "data": {
            "text/plain": [
              "int"
            ]
          },
          "metadata": {
            "tags": []
          },
          "execution_count": 29
        }
      ]
    },
    {
      "cell_type": "code",
      "metadata": {
        "id": "IxsD10RqwdLe",
        "colab_type": "code",
        "colab": {}
      },
      "source": [
        "valor = int(valor)"
      ],
      "execution_count": 32,
      "outputs": []
    },
    {
      "cell_type": "code",
      "metadata": {
        "id": "q9ZxT4NSwXhA",
        "colab_type": "code",
        "colab": {
          "base_uri": "https://localhost:8080/",
          "height": 35
        },
        "outputId": "06e026c6-8901-4a87-8cbd-682515244e13"
      },
      "source": [
        "type(valor)"
      ],
      "execution_count": 33,
      "outputs": [
        {
          "output_type": "execute_result",
          "data": {
            "text/plain": [
              "int"
            ]
          },
          "metadata": {
            "tags": []
          },
          "execution_count": 33
        }
      ]
    },
    {
      "cell_type": "markdown",
      "metadata": {
        "id": "rx2evGpwR-DZ",
        "colab_type": "text"
      },
      "source": [
        "Convertendo dados para **Flutuante**"
      ]
    },
    {
      "cell_type": "code",
      "metadata": {
        "id": "4ZWcCyssSOgY",
        "colab_type": "code",
        "colab": {
          "base_uri": "https://localhost:8080/",
          "height": 35
        },
        "outputId": "3476fc7c-7151-481d-d01a-0c8d50189ff0"
      },
      "source": [
        "idade = 26\n",
        "print(type(idade))"
      ],
      "execution_count": 34,
      "outputs": [
        {
          "output_type": "stream",
          "text": [
            "<class 'int'>\n"
          ],
          "name": "stdout"
        }
      ]
    },
    {
      "cell_type": "code",
      "metadata": {
        "id": "Q1iJu7VgwvIN",
        "colab_type": "code",
        "colab": {}
      },
      "source": [
        "idade = float(idade)"
      ],
      "execution_count": 35,
      "outputs": []
    },
    {
      "cell_type": "code",
      "metadata": {
        "id": "NFr0OWXTwzS6",
        "colab_type": "code",
        "colab": {
          "base_uri": "https://localhost:8080/",
          "height": 35
        },
        "outputId": "3a1d40b0-45b8-4738-c98c-af7639789e88"
      },
      "source": [
        "type(idade)"
      ],
      "execution_count": 36,
      "outputs": [
        {
          "output_type": "execute_result",
          "data": {
            "text/plain": [
              "float"
            ]
          },
          "metadata": {
            "tags": []
          },
          "execution_count": 36
        }
      ]
    },
    {
      "cell_type": "code",
      "metadata": {
        "id": "hDgBLl09w1b3",
        "colab_type": "code",
        "colab": {
          "base_uri": "https://localhost:8080/",
          "height": 35
        },
        "outputId": "7ed4b1c8-1233-4606-ee13-d468835d5aee"
      },
      "source": [
        "idade"
      ],
      "execution_count": 37,
      "outputs": [
        {
          "output_type": "execute_result",
          "data": {
            "text/plain": [
              "26.0"
            ]
          },
          "metadata": {
            "tags": []
          },
          "execution_count": 37
        }
      ]
    },
    {
      "cell_type": "code",
      "metadata": {
        "id": "N_x1gedqw6e5",
        "colab_type": "code",
        "colab": {}
      },
      "source": [
        "temp = 36.9"
      ],
      "execution_count": 42,
      "outputs": []
    },
    {
      "cell_type": "code",
      "metadata": {
        "id": "fzCr9Pf3w8Rs",
        "colab_type": "code",
        "colab": {
          "base_uri": "https://localhost:8080/",
          "height": 35
        },
        "outputId": "5107e29f-7da6-4629-a884-6d1a7ddaf63b"
      },
      "source": [
        "type(temp)"
      ],
      "execution_count": 39,
      "outputs": [
        {
          "output_type": "execute_result",
          "data": {
            "text/plain": [
              "float"
            ]
          },
          "metadata": {
            "tags": []
          },
          "execution_count": 39
        }
      ]
    },
    {
      "cell_type": "code",
      "metadata": {
        "id": "PDaLHQmEw_pb",
        "colab_type": "code",
        "colab": {
          "base_uri": "https://localhost:8080/",
          "height": 35
        },
        "outputId": "d7c2dcb9-e68b-4bed-b4e4-e666f03878ca"
      },
      "source": [
        "temp = int(temp)\n",
        "print(temp)"
      ],
      "execution_count": 43,
      "outputs": [
        {
          "output_type": "stream",
          "text": [
            "36\n"
          ],
          "name": "stdout"
        }
      ]
    },
    {
      "cell_type": "markdown",
      "metadata": {
        "id": "UBJikupIR922",
        "colab_type": "text"
      },
      "source": [
        "Convertendo dados para **Booleano**"
      ]
    },
    {
      "cell_type": "code",
      "metadata": {
        "id": "lyr7HLFNi3QI",
        "colab_type": "code",
        "colab": {
          "base_uri": "https://localhost:8080/",
          "height": 35
        },
        "outputId": "053a66dc-97c1-4fa0-ce3d-9df078222bfb"
      },
      "source": [
        "bool(0)"
      ],
      "execution_count": 44,
      "outputs": [
        {
          "output_type": "execute_result",
          "data": {
            "text/plain": [
              "False"
            ]
          },
          "metadata": {
            "tags": []
          },
          "execution_count": 44
        }
      ]
    },
    {
      "cell_type": "code",
      "metadata": {
        "id": "8PbTW_GfxShK",
        "colab_type": "code",
        "colab": {
          "base_uri": "https://localhost:8080/",
          "height": 35
        },
        "outputId": "8a70976e-672f-4710-b1fb-fdf42f0afc80"
      },
      "source": [
        "bool()"
      ],
      "execution_count": 45,
      "outputs": [
        {
          "output_type": "execute_result",
          "data": {
            "text/plain": [
              "False"
            ]
          },
          "metadata": {
            "tags": []
          },
          "execution_count": 45
        }
      ]
    },
    {
      "cell_type": "code",
      "metadata": {
        "id": "EQIZ4pEvxXvD",
        "colab_type": "code",
        "colab": {
          "base_uri": "https://localhost:8080/",
          "height": 35
        },
        "outputId": "874f9be4-8e1b-469b-d22e-1c51ccdd7e06"
      },
      "source": [
        "bool(5)"
      ],
      "execution_count": 46,
      "outputs": [
        {
          "output_type": "execute_result",
          "data": {
            "text/plain": [
              "True"
            ]
          },
          "metadata": {
            "tags": []
          },
          "execution_count": 46
        }
      ]
    },
    {
      "cell_type": "code",
      "metadata": {
        "id": "z_SwaD5xxZkK",
        "colab_type": "code",
        "colab": {
          "base_uri": "https://localhost:8080/",
          "height": 35
        },
        "outputId": "397f2982-642a-4f1d-fc86-ddc9fca87588"
      },
      "source": [
        "bool(1)"
      ],
      "execution_count": 47,
      "outputs": [
        {
          "output_type": "execute_result",
          "data": {
            "text/plain": [
              "True"
            ]
          },
          "metadata": {
            "tags": []
          },
          "execution_count": 47
        }
      ]
    },
    {
      "cell_type": "code",
      "metadata": {
        "id": "YtIUyzv9xbDo",
        "colab_type": "code",
        "colab": {
          "base_uri": "https://localhost:8080/",
          "height": 35
        },
        "outputId": "f62c5c9f-fd25-4f94-b5bd-2761b739bb50"
      },
      "source": [
        "bool('Gleisson')"
      ],
      "execution_count": 48,
      "outputs": [
        {
          "output_type": "execute_result",
          "data": {
            "text/plain": [
              "True"
            ]
          },
          "metadata": {
            "tags": []
          },
          "execution_count": 48
        }
      ]
    },
    {
      "cell_type": "markdown",
      "metadata": {
        "id": "hL4q38TQST8o",
        "colab_type": "text"
      },
      "source": [
        "## **Utilizando Input e Conversão de Tipos Primitivos**"
      ]
    },
    {
      "cell_type": "markdown",
      "metadata": {
        "id": "Wpywj6ErSfCJ",
        "colab_type": "text"
      },
      "source": [
        "1) Solicitando dois números para o usuário, e retornando o valor da soma na tela:"
      ]
    },
    {
      "cell_type": "code",
      "metadata": {
        "id": "0VAXCr6iQ6QL",
        "colab_type": "code",
        "colab": {
          "base_uri": "https://localhost:8080/",
          "height": 69
        },
        "outputId": "1701e454-1ea9-43c8-f157-1348b5edd75c"
      },
      "source": [
        "num_01 = int(input('Digite o primeiro valor: '))\n",
        "num_02 = int(input('Digite o segundo valor: '))\n",
        "\n",
        "soma = num_01 + num_02\n",
        "\n",
        "print('A soma entre', num_01, 'e', num_02, 'é igual a ', soma)"
      ],
      "execution_count": 51,
      "outputs": [
        {
          "output_type": "stream",
          "text": [
            "Digite o primeiro valor: 10\n",
            "Digite o segundo valor: 20\n",
            "A soma entre 10 e 20 é igual a  30\n"
          ],
          "name": "stdout"
        }
      ]
    },
    {
      "cell_type": "markdown",
      "metadata": {
        "id": "HFZnLA7YSs_Q",
        "colab_type": "text"
      },
      "source": [
        "2) Solicitando o ano de nascimento do usuário e o ano atual e retornar a idade:"
      ]
    },
    {
      "cell_type": "code",
      "metadata": {
        "id": "PSAl4eG-StUl",
        "colab_type": "code",
        "colab": {
          "base_uri": "https://localhost:8080/",
          "height": 87
        },
        "outputId": "cd27af64-ab04-4a68-bfe5-18e215ed3992"
      },
      "source": [
        "ano_atual = int(input('Qual o ano atual?: '))\n",
        "ano_nasc = int(input('Qual ano voce nasceu?: '))\n",
        "idade = ano_atual - ano_nasc\n",
        "\n",
        "print('----- Calculo de Idade -------')\n",
        "print('A sua idade é:', idade)"
      ],
      "execution_count": 54,
      "outputs": [
        {
          "output_type": "stream",
          "text": [
            "Qual o ano atual?: 2056\n",
            "Qual ano voce nasceu?: 1994\n",
            "----- Calculo de Idade -------\n",
            "A sua idade é: 62\n"
          ],
          "name": "stdout"
        }
      ]
    },
    {
      "cell_type": "markdown",
      "metadata": {
        "id": "DhgXrMivS9dT",
        "colab_type": "text"
      },
      "source": [
        "3) Solicitando o nome do usuário, nota da primeira prova, nota da segunda prova e retornando a média das notas e o nome do usuário:"
      ]
    },
    {
      "cell_type": "code",
      "metadata": {
        "id": "K4B-V1k4TJ93",
        "colab_type": "code",
        "colab": {
          "base_uri": "https://localhost:8080/",
          "height": 104
        },
        "outputId": "cf804023-a3ae-4e38-d9f0-08108b9d7455"
      },
      "source": [
        "nome = input('Digite seu nome: ')\n",
        "nota_01 = float(input('Digite a nota da primeira prova: '))\n",
        "nota_02 = float(input('Digite a nota da segunda prova: '))\n",
        "media_provas = (nota_01 + nota_02) / 2\n",
        "\n",
        "print('======= Calculando a sua média! ==========')\n",
        "print('Olá', nome, 'a média entre as notas', nota_01, 'e', nota_02, 'é igual a', media_provas)"
      ],
      "execution_count": 57,
      "outputs": [
        {
          "output_type": "stream",
          "text": [
            "Digite seu nome: Marcelo\n",
            "Digite a nota da primeira prova: 10\n",
            "Digite a nota da segunda prova: 2\n",
            "======= Calculando a sua média! ==========\n",
            "Olá Marcelo a média entre as notas 10.0 e 2.0 é igual a 6.0\n"
          ],
          "name": "stdout"
        }
      ]
    },
    {
      "cell_type": "markdown",
      "metadata": {
        "id": "pxdFUyrGTKfh",
        "colab_type": "text"
      },
      "source": [
        "**Desafio**: Solicitando um número para o usuário e criando a tabuada do número informado:"
      ]
    },
    {
      "cell_type": "code",
      "metadata": {
        "id": "BFLyqzJfTSNh",
        "colab_type": "code",
        "colab": {}
      },
      "source": [
        "#Quero ver a sua solução meu querido webaluno!!"
      ],
      "execution_count": null,
      "outputs": []
    },
    {
      "cell_type": "markdown",
      "metadata": {
        "id": "aAmrHDj2TbeX",
        "colab_type": "text"
      },
      "source": [
        "-----\n",
        "\n",
        "## **Análise de Dados Brasil**!\n",
        "***Um jeito diferente de aprender Análise de Dados!***\n",
        "\n",
        "[Youtube](https://www.youtube.com/channel/UC1TUZx4WcPgKkcXymqL1KYA) • [GitHub](https://github.com/adadosbrasil) • [Instagram](https://www.instagram.com/adadosbrasil/) • [Twitter](https://twitter.com/adadosbrasil/) • [LinkedIn](https://www.linkedin.com/company/adadosbrasil/)\n",
        "\n"
      ]
    }
  ]
}