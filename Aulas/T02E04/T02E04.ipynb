{
  "nbformat": 4,
  "nbformat_minor": 0,
  "metadata": {
    "colab": {
      "name": "T02E04.ipynb",
      "provenance": [],
      "collapsed_sections": []
    },
    "kernelspec": {
      "name": "python3",
      "display_name": "Python 3"
    }
  },
  "cells": [
    {
      "cell_type": "markdown",
      "metadata": {
        "id": "8FH1fXysEgMA",
        "colab_type": "text"
      },
      "source": [
        "# **T02E04 - Introdução ao Python**\n",
        "## **Aula de Hoje:** Inputs do Usuário"
      ]
    },
    {
      "cell_type": "markdown",
      "metadata": {
        "id": "9E7saCPrNjq2",
        "colab_type": "text"
      },
      "source": [
        "## **Input do Usuário**\n",
        "Para solicitar um input do usuário, utilizamos a função **input()**."
      ]
    },
    {
      "cell_type": "markdown",
      "metadata": {
        "id": "fJ_g18GTNopf",
        "colab_type": "text"
      },
      "source": [
        "1) Solicitando nome do usuário e imprimindo valor na tela:"
      ]
    },
    {
      "cell_type": "code",
      "metadata": {
        "id": "pzbFH4EsNjMB",
        "colab_type": "code",
        "colab": {
          "base_uri": "https://localhost:8080/",
          "height": 35
        },
        "outputId": "8d85fea4-756b-4a32-8ed1-68ac1410d971"
      },
      "source": [
        "nome = input('Digite o seu nome: ')"
      ],
      "execution_count": 3,
      "outputs": [
        {
          "output_type": "stream",
          "text": [
            "Digite o seu nome: Gleisson Bispo\n"
          ],
          "name": "stdout"
        }
      ]
    },
    {
      "cell_type": "code",
      "metadata": {
        "id": "lrR7Rzy72BYK",
        "colab_type": "code",
        "colab": {
          "base_uri": "https://localhost:8080/",
          "height": 35
        },
        "outputId": "fc580f00-5a8d-4c1d-c823-acce433949f8"
      },
      "source": [
        "nome"
      ],
      "execution_count": 4,
      "outputs": [
        {
          "output_type": "execute_result",
          "data": {
            "application/vnd.google.colaboratory.intrinsic+json": {
              "type": "string"
            },
            "text/plain": [
              "'Gleisson Bispo'"
            ]
          },
          "metadata": {
            "tags": []
          },
          "execution_count": 4
        }
      ]
    },
    {
      "cell_type": "code",
      "metadata": {
        "id": "LXblWWrY2Cvj",
        "colab_type": "code",
        "colab": {
          "base_uri": "https://localhost:8080/",
          "height": 35
        },
        "outputId": "ed80bb1d-e4b8-48b4-a5c4-41fe27094b28"
      },
      "source": [
        "print(nome)"
      ],
      "execution_count": 5,
      "outputs": [
        {
          "output_type": "stream",
          "text": [
            "Gleisson Bispo\n"
          ],
          "name": "stdout"
        }
      ]
    },
    {
      "cell_type": "code",
      "metadata": {
        "id": "4nFIOKps2FYO",
        "colab_type": "code",
        "colab": {
          "base_uri": "https://localhost:8080/",
          "height": 52
        },
        "outputId": "fc0d92ab-7f7b-4427-bb6c-f72c55df3c58"
      },
      "source": [
        "nome = input('Digite seu nome: ')\n",
        "print(nome)"
      ],
      "execution_count": 6,
      "outputs": [
        {
          "output_type": "stream",
          "text": [
            "Digite seu nome: Pedro Silva\n",
            "Pedro Silva\n"
          ],
          "name": "stdout"
        }
      ]
    },
    {
      "cell_type": "markdown",
      "metadata": {
        "id": "2t1JXDTnOSL5",
        "colab_type": "text"
      },
      "source": [
        "2) Solicitando nome do usuário e imprimindo uma mensagem personalizada:"
      ]
    },
    {
      "cell_type": "code",
      "metadata": {
        "id": "kgVVVyEwOYAD",
        "colab_type": "code",
        "colab": {
          "base_uri": "https://localhost:8080/",
          "height": 52
        },
        "outputId": "a1406594-0c60-4baf-ef4b-eab36199cfe2"
      },
      "source": [
        "nome = input('Digite seu nome: ')\n",
        "print('Olá, tenha um bom dia', nome)"
      ],
      "execution_count": 7,
      "outputs": [
        {
          "output_type": "stream",
          "text": [
            "Digite seu nome: Gleisson\n",
            "Olá, tenha um bom dia Gleisson\n"
          ],
          "name": "stdout"
        }
      ]
    },
    {
      "cell_type": "markdown",
      "metadata": {
        "id": "dBMJ7t6LOcgX",
        "colab_type": "text"
      },
      "source": [
        "3) Solicitando nome do usuário, e criando uma mensagem personalizada com a data:"
      ]
    },
    {
      "cell_type": "code",
      "metadata": {
        "id": "rrwJ85kVOovN",
        "colab_type": "code",
        "colab": {
          "base_uri": "https://localhost:8080/",
          "height": 52
        },
        "outputId": "da8c85d8-8f01-4f39-8d25-c11a6a37360d"
      },
      "source": [
        "dia_da_semana = 'Segunda-Feira'\n",
        "nome = input('Olá, qual o seu nome?: ')\n",
        "print('Seja bem vindo', nome, 'tenha uma ótima', dia_da_semana)"
      ],
      "execution_count": 8,
      "outputs": [
        {
          "output_type": "stream",
          "text": [
            "Olá, qual o seu nome?: Gleisson\n",
            "Seja bem vindo Gleisson tenha uma ótima Segunda-Feira\n"
          ],
          "name": "stdout"
        }
      ]
    },
    {
      "cell_type": "markdown",
      "metadata": {
        "id": "XFHi8BClvqBQ",
        "colab_type": "text"
      },
      "source": [
        "4) Solicitando cidade, dia, mes e ano e crie uma cabeçalho personalizada:"
      ]
    },
    {
      "cell_type": "code",
      "metadata": {
        "id": "qo5j0yjHvoVT",
        "colab_type": "code",
        "colab": {
          "base_uri": "https://localhost:8080/",
          "height": 121
        },
        "outputId": "c3e8a971-dddf-4356-9c8d-09d75c3490ce"
      },
      "source": [
        "cidade = input('Digite a sua cidade: ')\n",
        "dia = input('Digite o dia de hoje: ')\n",
        "mes = input('Digite o mes que estamos: ')\n",
        "ano = input('Digite o ano que estamos: ')\n",
        "\n",
        "print('- Aqui esta o seu cabelho personalizado - ')\n",
        "#Diadema, 07 de Setembro de 2020\n",
        "print(cidade, ',', dia, 'de', mes, 'de', ano)"
      ],
      "execution_count": 9,
      "outputs": [
        {
          "output_type": "stream",
          "text": [
            "Digite a sua cidade: Diadema\n",
            "Digite o dia de hoje: 07\n",
            "Digite o mes que estamos: Setembro\n",
            "Digite o ano que estamos: 2020\n",
            "- Aqui esta o seu cabelho personalizado - \n",
            "Diadema , 07 de Setembro de 2020\n"
          ],
          "name": "stdout"
        }
      ]
    },
    {
      "cell_type": "markdown",
      "metadata": {
        "id": "Vtj7JJITvY-k",
        "colab_type": "text"
      },
      "source": [
        "5) Solicitando dois números para o usuário, e retornando o valor da soma na tela:"
      ]
    },
    {
      "cell_type": "code",
      "metadata": {
        "id": "WMWWNWTfvaPA",
        "colab_type": "code",
        "colab": {
          "base_uri": "https://localhost:8080/",
          "height": 69
        },
        "outputId": "de3522bf-efcf-4669-b075-7295a0b05ae8"
      },
      "source": [
        "numero_01 = input('Digite o primeiro número: ')\n",
        "numero_02 = input('Digite o segundo número: ')\n",
        "\n",
        "soma = numero_01 + numero_02\n",
        "\n",
        "print('A soma entre', numero_01, 'e', numero_02, 'é igual a', soma)"
      ],
      "execution_count": 10,
      "outputs": [
        {
          "output_type": "stream",
          "text": [
            "Digite o primeiro número: 10\n",
            "Digite o segundo número: 20\n",
            "A soma entre 10 e 20 é igual a 1020\n"
          ],
          "name": "stdout"
        }
      ]
    },
    {
      "cell_type": "markdown",
      "metadata": {
        "id": "mXG5gvoi4xmj",
        "colab_type": "text"
      },
      "source": [
        "Esse erro aconteceu por conta dos **tipos primitivos!**"
      ]
    },
    {
      "cell_type": "markdown",
      "metadata": {
        "id": "aAmrHDj2TbeX",
        "colab_type": "text"
      },
      "source": [
        "-----\n",
        "\n",
        "## **Análise de Dados Brasil**!\n",
        "***Um jeito diferente de aprender Análise de Dados!***\n",
        "\n",
        "[Youtube](https://www.youtube.com/channel/UC1TUZx4WcPgKkcXymqL1KYA) • [GitHub](https://github.com/adadosbrasil) • [Instagram](https://www.instagram.com/adadosbrasil/) • [Twitter](https://twitter.com/adadosbrasil/) • [LinkedIn](https://www.linkedin.com/company/adadosbrasil/)\n",
        "\n"
      ]
    }
  ]
}