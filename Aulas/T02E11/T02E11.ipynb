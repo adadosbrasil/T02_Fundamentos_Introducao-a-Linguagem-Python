{
  "nbformat": 4,
  "nbformat_minor": 0,
  "metadata": {
    "colab": {
      "name": "T02E11.ipynb",
      "provenance": [],
      "collapsed_sections": []
    },
    "kernelspec": {
      "name": "python3",
      "display_name": "Python 3"
    }
  },
  "cells": [
    {
      "cell_type": "markdown",
      "metadata": {
        "id": "UH3xIgjOopuq"
      },
      "source": [
        "# **T02E11 - Introdução ao Python**\n",
        "## **Aula de Hoje:** Trabalhando com Strings I"
      ]
    },
    {
      "cell_type": "markdown",
      "metadata": {
        "id": "S1CmRxrWfTVs"
      },
      "source": [
        "## **Indíces no Python**\n",
        "\n",
        "\n",
        "|A|D|A|D|O|S| |B|R|A|S|I|L|\n",
        "|-|-|-|-|-|-|-|-|-|-|-|-|-|\n",
        "|0|1|2|3|4|5|6|7|8|9|10|11|12|\n",
        "|-13|-12|-11|-10|-9|-8|-7|-6|-5|-4|-3|-2|-1|\n",
        "\n",
        "\n"
      ]
    },
    {
      "cell_type": "markdown",
      "metadata": {
        "id": "qtqs0IjmjnD-"
      },
      "source": [
        "## **Exemplos**"
      ]
    },
    {
      "cell_type": "markdown",
      "metadata": {
        "id": "5bWGsFtaZroC"
      },
      "source": [
        "### **Exemplo 01)** Localizando Letra Pelo Índice"
      ]
    },
    {
      "cell_type": "code",
      "metadata": {
        "id": "nD2UUxDitqod"
      },
      "source": [
        "nome = 'ADADOS BRASIL'"
      ],
      "execution_count": 84,
      "outputs": []
    },
    {
      "cell_type": "code",
      "metadata": {
        "id": "yf5-dqdz9SW1",
        "outputId": "d637fa72-a3aa-4ad1-a3a9-26980c98a53c",
        "colab": {
          "base_uri": "https://localhost:8080/",
          "height": 35
        }
      },
      "source": [
        "nome[0]"
      ],
      "execution_count": 85,
      "outputs": [
        {
          "output_type": "execute_result",
          "data": {
            "application/vnd.google.colaboratory.intrinsic+json": {
              "type": "string"
            },
            "text/plain": [
              "'A'"
            ]
          },
          "metadata": {
            "tags": []
          },
          "execution_count": 85
        }
      ]
    },
    {
      "cell_type": "code",
      "metadata": {
        "id": "9km_A_wF9dXZ",
        "outputId": "1ca785d5-3665-439a-da8b-17ce47d07490",
        "colab": {
          "base_uri": "https://localhost:8080/",
          "height": 35
        }
      },
      "source": [
        "nome[6]"
      ],
      "execution_count": 86,
      "outputs": [
        {
          "output_type": "execute_result",
          "data": {
            "application/vnd.google.colaboratory.intrinsic+json": {
              "type": "string"
            },
            "text/plain": [
              "' '"
            ]
          },
          "metadata": {
            "tags": []
          },
          "execution_count": 86
        }
      ]
    },
    {
      "cell_type": "code",
      "metadata": {
        "id": "7Kuxndpu9zZZ",
        "outputId": "00aab4cd-c506-4b47-8250-426b20822c36",
        "colab": {
          "base_uri": "https://localhost:8080/",
          "height": 35
        }
      },
      "source": [
        "nome[8]"
      ],
      "execution_count": 88,
      "outputs": [
        {
          "output_type": "execute_result",
          "data": {
            "application/vnd.google.colaboratory.intrinsic+json": {
              "type": "string"
            },
            "text/plain": [
              "'R'"
            ]
          },
          "metadata": {
            "tags": []
          },
          "execution_count": 88
        }
      ]
    },
    {
      "cell_type": "code",
      "metadata": {
        "id": "UGQT4v3u92E9",
        "outputId": "58324b68-54a2-4995-a549-452d459c2786",
        "colab": {
          "base_uri": "https://localhost:8080/",
          "height": 35
        }
      },
      "source": [
        "nome[-1]"
      ],
      "execution_count": 89,
      "outputs": [
        {
          "output_type": "execute_result",
          "data": {
            "application/vnd.google.colaboratory.intrinsic+json": {
              "type": "string"
            },
            "text/plain": [
              "'L'"
            ]
          },
          "metadata": {
            "tags": []
          },
          "execution_count": 89
        }
      ]
    },
    {
      "cell_type": "code",
      "metadata": {
        "id": "5lffqJ0X94wI",
        "outputId": "e0eb4cb9-2c3a-49c3-acb3-08563c8b349b",
        "colab": {
          "base_uri": "https://localhost:8080/",
          "height": 35
        }
      },
      "source": [
        "nome[-13]"
      ],
      "execution_count": 90,
      "outputs": [
        {
          "output_type": "execute_result",
          "data": {
            "application/vnd.google.colaboratory.intrinsic+json": {
              "type": "string"
            },
            "text/plain": [
              "'A'"
            ]
          },
          "metadata": {
            "tags": []
          },
          "execution_count": 90
        }
      ]
    },
    {
      "cell_type": "code",
      "metadata": {
        "id": "lZbQOMo998Fy",
        "outputId": "076a4551-41e9-4ba9-f50a-589c4787e9bd",
        "colab": {
          "base_uri": "https://localhost:8080/",
          "height": 166
        }
      },
      "source": [
        "nome[13]"
      ],
      "execution_count": 91,
      "outputs": [
        {
          "output_type": "error",
          "ename": "IndexError",
          "evalue": "ignored",
          "traceback": [
            "\u001b[0;31m---------------------------------------------------------------------------\u001b[0m",
            "\u001b[0;31mIndexError\u001b[0m                                Traceback (most recent call last)",
            "\u001b[0;32m<ipython-input-91-ddc9fc1b5c7e>\u001b[0m in \u001b[0;36m<module>\u001b[0;34m()\u001b[0m\n\u001b[0;32m----> 1\u001b[0;31m \u001b[0mnome\u001b[0m\u001b[0;34m[\u001b[0m\u001b[0;36m13\u001b[0m\u001b[0;34m]\u001b[0m\u001b[0;34m\u001b[0m\u001b[0;34m\u001b[0m\u001b[0m\n\u001b[0m",
            "\u001b[0;31mIndexError\u001b[0m: string index out of range"
          ]
        }
      ]
    },
    {
      "cell_type": "markdown",
      "metadata": {
        "id": "VbQF3vElao0f"
      },
      "source": [
        "###  **Exemplo 02)** Fatiemento Pelo Índice Positivo\n"
      ]
    },
    {
      "cell_type": "code",
      "metadata": {
        "id": "elIHctQfaoTx"
      },
      "source": [
        "nome = 'ADADOS BRASIL'"
      ],
      "execution_count": 92,
      "outputs": []
    },
    {
      "cell_type": "code",
      "metadata": {
        "id": "dNeJ1vrO-ZN5",
        "outputId": "eb574b1d-e9b9-48f9-e606-394e95722264",
        "colab": {
          "base_uri": "https://localhost:8080/",
          "height": 35
        }
      },
      "source": [
        "nome[0:5]"
      ],
      "execution_count": 93,
      "outputs": [
        {
          "output_type": "execute_result",
          "data": {
            "application/vnd.google.colaboratory.intrinsic+json": {
              "type": "string"
            },
            "text/plain": [
              "'ADADO'"
            ]
          },
          "metadata": {
            "tags": []
          },
          "execution_count": 93
        }
      ]
    },
    {
      "cell_type": "code",
      "metadata": {
        "id": "KaBbKhbU-d6P",
        "outputId": "10f8adb4-ce34-46a3-c31d-6085f550ebc4",
        "colab": {
          "base_uri": "https://localhost:8080/",
          "height": 35
        }
      },
      "source": [
        "nome[0:6]"
      ],
      "execution_count": 94,
      "outputs": [
        {
          "output_type": "execute_result",
          "data": {
            "application/vnd.google.colaboratory.intrinsic+json": {
              "type": "string"
            },
            "text/plain": [
              "'ADADOS'"
            ]
          },
          "metadata": {
            "tags": []
          },
          "execution_count": 94
        }
      ]
    },
    {
      "cell_type": "code",
      "metadata": {
        "id": "w14cXNWq-sxc",
        "outputId": "fef0a1cb-91f9-4771-a030-bdb8b6a8c124",
        "colab": {
          "base_uri": "https://localhost:8080/",
          "height": 35
        }
      },
      "source": [
        "nome[0:5+1]"
      ],
      "execution_count": 95,
      "outputs": [
        {
          "output_type": "execute_result",
          "data": {
            "application/vnd.google.colaboratory.intrinsic+json": {
              "type": "string"
            },
            "text/plain": [
              "'ADADOS'"
            ]
          },
          "metadata": {
            "tags": []
          },
          "execution_count": 95
        }
      ]
    },
    {
      "cell_type": "code",
      "metadata": {
        "id": "n2GJhBhl-wFX",
        "outputId": "6a12223a-8c74-4863-eb83-782b55e626a2",
        "colab": {
          "base_uri": "https://localhost:8080/",
          "height": 35
        }
      },
      "source": [
        "nome[7:12]"
      ],
      "execution_count": 96,
      "outputs": [
        {
          "output_type": "execute_result",
          "data": {
            "application/vnd.google.colaboratory.intrinsic+json": {
              "type": "string"
            },
            "text/plain": [
              "'BRASI'"
            ]
          },
          "metadata": {
            "tags": []
          },
          "execution_count": 96
        }
      ]
    },
    {
      "cell_type": "code",
      "metadata": {
        "id": "KL846fGy-1ji",
        "outputId": "ef6ac67b-963b-4a18-dae2-5168840a3a4f",
        "colab": {
          "base_uri": "https://localhost:8080/",
          "height": 35
        }
      },
      "source": [
        "nome[7:13]"
      ],
      "execution_count": 97,
      "outputs": [
        {
          "output_type": "execute_result",
          "data": {
            "application/vnd.google.colaboratory.intrinsic+json": {
              "type": "string"
            },
            "text/plain": [
              "'BRASIL'"
            ]
          },
          "metadata": {
            "tags": []
          },
          "execution_count": 97
        }
      ]
    },
    {
      "cell_type": "code",
      "metadata": {
        "id": "GFU4ygjF-9qp",
        "outputId": "5ce295b5-73f0-4cda-ffdb-7651db23f24e",
        "colab": {
          "base_uri": "https://localhost:8080/",
          "height": 35
        }
      },
      "source": [
        "nome[7:]"
      ],
      "execution_count": 98,
      "outputs": [
        {
          "output_type": "execute_result",
          "data": {
            "application/vnd.google.colaboratory.intrinsic+json": {
              "type": "string"
            },
            "text/plain": [
              "'BRASIL'"
            ]
          },
          "metadata": {
            "tags": []
          },
          "execution_count": 98
        }
      ]
    },
    {
      "cell_type": "markdown",
      "metadata": {
        "id": "ulmlFY93ayvS"
      },
      "source": [
        "### **Exemplo 03)** Fatiamento Pelo Índice Negativo"
      ]
    },
    {
      "cell_type": "code",
      "metadata": {
        "id": "gYcwZLMRtr28"
      },
      "source": [
        "nome = 'ADADOS BRASIL'"
      ],
      "execution_count": 99,
      "outputs": []
    },
    {
      "cell_type": "code",
      "metadata": {
        "id": "Bqyb0pVO_JJY",
        "outputId": "d35b4cf4-43cf-4547-c0b5-3accd34506be",
        "colab": {
          "base_uri": "https://localhost:8080/",
          "height": 35
        }
      },
      "source": [
        "nome[-13:-7]"
      ],
      "execution_count": 100,
      "outputs": [
        {
          "output_type": "execute_result",
          "data": {
            "application/vnd.google.colaboratory.intrinsic+json": {
              "type": "string"
            },
            "text/plain": [
              "'ADADOS'"
            ]
          },
          "metadata": {
            "tags": []
          },
          "execution_count": 100
        }
      ]
    },
    {
      "cell_type": "code",
      "metadata": {
        "id": "dErJIrIh_RPH",
        "outputId": "459f5bea-2b7d-4236-c524-4999e17abb64",
        "colab": {
          "base_uri": "https://localhost:8080/",
          "height": 35
        }
      },
      "source": [
        "nome[-6:-1]"
      ],
      "execution_count": 101,
      "outputs": [
        {
          "output_type": "execute_result",
          "data": {
            "application/vnd.google.colaboratory.intrinsic+json": {
              "type": "string"
            },
            "text/plain": [
              "'BRASI'"
            ]
          },
          "metadata": {
            "tags": []
          },
          "execution_count": 101
        }
      ]
    },
    {
      "cell_type": "code",
      "metadata": {
        "id": "07EdQh5D_frC",
        "outputId": "e0ec3907-bf98-49d5-9ab8-af0b3b0c0b42",
        "colab": {
          "base_uri": "https://localhost:8080/",
          "height": 35
        }
      },
      "source": [
        "nome[-6:0]"
      ],
      "execution_count": 105,
      "outputs": [
        {
          "output_type": "execute_result",
          "data": {
            "application/vnd.google.colaboratory.intrinsic+json": {
              "type": "string"
            },
            "text/plain": [
              "''"
            ]
          },
          "metadata": {
            "tags": []
          },
          "execution_count": 105
        }
      ]
    },
    {
      "cell_type": "code",
      "metadata": {
        "id": "rYs1wg8S_h4o",
        "outputId": "25b45f10-cce4-46d7-821d-6c4a3d5bf4ee",
        "colab": {
          "base_uri": "https://localhost:8080/",
          "height": 35
        }
      },
      "source": [
        "nome[-6:]"
      ],
      "execution_count": 104,
      "outputs": [
        {
          "output_type": "execute_result",
          "data": {
            "application/vnd.google.colaboratory.intrinsic+json": {
              "type": "string"
            },
            "text/plain": [
              "'BRASIL'"
            ]
          },
          "metadata": {
            "tags": []
          },
          "execution_count": 104
        }
      ]
    },
    {
      "cell_type": "markdown",
      "metadata": {
        "id": "Qa06ZB6Va-Ah"
      },
      "source": [
        "### **Exemplo 04)** Localizando o Índice da Letra"
      ]
    },
    {
      "cell_type": "code",
      "metadata": {
        "id": "jdJqKkU3a9f3"
      },
      "source": [
        "nome = 'ADADOS BRASIL'"
      ],
      "execution_count": 106,
      "outputs": []
    },
    {
      "cell_type": "code",
      "metadata": {
        "id": "md3zJDT2_w1S",
        "outputId": "4c061b02-d579-4ac3-ee6f-0b29d42edde7",
        "colab": {
          "base_uri": "https://localhost:8080/"
        }
      },
      "source": [
        "nome.find('A')"
      ],
      "execution_count": 107,
      "outputs": [
        {
          "output_type": "execute_result",
          "data": {
            "text/plain": [
              "0"
            ]
          },
          "metadata": {
            "tags": []
          },
          "execution_count": 107
        }
      ]
    },
    {
      "cell_type": "code",
      "metadata": {
        "id": "StWpmPjS__C6",
        "outputId": "394e243c-13bf-46bf-ae1d-187335f4e886",
        "colab": {
          "base_uri": "https://localhost:8080/"
        }
      },
      "source": [
        "nome.rfind('A')"
      ],
      "execution_count": 108,
      "outputs": [
        {
          "output_type": "execute_result",
          "data": {
            "text/plain": [
              "9"
            ]
          },
          "metadata": {
            "tags": []
          },
          "execution_count": 108
        }
      ]
    },
    {
      "cell_type": "code",
      "metadata": {
        "id": "IEpfkheZAK-G",
        "outputId": "ffd29227-ddda-4584-a25b-667491e1ac3b",
        "colab": {
          "base_uri": "https://localhost:8080/"
        }
      },
      "source": [
        "nome.find('a')"
      ],
      "execution_count": 109,
      "outputs": [
        {
          "output_type": "execute_result",
          "data": {
            "text/plain": [
              "-1"
            ]
          },
          "metadata": {
            "tags": []
          },
          "execution_count": 109
        }
      ]
    },
    {
      "cell_type": "markdown",
      "metadata": {
        "id": "sbzugDYFb3l0"
      },
      "source": [
        "### **Exemplo 05)** Quantidade de uma Letra"
      ]
    },
    {
      "cell_type": "code",
      "metadata": {
        "id": "8vddhTM0b94v",
        "outputId": "629c6b2a-b6ec-4737-f7eb-ad89c47c1457",
        "colab": {
          "base_uri": "https://localhost:8080/"
        }
      },
      "source": [
        "nome.count('A')"
      ],
      "execution_count": 110,
      "outputs": [
        {
          "output_type": "execute_result",
          "data": {
            "text/plain": [
              "3"
            ]
          },
          "metadata": {
            "tags": []
          },
          "execution_count": 110
        }
      ]
    },
    {
      "cell_type": "code",
      "metadata": {
        "id": "xMXFFTXCAanY",
        "outputId": "a5f27486-5dde-45a8-ee67-9505ac4e2b76",
        "colab": {
          "base_uri": "https://localhost:8080/"
        }
      },
      "source": [
        "nome.count('a')"
      ],
      "execution_count": 111,
      "outputs": [
        {
          "output_type": "execute_result",
          "data": {
            "text/plain": [
              "0"
            ]
          },
          "metadata": {
            "tags": []
          },
          "execution_count": 111
        }
      ]
    },
    {
      "cell_type": "code",
      "metadata": {
        "id": "qR_M1mTnAfjx",
        "outputId": "b2b5dc68-c19f-4f1c-b75a-d4344376750f",
        "colab": {
          "base_uri": "https://localhost:8080/"
        }
      },
      "source": [
        "nome.count('B')"
      ],
      "execution_count": 112,
      "outputs": [
        {
          "output_type": "execute_result",
          "data": {
            "text/plain": [
              "1"
            ]
          },
          "metadata": {
            "tags": []
          },
          "execution_count": 112
        }
      ]
    },
    {
      "cell_type": "code",
      "metadata": {
        "id": "_tI9vx8IAj5k",
        "outputId": "bbb4aa37-2e1c-4ce4-f0a4-6339acc93f19",
        "colab": {
          "base_uri": "https://localhost:8080/"
        }
      },
      "source": [
        "nome.count('C')"
      ],
      "execution_count": 113,
      "outputs": [
        {
          "output_type": "execute_result",
          "data": {
            "text/plain": [
              "0"
            ]
          },
          "metadata": {
            "tags": []
          },
          "execution_count": 113
        }
      ]
    },
    {
      "cell_type": "code",
      "metadata": {
        "id": "TtnaM0veAmfK",
        "outputId": "dab5e689-3477-401a-b0ec-0e237f837840",
        "colab": {
          "base_uri": "https://localhost:8080/"
        }
      },
      "source": [
        "nome.count('O')"
      ],
      "execution_count": 114,
      "outputs": [
        {
          "output_type": "execute_result",
          "data": {
            "text/plain": [
              "1"
            ]
          },
          "metadata": {
            "tags": []
          },
          "execution_count": 114
        }
      ]
    },
    {
      "cell_type": "code",
      "metadata": {
        "id": "tLyKTH0hAr7I",
        "outputId": "413bfc00-fea7-479e-e28d-ec2fb1497711",
        "colab": {
          "base_uri": "https://localhost:8080/"
        }
      },
      "source": [
        "nome.count(' ')"
      ],
      "execution_count": 115,
      "outputs": [
        {
          "output_type": "execute_result",
          "data": {
            "text/plain": [
              "1"
            ]
          },
          "metadata": {
            "tags": []
          },
          "execution_count": 115
        }
      ]
    },
    {
      "cell_type": "markdown",
      "metadata": {
        "id": "X_pbghIpbok1"
      },
      "source": [
        "### **Exemplo 06)** Descobrindo o Tamanho da String"
      ]
    },
    {
      "cell_type": "code",
      "metadata": {
        "id": "INZP1BfDb3Nm",
        "outputId": "b2344464-7a5f-445e-b666-4c0e79affd7d",
        "colab": {
          "base_uri": "https://localhost:8080/"
        }
      },
      "source": [
        "len(nome)"
      ],
      "execution_count": 116,
      "outputs": [
        {
          "output_type": "execute_result",
          "data": {
            "text/plain": [
              "13"
            ]
          },
          "metadata": {
            "tags": []
          },
          "execution_count": 116
        }
      ]
    },
    {
      "cell_type": "code",
      "metadata": {
        "id": "2f7WeouHA46S",
        "outputId": "25dd6b69-3f6f-4dec-c2a6-7bb97fd8b873",
        "colab": {
          "base_uri": "https://localhost:8080/"
        }
      },
      "source": [
        "nome_g = 'GLEISSON RIBEIRO BISPO'\n",
        "print(len(nome_g))\n",
        "print(nome_g.count(' '))\n",
        "print(len(nome_g) - nome_g.count(' '))\n",
        "print(nome_g.count('G'))\n",
        "print(nome_g.count('A'))"
      ],
      "execution_count": 121,
      "outputs": [
        {
          "output_type": "stream",
          "text": [
            "22\n",
            "2\n",
            "20\n",
            "1\n",
            "0\n"
          ],
          "name": "stdout"
        }
      ]
    },
    {
      "cell_type": "markdown",
      "metadata": {
        "id": "rgmPSzbAo5R2"
      },
      "source": [
        "-----\n",
        "\n",
        "## **Análise de Dados Brasil**!\n",
        "***Um jeito diferente de aprender Análise de Dados!***\n",
        "\n",
        "[Youtube](https://www.youtube.com/channel/UC1TUZx4WcPgKkcXymqL1KYA) • [GitHub](https://github.com/adadosbrasil) • [Instagram](https://www.instagram.com/adadosbrasil/) • [Twitter](https://twitter.com/adadosbrasil/) • [LinkedIn](https://www.linkedin.com/company/adadosbrasil/)\n",
        "\n"
      ]
    }
  ]
}