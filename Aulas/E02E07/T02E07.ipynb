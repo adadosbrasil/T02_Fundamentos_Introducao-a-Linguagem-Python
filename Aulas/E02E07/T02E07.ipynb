{
  "nbformat": 4,
  "nbformat_minor": 0,
  "metadata": {
    "colab": {
      "name": "T02E07.ipynb",
      "provenance": [],
      "collapsed_sections": []
    },
    "kernelspec": {
      "name": "python3",
      "display_name": "Python 3"
    }
  },
  "cells": [
    {
      "cell_type": "markdown",
      "metadata": {
        "id": "UH3xIgjOopuq"
      },
      "source": [
        "# **T02E07 - Introdução ao Python**\n",
        "## **Aula de Hoje:** Operadores Relacionais"
      ]
    },
    {
      "cell_type": "markdown",
      "metadata": {
        "id": "S1CmRxrWfTVs"
      },
      "source": [
        "## **Operadores Relacionais**\n",
        "\n",
        "- **>** - Maior que\n",
        "- **<** - Menor que\n",
        "- **>=** - Maior igual que\n",
        "- **<=** - Menor igual que\n",
        "- **!=** - Diferente de\n",
        "- **==** - Igual a"
      ]
    },
    {
      "cell_type": "markdown",
      "metadata": {
        "id": "Fbt8f6Q3jY9F"
      },
      "source": [
        "### **Maior que ( > )**"
      ]
    },
    {
      "cell_type": "code",
      "metadata": {
        "id": "Fb5WeVbwjq9X",
        "outputId": "b95832a3-06b6-4b02-8c45-b7799d82dd51",
        "colab": {
          "base_uri": "https://localhost:8080/",
          "height": 35
        }
      },
      "source": [
        "a = 10\n",
        "b = 20\n",
        "\n",
        "print(a > b)"
      ],
      "execution_count": 23,
      "outputs": [
        {
          "output_type": "stream",
          "text": [
            "False\n"
          ],
          "name": "stdout"
        }
      ]
    },
    {
      "cell_type": "code",
      "metadata": {
        "id": "jrkB2hng5kBG",
        "outputId": "d42bb7b8-2b88-4fe9-93e5-72b7b5ae83da",
        "colab": {
          "base_uri": "https://localhost:8080/",
          "height": 35
        }
      },
      "source": [
        "a = 50\n",
        "b = 10\n",
        "\n",
        "print(a > b)"
      ],
      "execution_count": 24,
      "outputs": [
        {
          "output_type": "stream",
          "text": [
            "True\n"
          ],
          "name": "stdout"
        }
      ]
    },
    {
      "cell_type": "code",
      "metadata": {
        "id": "Wk7jAB0s5rK_",
        "outputId": "b616d43f-026b-419d-96ad-39e7704cfaac",
        "colab": {
          "base_uri": "https://localhost:8080/",
          "height": 35
        }
      },
      "source": [
        "print(10 > 1)"
      ],
      "execution_count": 25,
      "outputs": [
        {
          "output_type": "stream",
          "text": [
            "True\n"
          ],
          "name": "stdout"
        }
      ]
    },
    {
      "cell_type": "markdown",
      "metadata": {
        "id": "Ng5BPPL4joGZ"
      },
      "source": [
        "### **Menor que ( < )**"
      ]
    },
    {
      "cell_type": "code",
      "metadata": {
        "id": "duDbLhYmjrpQ",
        "outputId": "e7103ea7-e2ee-4fa4-b580-0c9b0e98c73c",
        "colab": {
          "base_uri": "https://localhost:8080/",
          "height": 35
        }
      },
      "source": [
        "a = 10\n",
        "b = 5\n",
        "\n",
        "print(b < a)"
      ],
      "execution_count": 26,
      "outputs": [
        {
          "output_type": "stream",
          "text": [
            "True\n"
          ],
          "name": "stdout"
        }
      ]
    },
    {
      "cell_type": "code",
      "metadata": {
        "id": "2o9bX8oC56r3",
        "outputId": "8339ce90-9766-4a1e-fa81-b3bdc43a8597",
        "colab": {
          "base_uri": "https://localhost:8080/",
          "height": 35
        }
      },
      "source": [
        "print(8 < 5)"
      ],
      "execution_count": 27,
      "outputs": [
        {
          "output_type": "stream",
          "text": [
            "False\n"
          ],
          "name": "stdout"
        }
      ]
    },
    {
      "cell_type": "markdown",
      "metadata": {
        "id": "yBM-9joVjnvr"
      },
      "source": [
        "### **Maior igual que ( >= )**"
      ]
    },
    {
      "cell_type": "code",
      "metadata": {
        "id": "9Cg45b1Wj06G",
        "outputId": "afd03062-c127-4202-e4bb-9e98a894a643",
        "colab": {
          "base_uri": "https://localhost:8080/",
          "height": 35
        }
      },
      "source": [
        "a = 5\n",
        "b = 5\n",
        "\n",
        "print(a >= b)"
      ],
      "execution_count": 28,
      "outputs": [
        {
          "output_type": "stream",
          "text": [
            "True\n"
          ],
          "name": "stdout"
        }
      ]
    },
    {
      "cell_type": "markdown",
      "metadata": {
        "id": "M1pPqXpcjnm7"
      },
      "source": [
        "### **Menor igual que ( <= )**"
      ]
    },
    {
      "cell_type": "code",
      "metadata": {
        "id": "2bZeUbHPj5Q5",
        "outputId": "a3b6e298-69cc-460b-976f-310448cf7531",
        "colab": {
          "base_uri": "https://localhost:8080/",
          "height": 35
        }
      },
      "source": [
        "print(100 <= 100)"
      ],
      "execution_count": 30,
      "outputs": [
        {
          "output_type": "stream",
          "text": [
            "True\n"
          ],
          "name": "stdout"
        }
      ]
    },
    {
      "cell_type": "code",
      "metadata": {
        "id": "D67ZOomR6Pl0",
        "outputId": "8daab51c-312f-4e44-b52c-0b1fc4a440c0",
        "colab": {
          "base_uri": "https://localhost:8080/",
          "height": 35
        }
      },
      "source": [
        "print(50 <= 80)"
      ],
      "execution_count": 31,
      "outputs": [
        {
          "output_type": "stream",
          "text": [
            "True\n"
          ],
          "name": "stdout"
        }
      ]
    },
    {
      "cell_type": "code",
      "metadata": {
        "id": "2z7ixdbF6btc",
        "outputId": "af550fff-00d0-4800-d0a5-85b332075903",
        "colab": {
          "base_uri": "https://localhost:8080/",
          "height": 35
        }
      },
      "source": [
        "90 <= 10"
      ],
      "execution_count": 33,
      "outputs": [
        {
          "output_type": "execute_result",
          "data": {
            "text/plain": [
              "False"
            ]
          },
          "metadata": {
            "tags": []
          },
          "execution_count": 33
        }
      ]
    },
    {
      "cell_type": "markdown",
      "metadata": {
        "id": "pV84-AtWjnb-"
      },
      "source": [
        "### **Diferente de ( != )**"
      ]
    },
    {
      "cell_type": "code",
      "metadata": {
        "id": "jM5HoOw9j-D7",
        "outputId": "a0f51998-f2e5-4a54-af51-9639466c9162",
        "colab": {
          "base_uri": "https://localhost:8080/",
          "height": 35
        }
      },
      "source": [
        "a = 95\n",
        "b = 95\n",
        "print(a != b)"
      ],
      "execution_count": 34,
      "outputs": [
        {
          "output_type": "stream",
          "text": [
            "False\n"
          ],
          "name": "stdout"
        }
      ]
    },
    {
      "cell_type": "code",
      "metadata": {
        "id": "Vqmn9vdQ60LZ",
        "outputId": "80be95a4-8f04-4f96-ca53-798620d956d4",
        "colab": {
          "base_uri": "https://localhost:8080/",
          "height": 35
        }
      },
      "source": [
        "568 != 1"
      ],
      "execution_count": 35,
      "outputs": [
        {
          "output_type": "execute_result",
          "data": {
            "text/plain": [
              "True"
            ]
          },
          "metadata": {
            "tags": []
          },
          "execution_count": 35
        }
      ]
    },
    {
      "cell_type": "markdown",
      "metadata": {
        "id": "YFmeRz5yjnQZ"
      },
      "source": [
        "### **Igual a ( == )**"
      ]
    },
    {
      "cell_type": "code",
      "metadata": {
        "id": "lG20Ve8XkEGr",
        "outputId": "b3c0a626-70b4-4a66-8a99-8f93017266e0",
        "colab": {
          "base_uri": "https://localhost:8080/",
          "height": 35
        }
      },
      "source": [
        "50 == 1"
      ],
      "execution_count": 36,
      "outputs": [
        {
          "output_type": "execute_result",
          "data": {
            "text/plain": [
              "False"
            ]
          },
          "metadata": {
            "tags": []
          },
          "execution_count": 36
        }
      ]
    },
    {
      "cell_type": "code",
      "metadata": {
        "id": "ed1_Rq7v7CTI",
        "outputId": "c39488e3-e42b-4f70-cbfb-fd1194ce1173",
        "colab": {
          "base_uri": "https://localhost:8080/",
          "height": 35
        }
      },
      "source": [
        "a = 66\n",
        "b = 15\n",
        "print(a == b)"
      ],
      "execution_count": 37,
      "outputs": [
        {
          "output_type": "stream",
          "text": [
            "False\n"
          ],
          "name": "stdout"
        }
      ]
    },
    {
      "cell_type": "code",
      "metadata": {
        "id": "RiTr0_Nh7G-J",
        "outputId": "8473abfb-71c1-4151-e852-323236017cd7",
        "colab": {
          "base_uri": "https://localhost:8080/",
          "height": 35
        }
      },
      "source": [
        "x = 15\n",
        "y = 15\n",
        "print(x == y)"
      ],
      "execution_count": 38,
      "outputs": [
        {
          "output_type": "stream",
          "text": [
            "True\n"
          ],
          "name": "stdout"
        }
      ]
    },
    {
      "cell_type": "markdown",
      "metadata": {
        "id": "qtqs0IjmjnD-"
      },
      "source": [
        "## **Exercícios**"
      ]
    },
    {
      "cell_type": "markdown",
      "metadata": {
        "id": "0f1z9Q3MkKTq"
      },
      "source": [
        "**Exercício 01)** Crie um sistema que solicita dois números para o usuário e verifica a igualdade entre eles:"
      ]
    },
    {
      "cell_type": "code",
      "metadata": {
        "id": "QQrSTkrUkJj6",
        "outputId": "380e58ca-f374-4fb9-9246-3e0ea06bec21",
        "colab": {
          "base_uri": "https://localhost:8080/",
          "height": 121
        }
      },
      "source": [
        "num_01 = float(input('Digite o primeiro número: '))\n",
        "num_02 = float(input('Digite o segundo número: '))\n",
        "\n",
        "print(f'''\n",
        "Você digitou os números {num_01} e {num_02}\n",
        "Esses numeros são iguais: {num_01 == num_02}\n",
        "''')"
      ],
      "execution_count": 41,
      "outputs": [
        {
          "output_type": "stream",
          "text": [
            "Digite o primeiro número: 6\n",
            "Digite o segundo número: 1\n",
            "\n",
            "Você digitou os números 6.0 e 1.0\n",
            "Esses numeros são iguais: False\n",
            "\n"
          ],
          "name": "stdout"
        }
      ]
    },
    {
      "cell_type": "markdown",
      "metadata": {
        "id": "4fU8zvX6lMJR"
      },
      "source": [
        "**Exercício 02)** O parque Sodada quer automatizar o processo de aprovação para andar na roda gigante. Para andar no brinquedo, a criança precisa ter no mínimo 1.60m. Crie um sistema que solicita a altura e verifica se a criança pode ir no brinquedo ou não;"
      ]
    },
    {
      "cell_type": "code",
      "metadata": {
        "id": "QFLdID3SmAJ4",
        "outputId": "5e3e1923-13b1-48d8-d163-f5ba702a8ea1",
        "colab": {
          "base_uri": "https://localhost:8080/",
          "height": 104
        }
      },
      "source": [
        "altura = float(input('Digite a sua altura: '))\n",
        "\n",
        "print(f'''\n",
        "Você mede {altura}m\n",
        "A sua situação para andar no brinquedo é: {altura >= 1.6}\n",
        "''')"
      ],
      "execution_count": 43,
      "outputs": [
        {
          "output_type": "stream",
          "text": [
            "Digite a sua altura: 1.44\n",
            "\n",
            "Você mede 1.44m\n",
            "A sua situação para andar no brinquedo é: False\n",
            "\n"
          ],
          "name": "stdout"
        }
      ]
    },
    {
      "cell_type": "markdown",
      "metadata": {
        "id": "AxS6TVCiknuS"
      },
      "source": [
        "**Exercício 03)** Crie um sistema para a escola adados, que solicita as notas de matemática, português e ciências do aluno, calcula a média e verifica se ele foi aprovado. Lembrando que a nota de corte da escola é 7."
      ]
    },
    {
      "cell_type": "code",
      "metadata": {
        "id": "Me14JBQlmGEM",
        "outputId": "acd98a4e-5137-4bfe-ae2c-db4277ae2242",
        "colab": {
          "base_uri": "https://localhost:8080/",
          "height": 243
        }
      },
      "source": [
        "mat = float(input('Nota de matemática: '))\n",
        "por = float(input('Nota de portugues: '))\n",
        "cie = float(input('Nota de Ciencias: '))\n",
        "\n",
        "med = (mat + por + cie) / 3\n",
        "\n",
        "print(f'''\n",
        "Olá as suas notas foram:\n",
        "Matemática: {mat}\n",
        "Português: {por}\n",
        "Ciências: {cie}\n",
        "\n",
        "A média das suas notas foi {med}\n",
        "\n",
        "Status de Aprovação: {med >= 7}\n",
        "''')"
      ],
      "execution_count": 45,
      "outputs": [
        {
          "output_type": "stream",
          "text": [
            "Nota de matemática: 9.8\n",
            "Nota de portugues: 4.8\n",
            "Nota de Ciencias: 10\n",
            "\n",
            "Olá as suas notas foram:\n",
            "Matemática: 9.8\n",
            "Português: 4.8\n",
            "Ciências: 10.0\n",
            "\n",
            "A média das suas notas foi 8.200000000000001\n",
            "\n",
            "Status de Aprovação: True\n",
            "\n"
          ],
          "name": "stdout"
        }
      ]
    },
    {
      "cell_type": "markdown",
      "metadata": {
        "id": "rahxBltYvs69"
      },
      "source": [
        "**Exercício 04)** Um Cinema de São Paulo tem uma promoção que clientes com menos de 16 anos tem direito a meia entrada. Crie um sistema que solicita a idade do cliente e verifica se ele tem direito a meia entrada."
      ]
    },
    {
      "cell_type": "code",
      "metadata": {
        "id": "ZC684Lc2wKzK",
        "outputId": "814e936f-576e-4ab5-8a23-c6847675d944",
        "colab": {
          "base_uri": "https://localhost:8080/",
          "height": 52
        }
      },
      "source": [
        "idade = int(input('Digite a sua idade: '))\n",
        "meia = idade <= 16\n",
        "\n",
        "print(f'Direito a meia entrada: {meia}')"
      ],
      "execution_count": 47,
      "outputs": [
        {
          "output_type": "stream",
          "text": [
            "Digite a sua idade: 11\n",
            "Direito a meia entrada: True\n"
          ],
          "name": "stdout"
        }
      ]
    },
    {
      "cell_type": "markdown",
      "metadata": {
        "id": "wwN27Z76mHAU"
      },
      "source": [
        "**Exercício 05)** Crie um sistema que solicita um número para o usuário e verifica se é par ou não."
      ]
    },
    {
      "cell_type": "code",
      "metadata": {
        "id": "KlpxS6ATvrfy",
        "outputId": "d4bb7af7-14cf-4720-fbe3-ff4a2f31c0db",
        "colab": {
          "base_uri": "https://localhost:8080/",
          "height": 52
        }
      },
      "source": [
        "numero = int(input('Digite um numero: '))\n",
        "par = (numero % 2 == 0)\n",
        "print(f'Você digitou {numero}, este numero é par: {par}')"
      ],
      "execution_count": 53,
      "outputs": [
        {
          "output_type": "stream",
          "text": [
            "Digite um numero: 9\n",
            "Você digitou 9, este numero é par: False\n"
          ],
          "name": "stdout"
        }
      ]
    },
    {
      "cell_type": "markdown",
      "metadata": {
        "id": "rgmPSzbAo5R2"
      },
      "source": [
        "-----\n",
        "\n",
        "## **Análise de Dados Brasil**!\n",
        "***Um jeito diferente de aprender Análise de Dados!***\n",
        "\n",
        "[Youtube](https://www.youtube.com/channel/UC1TUZx4WcPgKkcXymqL1KYA) • [GitHub](https://github.com/adadosbrasil) • [Instagram](https://www.instagram.com/adadosbrasil/) • [Twitter](https://twitter.com/adadosbrasil/) • [LinkedIn](https://www.linkedin.com/company/adadosbrasil/)\n",
        "\n"
      ]
    }
  ]
}