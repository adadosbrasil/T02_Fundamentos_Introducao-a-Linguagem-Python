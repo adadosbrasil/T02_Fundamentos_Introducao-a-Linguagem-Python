{
  "nbformat": 4,
  "nbformat_minor": 0,
  "metadata": {
    "colab": {
      "name": "T02E15.ipynb",
      "provenance": [],
      "collapsed_sections": []
    },
    "kernelspec": {
      "name": "python3",
      "display_name": "Python 3"
    }
  },
  "cells": [
    {
      "cell_type": "markdown",
      "metadata": {
        "id": "UH3xIgjOopuq"
      },
      "source": [
        "# **T02E15 - Introdução ao Python**\n",
        "## **Aula de Hoje:** Trabalhando com Listas III"
      ]
    },
    {
      "cell_type": "markdown",
      "metadata": {
        "id": "ZXleAueGD1MT"
      },
      "source": [
        "### Lista de Compras\n",
        "\n",
        "\n",
        "|Maça|Uva|Banana|Laranja|Limão|Manga|\n",
        "|----|---|------|-------|-----|-----|\n",
        "|0|1|2|3|4|5|"
      ]
    },
    {
      "cell_type": "markdown",
      "metadata": {
        "id": "2MdN_rvOQAdK"
      },
      "source": [
        "### **Exemplo 01)** Criando uma lista com as frutas"
      ]
    },
    {
      "cell_type": "code",
      "metadata": {
        "id": "3WEIXOBi71RQ",
        "colab": {
          "base_uri": "https://localhost:8080/"
        },
        "outputId": "e735b260-2f7a-481a-ce4a-8f17880085fe"
      },
      "source": [
        "lista_frutas = ['maça', 'uva', 'banana', 'laranja', 'limão', 'manga']\r\n",
        "lista_frutas"
      ],
      "execution_count": 1,
      "outputs": [
        {
          "output_type": "execute_result",
          "data": {
            "text/plain": [
              "['maça', 'uva', 'banana', 'laranja', 'limão', 'manga']"
            ]
          },
          "metadata": {
            "tags": []
          },
          "execution_count": 1
        }
      ]
    },
    {
      "cell_type": "markdown",
      "metadata": {
        "id": "Xthnc3x1EZKp"
      },
      "source": [
        "### **Exemplo 02)** Acessando mais de um item da lista"
      ]
    },
    {
      "cell_type": "code",
      "metadata": {
        "colab": {
          "base_uri": "https://localhost:8080/",
          "height": 35
        },
        "id": "Ew06wmlT0_Mf",
        "outputId": "61f722c9-6927-40d5-e9c1-7b90d11c0df2"
      },
      "source": [
        "lista_frutas[0]"
      ],
      "execution_count": 3,
      "outputs": [
        {
          "output_type": "execute_result",
          "data": {
            "application/vnd.google.colaboratory.intrinsic+json": {
              "type": "string"
            },
            "text/plain": [
              "'maça'"
            ]
          },
          "metadata": {
            "tags": []
          },
          "execution_count": 3
        }
      ]
    },
    {
      "cell_type": "code",
      "metadata": {
        "colab": {
          "base_uri": "https://localhost:8080/"
        },
        "id": "75B-gqIV7Cmj",
        "outputId": "23c0e78f-54d0-4953-c680-0e286257c3c1"
      },
      "source": [
        "lista_frutas[0:2]"
      ],
      "execution_count": 4,
      "outputs": [
        {
          "output_type": "execute_result",
          "data": {
            "text/plain": [
              "['maça', 'uva']"
            ]
          },
          "metadata": {
            "tags": []
          },
          "execution_count": 4
        }
      ]
    },
    {
      "cell_type": "code",
      "metadata": {
        "colab": {
          "base_uri": "https://localhost:8080/"
        },
        "id": "6fOh-H0F7VN0",
        "outputId": "42928ce3-6226-4b40-c612-48d3668e92a4"
      },
      "source": [
        "lista_frutas[0:3]"
      ],
      "execution_count": 5,
      "outputs": [
        {
          "output_type": "execute_result",
          "data": {
            "text/plain": [
              "['maça', 'uva', 'banana']"
            ]
          },
          "metadata": {
            "tags": []
          },
          "execution_count": 5
        }
      ]
    },
    {
      "cell_type": "code",
      "metadata": {
        "colab": {
          "base_uri": "https://localhost:8080/"
        },
        "id": "DqMdBPqW7gyE",
        "outputId": "0d64d2bf-705f-4a52-b50c-4e0cfc8a6d95"
      },
      "source": [
        "lista_frutas[0:5]"
      ],
      "execution_count": 6,
      "outputs": [
        {
          "output_type": "execute_result",
          "data": {
            "text/plain": [
              "['maça', 'uva', 'banana', 'laranja', 'limão']"
            ]
          },
          "metadata": {
            "tags": []
          },
          "execution_count": 6
        }
      ]
    },
    {
      "cell_type": "code",
      "metadata": {
        "colab": {
          "base_uri": "https://localhost:8080/"
        },
        "id": "cHNvCq1Z7rmW",
        "outputId": "bd520194-78b2-4ed1-e0c9-913d625b8bc5"
      },
      "source": [
        "lista_frutas[3:6]"
      ],
      "execution_count": 7,
      "outputs": [
        {
          "output_type": "execute_result",
          "data": {
            "text/plain": [
              "['laranja', 'limão', 'manga']"
            ]
          },
          "metadata": {
            "tags": []
          },
          "execution_count": 7
        }
      ]
    },
    {
      "cell_type": "code",
      "metadata": {
        "colab": {
          "base_uri": "https://localhost:8080/"
        },
        "id": "XyGObJms7xmC",
        "outputId": "d3cf3033-5052-487f-8fa2-cf5ec0fe4369"
      },
      "source": [
        "lista_frutas[3:7]"
      ],
      "execution_count": 8,
      "outputs": [
        {
          "output_type": "execute_result",
          "data": {
            "text/plain": [
              "['laranja', 'limão', 'manga']"
            ]
          },
          "metadata": {
            "tags": []
          },
          "execution_count": 8
        }
      ]
    },
    {
      "cell_type": "code",
      "metadata": {
        "colab": {
          "base_uri": "https://localhost:8080/",
          "height": 166
        },
        "id": "DLpklMsp726d",
        "outputId": "707990d4-4ce6-469b-b03d-32973ad82ec2"
      },
      "source": [
        "lista_frutas[7]"
      ],
      "execution_count": 9,
      "outputs": [
        {
          "output_type": "error",
          "ename": "IndexError",
          "evalue": "ignored",
          "traceback": [
            "\u001b[0;31m---------------------------------------------------------------------------\u001b[0m",
            "\u001b[0;31mIndexError\u001b[0m                                Traceback (most recent call last)",
            "\u001b[0;32m<ipython-input-9-60762469ceb4>\u001b[0m in \u001b[0;36m<module>\u001b[0;34m()\u001b[0m\n\u001b[0;32m----> 1\u001b[0;31m \u001b[0mlista_frutas\u001b[0m\u001b[0;34m[\u001b[0m\u001b[0;36m7\u001b[0m\u001b[0;34m]\u001b[0m\u001b[0;34m\u001b[0m\u001b[0;34m\u001b[0m\u001b[0m\n\u001b[0m",
            "\u001b[0;31mIndexError\u001b[0m: list index out of range"
          ]
        }
      ]
    },
    {
      "cell_type": "code",
      "metadata": {
        "colab": {
          "base_uri": "https://localhost:8080/"
        },
        "id": "dnwAS5ii76YM",
        "outputId": "db2cc291-1144-4a26-a2ca-32eef029c3dc"
      },
      "source": [
        "lista_frutas[2:]"
      ],
      "execution_count": 10,
      "outputs": [
        {
          "output_type": "execute_result",
          "data": {
            "text/plain": [
              "['banana', 'laranja', 'limão', 'manga']"
            ]
          },
          "metadata": {
            "tags": []
          },
          "execution_count": 10
        }
      ]
    },
    {
      "cell_type": "code",
      "metadata": {
        "colab": {
          "base_uri": "https://localhost:8080/"
        },
        "id": "3X2D94nr8otO",
        "outputId": "03ac8669-9bb6-4655-817d-a24d977ac89e"
      },
      "source": [
        "lista_frutas[:5]"
      ],
      "execution_count": 12,
      "outputs": [
        {
          "output_type": "execute_result",
          "data": {
            "text/plain": [
              "['maça', 'uva', 'banana', 'laranja', 'limão']"
            ]
          },
          "metadata": {
            "tags": []
          },
          "execution_count": 12
        }
      ]
    },
    {
      "cell_type": "code",
      "metadata": {
        "colab": {
          "base_uri": "https://localhost:8080/"
        },
        "id": "6ZxL6lWk85Ao",
        "outputId": "6ef96a64-f2f2-4383-b9a2-fd488499a29d"
      },
      "source": [
        "lista_frutas[:]"
      ],
      "execution_count": 13,
      "outputs": [
        {
          "output_type": "execute_result",
          "data": {
            "text/plain": [
              "['maça', 'uva', 'banana', 'laranja', 'limão', 'manga']"
            ]
          },
          "metadata": {
            "tags": []
          },
          "execution_count": 13
        }
      ]
    },
    {
      "cell_type": "markdown",
      "metadata": {
        "id": "GRBJmku0qfEw"
      },
      "source": [
        "### **Exemplo 03)** Modificando mais de um valor da lista\r\n",
        "\r\n"
      ]
    },
    {
      "cell_type": "code",
      "metadata": {
        "colab": {
          "base_uri": "https://localhost:8080/"
        },
        "id": "7wJYlh7o1L1H",
        "outputId": "aef8dfff-4889-4a00-86fe-f5b3e5e111d8"
      },
      "source": [
        "lista_frutas[:3]"
      ],
      "execution_count": 14,
      "outputs": [
        {
          "output_type": "execute_result",
          "data": {
            "text/plain": [
              "['maça', 'uva', 'banana']"
            ]
          },
          "metadata": {
            "tags": []
          },
          "execution_count": 14
        }
      ]
    },
    {
      "cell_type": "code",
      "metadata": {
        "id": "an-25LlP9FO_"
      },
      "source": [
        "lista_frutas[0] = 'melão'"
      ],
      "execution_count": 15,
      "outputs": []
    },
    {
      "cell_type": "code",
      "metadata": {
        "colab": {
          "base_uri": "https://localhost:8080/"
        },
        "id": "rxhGn5d_9IeK",
        "outputId": "5201b834-95f2-40e6-a5ed-f947f44593b6"
      },
      "source": [
        "lista_frutas"
      ],
      "execution_count": 16,
      "outputs": [
        {
          "output_type": "execute_result",
          "data": {
            "text/plain": [
              "['melão', 'uva', 'banana', 'laranja', 'limão', 'manga']"
            ]
          },
          "metadata": {
            "tags": []
          },
          "execution_count": 16
        }
      ]
    },
    {
      "cell_type": "code",
      "metadata": {
        "id": "MeFbD8CF9Kgh"
      },
      "source": [
        "lista_frutas[:3] = 'melão', 'melancia', 'abacate'"
      ],
      "execution_count": 18,
      "outputs": []
    },
    {
      "cell_type": "code",
      "metadata": {
        "colab": {
          "base_uri": "https://localhost:8080/"
        },
        "id": "-Pou4oJB9Xfg",
        "outputId": "17fa353b-43b1-4874-e2af-a2c4f7aad0ac"
      },
      "source": [
        "lista_frutas"
      ],
      "execution_count": 19,
      "outputs": [
        {
          "output_type": "execute_result",
          "data": {
            "text/plain": [
              "['melão', 'melancia', 'abacate', 'laranja', 'limão', 'manga']"
            ]
          },
          "metadata": {
            "tags": []
          },
          "execution_count": 19
        }
      ]
    },
    {
      "cell_type": "code",
      "metadata": {
        "colab": {
          "base_uri": "https://localhost:8080/"
        },
        "id": "W0bYzBx49bR6",
        "outputId": "10d91721-b50b-4360-e477-ff38d5291453"
      },
      "source": [
        "lista_frutas[4:]"
      ],
      "execution_count": 21,
      "outputs": [
        {
          "output_type": "execute_result",
          "data": {
            "text/plain": [
              "['limão', 'manga']"
            ]
          },
          "metadata": {
            "tags": []
          },
          "execution_count": 21
        }
      ]
    },
    {
      "cell_type": "code",
      "metadata": {
        "id": "yGNm8wy09kkS"
      },
      "source": [
        "lista_frutas[4:] = 'uva', 'maça'"
      ],
      "execution_count": 22,
      "outputs": []
    },
    {
      "cell_type": "code",
      "metadata": {
        "colab": {
          "base_uri": "https://localhost:8080/"
        },
        "id": "4oPUX4ci9pYh",
        "outputId": "20155120-24f0-4b68-a2bc-bd38386a9723"
      },
      "source": [
        "lista_frutas"
      ],
      "execution_count": 23,
      "outputs": [
        {
          "output_type": "execute_result",
          "data": {
            "text/plain": [
              "['melão', 'melancia', 'abacate', 'laranja', 'uva', 'maça']"
            ]
          },
          "metadata": {
            "tags": []
          },
          "execution_count": 23
        }
      ]
    },
    {
      "cell_type": "markdown",
      "metadata": {
        "id": "1_kWylVD1QBe"
      },
      "source": [
        "### **Exemplo 04)** Incluindo item na lista em posição específica"
      ]
    },
    {
      "cell_type": "code",
      "metadata": {
        "colab": {
          "base_uri": "https://localhost:8080/"
        },
        "id": "V6dC2iF71YeS",
        "outputId": "713b4877-2a67-4143-b0a2-3496caf2ee70"
      },
      "source": [
        "lista_frutas"
      ],
      "execution_count": 24,
      "outputs": [
        {
          "output_type": "execute_result",
          "data": {
            "text/plain": [
              "['melão', 'melancia', 'abacate', 'laranja', 'uva', 'maça']"
            ]
          },
          "metadata": {
            "tags": []
          },
          "execution_count": 24
        }
      ]
    },
    {
      "cell_type": "code",
      "metadata": {
        "id": "sYKj14GH90dn"
      },
      "source": [
        "lista_frutas.append('tomate')"
      ],
      "execution_count": 25,
      "outputs": []
    },
    {
      "cell_type": "code",
      "metadata": {
        "colab": {
          "base_uri": "https://localhost:8080/"
        },
        "id": "c5_grOjH94D8",
        "outputId": "b9836d35-b294-4afa-8402-76d1c19b9cfa"
      },
      "source": [
        "lista_frutas"
      ],
      "execution_count": 26,
      "outputs": [
        {
          "output_type": "execute_result",
          "data": {
            "text/plain": [
              "['melão', 'melancia', 'abacate', 'laranja', 'uva', 'maça', 'tomate']"
            ]
          },
          "metadata": {
            "tags": []
          },
          "execution_count": 26
        }
      ]
    },
    {
      "cell_type": "code",
      "metadata": {
        "id": "UNw8YG80-JQm"
      },
      "source": [
        "lista_frutas.insert(0, 'limão')"
      ],
      "execution_count": 27,
      "outputs": []
    },
    {
      "cell_type": "code",
      "metadata": {
        "colab": {
          "base_uri": "https://localhost:8080/"
        },
        "id": "N2CPoH0u-Nya",
        "outputId": "a53cf1c0-9ca3-4eff-a734-b247d501231d"
      },
      "source": [
        "lista_frutas"
      ],
      "execution_count": 28,
      "outputs": [
        {
          "output_type": "execute_result",
          "data": {
            "text/plain": [
              "['limão', 'melão', 'melancia', 'abacate', 'laranja', 'uva', 'maça', 'tomate']"
            ]
          },
          "metadata": {
            "tags": []
          },
          "execution_count": 28
        }
      ]
    },
    {
      "cell_type": "code",
      "metadata": {
        "id": "c-qMnpl1-UUe"
      },
      "source": [
        "lista_frutas.insert(3, 'morango')"
      ],
      "execution_count": 29,
      "outputs": []
    },
    {
      "cell_type": "code",
      "metadata": {
        "colab": {
          "base_uri": "https://localhost:8080/"
        },
        "id": "yHOya7tA-X5k",
        "outputId": "9c386a71-4237-4c98-e95d-201bd4f582b5"
      },
      "source": [
        "lista_frutas"
      ],
      "execution_count": 30,
      "outputs": [
        {
          "output_type": "execute_result",
          "data": {
            "text/plain": [
              "['limão',\n",
              " 'melão',\n",
              " 'melancia',\n",
              " 'morango',\n",
              " 'abacate',\n",
              " 'laranja',\n",
              " 'uva',\n",
              " 'maça',\n",
              " 'tomate']"
            ]
          },
          "metadata": {
            "tags": []
          },
          "execution_count": 30
        }
      ]
    },
    {
      "cell_type": "markdown",
      "metadata": {
        "id": "NYERJOfQ1v2T"
      },
      "source": [
        "### **Exemplo 05)** Removendo item da lista a partir do índice"
      ]
    },
    {
      "cell_type": "code",
      "metadata": {
        "colab": {
          "base_uri": "https://localhost:8080/"
        },
        "id": "-U3-ip0Y15np",
        "outputId": "caef6186-b8e3-4bed-877c-cfbddcec6c21"
      },
      "source": [
        "lista_frutas"
      ],
      "execution_count": 31,
      "outputs": [
        {
          "output_type": "execute_result",
          "data": {
            "text/plain": [
              "['limão',\n",
              " 'melão',\n",
              " 'melancia',\n",
              " 'morango',\n",
              " 'abacate',\n",
              " 'laranja',\n",
              " 'uva',\n",
              " 'maça',\n",
              " 'tomate']"
            ]
          },
          "metadata": {
            "tags": []
          },
          "execution_count": 31
        }
      ]
    },
    {
      "cell_type": "code",
      "metadata": {
        "colab": {
          "base_uri": "https://localhost:8080/",
          "height": 35
        },
        "id": "3CwRLfBH-g1b",
        "outputId": "46f0ed09-14e1-4a75-a082-4f2a8fd4ede1"
      },
      "source": [
        "lista_frutas.pop()"
      ],
      "execution_count": 32,
      "outputs": [
        {
          "output_type": "execute_result",
          "data": {
            "application/vnd.google.colaboratory.intrinsic+json": {
              "type": "string"
            },
            "text/plain": [
              "'tomate'"
            ]
          },
          "metadata": {
            "tags": []
          },
          "execution_count": 32
        }
      ]
    },
    {
      "cell_type": "code",
      "metadata": {
        "colab": {
          "base_uri": "https://localhost:8080/"
        },
        "id": "C8gL6-Ed-mXi",
        "outputId": "a8eb9127-2d4a-40c1-9e57-cd6ea3744ce2"
      },
      "source": [
        "lista_frutas"
      ],
      "execution_count": 33,
      "outputs": [
        {
          "output_type": "execute_result",
          "data": {
            "text/plain": [
              "['limão', 'melão', 'melancia', 'morango', 'abacate', 'laranja', 'uva', 'maça']"
            ]
          },
          "metadata": {
            "tags": []
          },
          "execution_count": 33
        }
      ]
    },
    {
      "cell_type": "code",
      "metadata": {
        "colab": {
          "base_uri": "https://localhost:8080/",
          "height": 35
        },
        "id": "he7jrSpc-qgX",
        "outputId": "5812e8e2-5007-467d-8d87-cddc94fa9d74"
      },
      "source": [
        "lista_frutas.pop(0)"
      ],
      "execution_count": 34,
      "outputs": [
        {
          "output_type": "execute_result",
          "data": {
            "application/vnd.google.colaboratory.intrinsic+json": {
              "type": "string"
            },
            "text/plain": [
              "'limão'"
            ]
          },
          "metadata": {
            "tags": []
          },
          "execution_count": 34
        }
      ]
    },
    {
      "cell_type": "code",
      "metadata": {
        "colab": {
          "base_uri": "https://localhost:8080/"
        },
        "id": "X2LNOsUm-twN",
        "outputId": "fbb93dd1-29db-4eab-f481-1126e1463b7e"
      },
      "source": [
        "lista_frutas"
      ],
      "execution_count": 35,
      "outputs": [
        {
          "output_type": "execute_result",
          "data": {
            "text/plain": [
              "['melão', 'melancia', 'morango', 'abacate', 'laranja', 'uva', 'maça']"
            ]
          },
          "metadata": {
            "tags": []
          },
          "execution_count": 35
        }
      ]
    },
    {
      "cell_type": "code",
      "metadata": {
        "colab": {
          "base_uri": "https://localhost:8080/",
          "height": 35
        },
        "id": "ls0XxnL3-0k6",
        "outputId": "78b5cc3d-fea5-41e6-c04b-1b0eac219b7d"
      },
      "source": [
        "lista_frutas.pop(1)"
      ],
      "execution_count": 36,
      "outputs": [
        {
          "output_type": "execute_result",
          "data": {
            "application/vnd.google.colaboratory.intrinsic+json": {
              "type": "string"
            },
            "text/plain": [
              "'melancia'"
            ]
          },
          "metadata": {
            "tags": []
          },
          "execution_count": 36
        }
      ]
    },
    {
      "cell_type": "code",
      "metadata": {
        "colab": {
          "base_uri": "https://localhost:8080/"
        },
        "id": "RN4TvdI3-3o0",
        "outputId": "80de90f6-1144-41e4-af8b-b58c45fbd308"
      },
      "source": [
        "lista_frutas"
      ],
      "execution_count": 37,
      "outputs": [
        {
          "output_type": "execute_result",
          "data": {
            "text/plain": [
              "['melão', 'morango', 'abacate', 'laranja', 'uva', 'maça']"
            ]
          },
          "metadata": {
            "tags": []
          },
          "execution_count": 37
        }
      ]
    },
    {
      "cell_type": "markdown",
      "metadata": {
        "id": "WMT4Kn7v1580"
      },
      "source": [
        "### **Exemplo 06)** Removendo item da lista a partir do valor"
      ]
    },
    {
      "cell_type": "code",
      "metadata": {
        "colab": {
          "base_uri": "https://localhost:8080/"
        },
        "id": "VHIXcRQG1_3A",
        "outputId": "96aefd25-e76e-4f60-d986-80b555656d30"
      },
      "source": [
        "lista_frutas"
      ],
      "execution_count": 38,
      "outputs": [
        {
          "output_type": "execute_result",
          "data": {
            "text/plain": [
              "['melão', 'morango', 'abacate', 'laranja', 'uva', 'maça']"
            ]
          },
          "metadata": {
            "tags": []
          },
          "execution_count": 38
        }
      ]
    },
    {
      "cell_type": "code",
      "metadata": {
        "id": "uNtTLSSY_A87"
      },
      "source": [
        "lista_frutas.remove('uva')"
      ],
      "execution_count": 39,
      "outputs": []
    },
    {
      "cell_type": "code",
      "metadata": {
        "colab": {
          "base_uri": "https://localhost:8080/"
        },
        "id": "NqkPDhk0_Eai",
        "outputId": "5fd613fa-a5b4-4a41-8e2b-3b19decc2bbe"
      },
      "source": [
        "lista_frutas"
      ],
      "execution_count": 40,
      "outputs": [
        {
          "output_type": "execute_result",
          "data": {
            "text/plain": [
              "['melão', 'morango', 'abacate', 'laranja', 'maça']"
            ]
          },
          "metadata": {
            "tags": []
          },
          "execution_count": 40
        }
      ]
    },
    {
      "cell_type": "code",
      "metadata": {
        "colab": {
          "base_uri": "https://localhost:8080/",
          "height": 166
        },
        "id": "o349GVr0_GtC",
        "outputId": "39ee6d24-d639-4885-de46-c3c9c6e1d6e3"
      },
      "source": [
        "lista_frutas.remove('gleisson')"
      ],
      "execution_count": 41,
      "outputs": [
        {
          "output_type": "error",
          "ename": "ValueError",
          "evalue": "ignored",
          "traceback": [
            "\u001b[0;31m---------------------------------------------------------------------------\u001b[0m",
            "\u001b[0;31mValueError\u001b[0m                                Traceback (most recent call last)",
            "\u001b[0;32m<ipython-input-41-ae7bab9c91df>\u001b[0m in \u001b[0;36m<module>\u001b[0;34m()\u001b[0m\n\u001b[0;32m----> 1\u001b[0;31m \u001b[0mlista_frutas\u001b[0m\u001b[0;34m.\u001b[0m\u001b[0mremove\u001b[0m\u001b[0;34m(\u001b[0m\u001b[0;34m'gleisson'\u001b[0m\u001b[0;34m)\u001b[0m\u001b[0;34m\u001b[0m\u001b[0;34m\u001b[0m\u001b[0m\n\u001b[0m",
            "\u001b[0;31mValueError\u001b[0m: list.remove(x): x not in list"
          ]
        }
      ]
    },
    {
      "cell_type": "code",
      "metadata": {
        "id": "KiuIc0xn_L63"
      },
      "source": [
        "lista_frutas.remove('morango')"
      ],
      "execution_count": 42,
      "outputs": []
    },
    {
      "cell_type": "code",
      "metadata": {
        "colab": {
          "base_uri": "https://localhost:8080/"
        },
        "id": "untpPe7f_O4P",
        "outputId": "aa8cf38c-707c-4136-83db-3ad116649628"
      },
      "source": [
        "lista_frutas"
      ],
      "execution_count": 43,
      "outputs": [
        {
          "output_type": "execute_result",
          "data": {
            "text/plain": [
              "['melão', 'abacate', 'laranja', 'maça']"
            ]
          },
          "metadata": {
            "tags": []
          },
          "execution_count": 43
        }
      ]
    },
    {
      "cell_type": "markdown",
      "metadata": {
        "id": "neN6Z2M52L4R"
      },
      "source": [
        "### **Exemplo 07)** Ordenando a lista"
      ]
    },
    {
      "cell_type": "code",
      "metadata": {
        "colab": {
          "base_uri": "https://localhost:8080/"
        },
        "id": "aypTqecf2Lc_",
        "outputId": "537d1aac-8788-4f5d-ca82-4f8f2bf81b2e"
      },
      "source": [
        "lista_frutas"
      ],
      "execution_count": 44,
      "outputs": [
        {
          "output_type": "execute_result",
          "data": {
            "text/plain": [
              "['melão', 'abacate', 'laranja', 'maça']"
            ]
          },
          "metadata": {
            "tags": []
          },
          "execution_count": 44
        }
      ]
    },
    {
      "cell_type": "code",
      "metadata": {
        "id": "0meluGrK_XL7"
      },
      "source": [
        "lista_frutas.sort()"
      ],
      "execution_count": 45,
      "outputs": []
    },
    {
      "cell_type": "code",
      "metadata": {
        "colab": {
          "base_uri": "https://localhost:8080/"
        },
        "id": "MBBjrdKx_ajU",
        "outputId": "3aaaf616-49d8-4a3a-ffdf-cf053f96f7fc"
      },
      "source": [
        "lista_frutas"
      ],
      "execution_count": 46,
      "outputs": [
        {
          "output_type": "execute_result",
          "data": {
            "text/plain": [
              "['abacate', 'laranja', 'maça', 'melão']"
            ]
          },
          "metadata": {
            "tags": []
          },
          "execution_count": 46
        }
      ]
    },
    {
      "cell_type": "markdown",
      "metadata": {
        "id": "rgmPSzbAo5R2"
      },
      "source": [
        "-----\n",
        "\n",
        "## **Análise de Dados Brasil**!\n",
        "***Um jeito diferente de aprender Análise de Dados!***\n",
        "\n",
        "[Youtube](https://www.youtube.com/channel/UC1TUZx4WcPgKkcXymqL1KYA) • [GitHub](https://github.com/adadosbrasil) • [Instagram](https://www.instagram.com/adadosbrasil/) • [Twitter](https://twitter.com/adadosbrasil/) • [LinkedIn](https://www.linkedin.com/company/adadosbrasil/)\n",
        "\n"
      ]
    }
  ]
}