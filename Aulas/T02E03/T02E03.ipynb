{
  "nbformat": 4,
  "nbformat_minor": 0,
  "metadata": {
    "colab": {
      "name": "T02E03.ipynb",
      "provenance": [],
      "collapsed_sections": []
    },
    "kernelspec": {
      "name": "python3",
      "display_name": "Python 3"
    }
  },
  "cells": [
    {
      "cell_type": "markdown",
      "metadata": {
        "id": "3G5-5NQTchAb",
        "colab_type": "text"
      },
      "source": [
        "# **T02E03 - Introdução ao Python**\n",
        "## **Aula de Hoje:** Operadores Aritméticos e Ordem de Precedência"
      ]
    },
    {
      "cell_type": "markdown",
      "metadata": {
        "id": "xQzov0Qmi8sn",
        "colab_type": "text"
      },
      "source": [
        "## **Operadores Aritméticos**"
      ]
    },
    {
      "cell_type": "markdown",
      "metadata": {
        "id": "MRxx9zzljDXZ",
        "colab_type": "text"
      },
      "source": [
        "### **Soma:**\n",
        "Para realizar a soma entre dois números no python utilizamos o caracter **'+'**"
      ]
    },
    {
      "cell_type": "code",
      "metadata": {
        "id": "ploM2rJui73G",
        "colab_type": "code",
        "colab": {
          "base_uri": "https://localhost:8080/",
          "height": 34
        },
        "outputId": "f47924ac-49fa-4655-d646-1528c4ac194d"
      },
      "source": [
        "print(5 + 5)"
      ],
      "execution_count": 22,
      "outputs": [
        {
          "output_type": "stream",
          "text": [
            "10\n"
          ],
          "name": "stdout"
        }
      ]
    },
    {
      "cell_type": "code",
      "metadata": {
        "id": "N2_3Z6krv1A6",
        "colab_type": "code",
        "colab": {
          "base_uri": "https://localhost:8080/",
          "height": 34
        },
        "outputId": "00465f09-5372-44b1-fc09-570c2b5dc98e"
      },
      "source": [
        "a = 10\n",
        "b = 30\n",
        "c = 5\n",
        "print(a + b + c)"
      ],
      "execution_count": 24,
      "outputs": [
        {
          "output_type": "stream",
          "text": [
            "45\n"
          ],
          "name": "stdout"
        }
      ]
    },
    {
      "cell_type": "markdown",
      "metadata": {
        "colab_type": "text",
        "id": "btFfsnl2jnkH"
      },
      "source": [
        "### **Subtração:**\n",
        "Para realizar a subtração entre dois números no python utilizamos o caracter **'-'**"
      ]
    },
    {
      "cell_type": "code",
      "metadata": {
        "id": "45YsPEzvmPK-",
        "colab_type": "code",
        "colab": {
          "base_uri": "https://localhost:8080/",
          "height": 34
        },
        "outputId": "631d4273-98d4-43b3-f380-34a7d3d5ba2e"
      },
      "source": [
        "print(80 - 20)"
      ],
      "execution_count": 25,
      "outputs": [
        {
          "output_type": "stream",
          "text": [
            "60\n"
          ],
          "name": "stdout"
        }
      ]
    },
    {
      "cell_type": "code",
      "metadata": {
        "id": "F73Cp7mhwG-Y",
        "colab_type": "code",
        "colab": {}
      },
      "source": [
        "a = 35\n",
        "b = 20\n",
        "c = 10"
      ],
      "execution_count": 26,
      "outputs": []
    },
    {
      "cell_type": "code",
      "metadata": {
        "id": "4-pJ8PbdwKP4",
        "colab_type": "code",
        "colab": {
          "base_uri": "https://localhost:8080/",
          "height": 34
        },
        "outputId": "ad6a5f22-9617-47e1-e236-93c88ca66c40"
      },
      "source": [
        "print( a - b - c )"
      ],
      "execution_count": 27,
      "outputs": [
        {
          "output_type": "stream",
          "text": [
            "5\n"
          ],
          "name": "stdout"
        }
      ]
    },
    {
      "cell_type": "markdown",
      "metadata": {
        "id": "s9wwlBW_kNvp",
        "colab_type": "text"
      },
      "source": [
        "### **Multiplicação:**\n",
        "Para realizar a multiplicação entre dois números no python utilizamos o caracter **'*'**"
      ]
    },
    {
      "cell_type": "code",
      "metadata": {
        "id": "GllV5CpimPtD",
        "colab_type": "code",
        "colab": {
          "base_uri": "https://localhost:8080/",
          "height": 34
        },
        "outputId": "67e24c11-31ab-4914-a8c5-42094015f483"
      },
      "source": [
        " 2 * 10"
      ],
      "execution_count": 28,
      "outputs": [
        {
          "output_type": "execute_result",
          "data": {
            "text/plain": [
              "20"
            ]
          },
          "metadata": {
            "tags": []
          },
          "execution_count": 28
        }
      ]
    },
    {
      "cell_type": "code",
      "metadata": {
        "id": "7JMp7lipwbyy",
        "colab_type": "code",
        "colab": {
          "base_uri": "https://localhost:8080/",
          "height": 34
        },
        "outputId": "ffc459f5-a844-4caa-f58b-d26069717723"
      },
      "source": [
        "variavel_numero = 10\n",
        "variavel_quantidade = 20\n",
        "print(variavel_numero * variavel_quantidade)"
      ],
      "execution_count": 29,
      "outputs": [
        {
          "output_type": "stream",
          "text": [
            "200\n"
          ],
          "name": "stdout"
        }
      ]
    },
    {
      "cell_type": "markdown",
      "metadata": {
        "id": "kdzAIa16kNkq",
        "colab_type": "text"
      },
      "source": [
        "### **Divisão:**\n",
        "Para realizar a divisão entre dois números no python utilizamos o caracter **'/'**"
      ]
    },
    {
      "cell_type": "code",
      "metadata": {
        "id": "0mJsYkGjmQQ9",
        "colab_type": "code",
        "colab": {
          "base_uri": "https://localhost:8080/",
          "height": 34
        },
        "outputId": "03e80f63-bff1-4fdc-c1e7-7dffbe429d51"
      },
      "source": [
        "100 / 10"
      ],
      "execution_count": 30,
      "outputs": [
        {
          "output_type": "execute_result",
          "data": {
            "text/plain": [
              "10.0"
            ]
          },
          "metadata": {
            "tags": []
          },
          "execution_count": 30
        }
      ]
    },
    {
      "cell_type": "code",
      "metadata": {
        "id": "ck9L-E-ww3Bl",
        "colab_type": "code",
        "colab": {
          "base_uri": "https://localhost:8080/",
          "height": 34
        },
        "outputId": "870f6500-f49b-44ce-8ee0-4d2da4a5b3f0"
      },
      "source": [
        "a = 10\n",
        "b = 3\n",
        "print(10 / 3)"
      ],
      "execution_count": 31,
      "outputs": [
        {
          "output_type": "stream",
          "text": [
            "3.3333333333333335\n"
          ],
          "name": "stdout"
        }
      ]
    },
    {
      "cell_type": "markdown",
      "metadata": {
        "id": "FKRDzlNRkdrJ",
        "colab_type": "text"
      },
      "source": [
        "### **Potência:**\n",
        "Para realizar a potenciação entre dois números no python utilizamos os caracteres **'* *'**"
      ]
    },
    {
      "cell_type": "code",
      "metadata": {
        "id": "u9_ikMq2mQy1",
        "colab_type": "code",
        "colab": {
          "base_uri": "https://localhost:8080/",
          "height": 34
        },
        "outputId": "a6cf8895-3ac2-4f7f-ed85-3fce87d6dfee"
      },
      "source": [
        "print(2**3)"
      ],
      "execution_count": 32,
      "outputs": [
        {
          "output_type": "stream",
          "text": [
            "8\n"
          ],
          "name": "stdout"
        }
      ]
    },
    {
      "cell_type": "code",
      "metadata": {
        "id": "rvDmLT7TxQ44",
        "colab_type": "code",
        "colab": {
          "base_uri": "https://localhost:8080/",
          "height": 34
        },
        "outputId": "4431d944-d8cd-4767-f65d-a53d915a402b"
      },
      "source": [
        "a = 10\n",
        "b = 3\n",
        "print(a ** b)"
      ],
      "execution_count": 33,
      "outputs": [
        {
          "output_type": "stream",
          "text": [
            "1000\n"
          ],
          "name": "stdout"
        }
      ]
    },
    {
      "cell_type": "markdown",
      "metadata": {
        "id": "sa-PkCRVlAcY",
        "colab_type": "text"
      },
      "source": [
        "### **Divisão Inteira:**\n",
        "Para realizar a divisão inteira entre dois números no python utilizamos os caracteres **'//'**\n",
        "\n",
        "*A divisão inteira retorna somente a parte inteira do número - Exemplo: com a divisão normal 5/2 = 2.5, com a divisão inteira: 5//2 = 2*"
      ]
    },
    {
      "cell_type": "code",
      "metadata": {
        "id": "eVqaUTdHmRVb",
        "colab_type": "code",
        "colab": {}
      },
      "source": [
        "a = 10\n",
        "b = 3"
      ],
      "execution_count": 34,
      "outputs": []
    },
    {
      "cell_type": "code",
      "metadata": {
        "id": "bvHF6d9YxjI9",
        "colab_type": "code",
        "colab": {
          "base_uri": "https://localhost:8080/",
          "height": 34
        },
        "outputId": "ccb82107-9b63-41a5-c705-4685c891bf86"
      },
      "source": [
        "print(10//3)"
      ],
      "execution_count": 35,
      "outputs": [
        {
          "output_type": "stream",
          "text": [
            "3\n"
          ],
          "name": "stdout"
        }
      ]
    },
    {
      "cell_type": "code",
      "metadata": {
        "id": "gUkW1H5cxoJZ",
        "colab_type": "code",
        "colab": {
          "base_uri": "https://localhost:8080/",
          "height": 84
        },
        "outputId": "99dec63a-78a5-46fe-9a26-63054c6bd902"
      },
      "source": [
        "print('Divisão Comum')\n",
        "print(a/b)\n",
        "print('Divisão Inteira')\n",
        "print(a//b)"
      ],
      "execution_count": 36,
      "outputs": [
        {
          "output_type": "stream",
          "text": [
            "Divisão Comum\n",
            "3.3333333333333335\n",
            "Divisão Inteira\n",
            "3\n"
          ],
          "name": "stdout"
        }
      ]
    },
    {
      "cell_type": "markdown",
      "metadata": {
        "id": "D-SLiVMZlCFV",
        "colab_type": "text"
      },
      "source": [
        "### **Resto da Divisão:**\n",
        "Para realizar a saber o resto da divisão entre dois números no python utilizamos o caracter **'%'**\n",
        "\n",
        "*Exemplo se dividirmos 10 por 8, o resultado da divisão é 1. Porém o restante dessa divisão é 2, portanto 10 % 8 = 2*"
      ]
    },
    {
      "cell_type": "code",
      "metadata": {
        "id": "f1uQTM5DmR2_",
        "colab_type": "code",
        "colab": {
          "base_uri": "https://localhost:8080/",
          "height": 34
        },
        "outputId": "7570a134-1119-4efa-d505-42a5f746241e"
      },
      "source": [
        "print(10 % 8)"
      ],
      "execution_count": 37,
      "outputs": [
        {
          "output_type": "stream",
          "text": [
            "2\n"
          ],
          "name": "stdout"
        }
      ]
    },
    {
      "cell_type": "code",
      "metadata": {
        "id": "te59LWU9yaSw",
        "colab_type": "code",
        "colab": {
          "base_uri": "https://localhost:8080/",
          "height": 34
        },
        "outputId": "e4333382-13c4-4bab-9b83-2f4e5f57539f"
      },
      "source": [
        "print(9 % 2)"
      ],
      "execution_count": 38,
      "outputs": [
        {
          "output_type": "stream",
          "text": [
            "1\n"
          ],
          "name": "stdout"
        }
      ]
    },
    {
      "cell_type": "code",
      "metadata": {
        "id": "bmZB72TRytn5",
        "colab_type": "code",
        "colab": {
          "base_uri": "https://localhost:8080/",
          "height": 34
        },
        "outputId": "44d4f3a8-410b-4ca3-a513-a2860a60d158"
      },
      "source": [
        "a = 35\n",
        "b = 12\n",
        "print(35 % 12)"
      ],
      "execution_count": 39,
      "outputs": [
        {
          "output_type": "stream",
          "text": [
            "11\n"
          ],
          "name": "stdout"
        }
      ]
    },
    {
      "cell_type": "code",
      "metadata": {
        "id": "PtJ-1pHUzLqT",
        "colab_type": "code",
        "colab": {
          "base_uri": "https://localhost:8080/",
          "height": 34
        },
        "outputId": "972d0997-166b-4a78-b870-3b257a78de73"
      },
      "source": [
        "ano_atual = 2020\n",
        "ano_nascimento = 1994\n",
        "print('A sua idade é ', ano_atual - ano_nascimento)"
      ],
      "execution_count": 40,
      "outputs": [
        {
          "output_type": "stream",
          "text": [
            "A sua idade é  26\n"
          ],
          "name": "stdout"
        }
      ]
    },
    {
      "cell_type": "markdown",
      "metadata": {
        "id": "F3z9sZ4plCoL",
        "colab_type": "text"
      },
      "source": [
        "--- \n",
        "\n",
        "##**Ordem de Precedência**\n",
        "\n",
        "\n",
        "1.   Potência;\n",
        "2.   Multiplicação, Divisão, Divisão Inteira e Resto da Divisão;\n",
        "3.   Soma e Subtração\n",
        "\n"
      ]
    },
    {
      "cell_type": "code",
      "metadata": {
        "id": "m9oPrcUAl_mm",
        "colab_type": "code",
        "colab": {
          "base_uri": "https://localhost:8080/",
          "height": 34
        },
        "outputId": "b6ab3900-c3c2-4679-9e44-c3b8ecb147e5"
      },
      "source": [
        "(2 / (2 + 2)) ** 2"
      ],
      "execution_count": 50,
      "outputs": [
        {
          "output_type": "execute_result",
          "data": {
            "text/plain": [
              "0.25"
            ]
          },
          "metadata": {
            "tags": []
          },
          "execution_count": 50
        }
      ]
    },
    {
      "cell_type": "markdown",
      "metadata": {
        "id": "4nxEf57_nvB-",
        "colab_type": "text"
      },
      "source": [
        "-----\n",
        "\n",
        "## **Análise de Dados Brasil**!\n",
        "***Um jeito diferente de aprender Análise de Dados!***\n",
        "\n",
        "[Youtube](https://www.youtube.com/channel/UC1TUZx4WcPgKkcXymqL1KYA) • [GitHub](https://github.com/adadosbrasil) • [Instagram](https://www.instagram.com/adadosbrasil/) • [Twitter](https://twitter.com/adadosbrasil/) • [LinkedIn](https://www.linkedin.com/company/adadosbrasil/)\n",
        "\n"
      ]
    }
  ]
}