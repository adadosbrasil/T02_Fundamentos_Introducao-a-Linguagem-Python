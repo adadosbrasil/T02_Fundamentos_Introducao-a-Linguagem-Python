{
  "nbformat": 4,
  "nbformat_minor": 0,
  "metadata": {
    "colab": {
      "name": "T02E09.ipynb",
      "provenance": [],
      "collapsed_sections": []
    },
    "kernelspec": {
      "name": "python3",
      "display_name": "Python 3"
    }
  },
  "cells": [
    {
      "cell_type": "markdown",
      "metadata": {
        "id": "UH3xIgjOopuq"
      },
      "source": [
        "# **T02E09 - Introdução ao Python**\n",
        "## **Aula de Hoje:** Estruturas Condicionais II - Estruturas Aninhadas"
      ]
    },
    {
      "cell_type": "markdown",
      "metadata": {
        "id": "S1CmRxrWfTVs"
      },
      "source": [
        "## **Estruras Condicionais Aminhadas**\n",
        "\n",
        "\n",
        "\n",
        "```\n",
        "if Condição 01:\n",
        "  Faça isso 01\n",
        "else:\n",
        "  if Condição 02:\n",
        "    Faça isso 02\n",
        "  else:\n",
        "    if Condição 03:\n",
        "      Faça isso 03\n",
        "    else:\n",
        "      Faça isso 04\n",
        "```\n",
        "\n"
      ]
    },
    {
      "cell_type": "markdown",
      "metadata": {
        "id": "qtqs0IjmjnD-"
      },
      "source": [
        "## **Exercícios**"
      ]
    },
    {
      "cell_type": "markdown",
      "metadata": {
        "id": "0f1z9Q3MkKTq"
      },
      "source": [
        "**Exercício 01)** A loja amoveisbrasil quer criar um sistema para medir a a temperatura do cliente, e de acordo com a medida informar se ele pode entrar na loja ou não. As medidas seguem a seguinte tabela: \n",
        "\n",
        "|TEMPERATURA|CLASSIFICAÇÃO|STATUS|\n",
        "|-----------|-------------|------|\n",
        "|MENOR 37|NORMAL|PODE ENTRAR|\n",
        "|ENTRE 37 E 38|ESTADO FEBRIL|NÃO PODE ENTRAR|\n",
        "|ACIMA DE 38|FEBRE|NÃO PODE ENTRAR|\n",
        "\n",
        "Crie um sistema que de acordo com a medida, informe a classificação e o status para o cliente."
      ]
    },
    {
      "cell_type": "code",
      "metadata": {
        "id": "tNpW-ltHrYS5",
        "outputId": "6aa0132d-73b9-450f-f575-143700b102d1",
        "colab": {
          "base_uri": "https://localhost:8080/",
          "height": 52
        }
      },
      "source": [
        "temperatura = float(input('Qual a sua temperatura: '))\n",
        "\n",
        "if temperatura < 37:\n",
        "  print(f'A sua temperatura é de {temperatura}, ela está normal e você pode entrar na loja!')\n",
        "else:\n",
        "  if 37 <= temperatura <= 38:\n",
        "    print(f'A sua temperatura é de {temperatura}, você está em estado febril e não pode entrar na loja!')\n",
        "  else:\n",
        "    print(f'A sua temperatura é de {temperatura}, você está com febre! Procure um médico!')"
      ],
      "execution_count": 7,
      "outputs": [
        {
          "output_type": "stream",
          "text": [
            "Qual a sua temperatura: 39\n",
            "A sua temperatura é de 39.0, você está com febre! Procure um médico!\n"
          ],
          "name": "stdout"
        }
      ]
    },
    {
      "cell_type": "markdown",
      "metadata": {
        "id": "4fU8zvX6lMJR"
      },
      "source": [
        "**Exercício 02)** O departamento de Diversidade e Inclusão da empresa abusinessbrasil quer disponibilizar um sistema para que seus colaboradores possam saber que geração eles fazem parte, as gerações seguem a seguinte tabela: \n",
        "\n",
        "|NASCIMENTO |CLASSIFICAÇÃO|\n",
        "|-----------|-------------|\n",
        "|1964 OU MENOS|BABY BOOMER|\n",
        "|1965 – 1984|GERAÇÃO X|\n",
        "|1985 – 1999|GERAÇÃO Y|\n",
        "|2000 – OU MAIS|GERAÇÃO Z|\n",
        "\n",
        "Crie um sistema que solicita a idade do colaborador, e informa a classificação."
      ]
    },
    {
      "cell_type": "code",
      "metadata": {
        "id": "QFLdID3SmAJ4",
        "outputId": "66962f18-86e4-415f-d5f8-e17c48d63814",
        "colab": {
          "base_uri": "https://localhost:8080/",
          "height": 52
        }
      },
      "source": [
        "idade = int(input('Qual é a sua idade: '))\n",
        "\n",
        "ano_nasc = 2020 - idade\n",
        "\n",
        "if ano_nasc <= 1964:\n",
        "  print(f'Você tem {idade} anos, portanto você é um Baby Boomer!')\n",
        "else:\n",
        "  if 1965 <= ano_nasc <= 1984:\n",
        "    print(f'Você tem {idade} anos, portanto você esta na geração X')\n",
        "  else:\n",
        "    if 1985 <= ano_nasc <= 1999:\n",
        "      print(f'Você tem {idade} anos, portanto você está na geração Y')\n",
        "    else:\n",
        "      print(f'Você tem {idade} anos, portsanto você está na geração Z')\n"
      ],
      "execution_count": 12,
      "outputs": [
        {
          "output_type": "stream",
          "text": [
            "Qual é a sua idade: 25\n",
            "Você tem 25 anos, portanto você está na geração Y\n"
          ],
          "name": "stdout"
        }
      ]
    },
    {
      "cell_type": "markdown",
      "metadata": {
        "id": "AxS6TVCiknuS"
      },
      "source": [
        "**Exercício 03)** O departamento de marketing da livraria alivrosbrasil está muito preocupado com a venda de livros deste ano, para reverter a situação o time decidiu criar uma promoção de desconto progressivo. Caso o cliente compre 2 livros terá um desconto de 5% no valor da compra, caso compre 3 livros terá um desconto de 10%, caso compre 4 livros terá um desconto de 15% e caso compre 5 livros ou mais terá um desconto de 20%. Desenvolva um sistema que solicita para o cliente o valor total da compra e a quantidade de livros e informa o valor sem desconto e com desconto."
      ]
    },
    {
      "cell_type": "code",
      "metadata": {
        "id": "Me14JBQlmGEM",
        "outputId": "4ca11cdb-2eb4-4aff-aca1-13d7517cea7b",
        "colab": {
          "base_uri": "https://localhost:8080/",
          "height": 191
        }
      },
      "source": [
        "#Condições\n",
        "#1 livros - 0%\n",
        "#2 livros - 5%\n",
        "#3 livros - 10%\n",
        "#4 livros - 15%\n",
        "#5 livros ou mais - 20%\n",
        "\n",
        "valor_total = float(input('Qual o valor total da compra: '))\n",
        "livros = int(input('Quantos livros você comprou: '))\n",
        "\n",
        "#Descontos\n",
        "if livros == 1:\n",
        "  desconto = (100 / 100)\n",
        "else:\n",
        "  if livros == 2:\n",
        "    desconto = (95 / 100)\n",
        "  else:\n",
        "    if livros == 3:\n",
        "      desconto = (90 / 100)\n",
        "    else:\n",
        "      if livros == 4:\n",
        "        desconto = (85 / 100)\n",
        "      else:\n",
        "        desconto = (80 / 100)\n",
        "\n",
        "print(f'''\n",
        "Olá, você comprou {livros} livros\n",
        "\n",
        "O valor total da sua compra é de {valor_total}\n",
        "O valor com desconto é de {valor_total * desconto}\n",
        "\n",
        "Obrigado, e volte sempre!\n",
        "''')"
      ],
      "execution_count": 24,
      "outputs": [
        {
          "output_type": "stream",
          "text": [
            "Qual o valor total da compra: 1000\n",
            "Quantos livros você comprou: 8\n",
            "\n",
            "Olá, você comprou 8 livros\n",
            "\n",
            "O valor total da sua compra é de 1000.0\n",
            "O valor com desconto é de 800.0\n",
            "\n",
            "Obrigado, e volte sempre!\n",
            "\n"
          ],
          "name": "stdout"
        }
      ]
    },
    {
      "cell_type": "markdown",
      "metadata": {
        "id": "pS8-EMUQ8_9i"
      },
      "source": [
        "**Exercício 04)** A academia amusculosbrasil quer criar um sistema para que os alunos possam medir seu IMC e tenham a informação de sua classificação, de acordo com a massa e altura. Crie um sistema que solicita as informações, calcula o IMC e retorna a classificação do aluno.\n",
        "\n",
        "Informações adicionais:  \n",
        "\n",
        "`IMC = MASSA / ALTURA²`\n",
        "\n",
        "|IMC|CLASSIFICAÇÃO|\n",
        "|-------------|--|\n",
        "|MENOR QUE 18,5|MAGREZA|\n",
        "|ENTRE 18,5 E 24,9|NORMAL|\n",
        "|ENTRE 25,0 E 29,9|SOBREPESO|\n",
        "|ENTRE 30,0 E 39,9|OBESIDADE|\n",
        "|MAIOR QUE 40,0|OBESIDADE GRAVE\t|\n"
      ]
    },
    {
      "cell_type": "code",
      "metadata": {
        "id": "mOqlcuoAAvcG",
        "outputId": "7ec90812-50f3-4a94-cd7d-ca7de80b274e",
        "colab": {
          "base_uri": "https://localhost:8080/",
          "height": 243
        }
      },
      "source": [
        "massa = float(input('Qual a sua massa em Kg: '))\n",
        "altura = float(input('Qual a sua altura em metros: '))\n",
        "\n",
        "imc = massa / altura ** 2\n",
        "\n",
        "if imc < 18.5:\n",
        "  classificacao = 'Magreza'\n",
        "else:\n",
        "  if 18.5 <= imc <= 24.9:\n",
        "    classificacao = 'Normal'\n",
        "  else:\n",
        "    if 20 <= imc <= 29.9:\n",
        "      classificacao = 'Sobrepeso'\n",
        "    else:\n",
        "      if 30 <= imc <= 39.9:\n",
        "        classificacao = 'Obesidade'\n",
        "      else:\n",
        "        classificacao = 'Obesidade Grave'\n",
        "\n",
        "print(f'''\n",
        "Olá, a sua massa é de {massa}Kg\n",
        "A sua altura é de {altura}m\n",
        "\n",
        "Seu IMC é de {imc}\n",
        "\n",
        "A sua classificação é {classificacao}\n",
        "\n",
        "Obs - O IMC normal, está entre 18.5 e 24.9\n",
        "\n",
        "''')"
      ],
      "execution_count": 27,
      "outputs": [
        {
          "output_type": "stream",
          "text": [
            "Qual a sua massa em Kg: 150\n",
            "Qual a sua altura em metros: 1.60\n",
            "\n",
            "Olá, a sua massa é de 150.0Kg\n",
            "A sua altura é de 1.6m\n",
            "\n",
            "Seu IMC é de 58.593749999999986\n",
            "\n",
            "A sua classificação é Obesidade Grave\n",
            "\n",
            "Obs - O IMC normal, está entre 18.5 e 24.9\n",
            "\n",
            "\n"
          ],
          "name": "stdout"
        }
      ]
    },
    {
      "cell_type": "markdown",
      "metadata": {
        "id": "rgmPSzbAo5R2"
      },
      "source": [
        "-----\n",
        "\n",
        "## **Análise de Dados Brasil**!\n",
        "***Um jeito diferente de aprender Análise de Dados!***\n",
        "\n",
        "[Youtube](https://www.youtube.com/channel/UC1TUZx4WcPgKkcXymqL1KYA) • [GitHub](https://github.com/adadosbrasil) • [Instagram](https://www.instagram.com/adadosbrasil/) • [Twitter](https://twitter.com/adadosbrasil/) • [LinkedIn](https://www.linkedin.com/company/adadosbrasil/)\n",
        "\n"
      ]
    }
  ]
}