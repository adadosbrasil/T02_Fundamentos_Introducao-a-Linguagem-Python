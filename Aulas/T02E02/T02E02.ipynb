{
  "nbformat": 4,
  "nbformat_minor": 0,
  "metadata": {
    "colab": {
      "name": "T02E02.ipynb",
      "provenance": [],
      "collapsed_sections": []
    },
    "kernelspec": {
      "name": "python3",
      "display_name": "Python 3"
    }
  },
  "cells": [
    {
      "cell_type": "markdown",
      "metadata": {
        "id": "0Rdh4hbukABz",
        "colab_type": "text"
      },
      "source": [
        "# T02E02 - Introdução ao Python\n",
        "## Print e Variáveis\n",
        "\n",
        "Vamos ***aprender*** como utilizar o **print** e o que são **variáveis**!"
      ]
    },
    {
      "cell_type": "markdown",
      "metadata": {
        "id": "NpYNCW67n5Th",
        "colab_type": "text"
      },
      "source": [
        "### Utilização do Print"
      ]
    },
    {
      "cell_type": "code",
      "metadata": {
        "id": "oHAJF-N1kw6W",
        "colab_type": "code",
        "colab": {
          "base_uri": "https://localhost:8080/",
          "height": 34
        },
        "outputId": "d1912685-c671-4027-e853-eff2d085fa3c"
      },
      "source": [
        "#Imprimindo uma mensagem na tela\n",
        "print('Olá Mundo!')"
      ],
      "execution_count": 1,
      "outputs": [
        {
          "output_type": "stream",
          "text": [
            "Olá Mundo!\n"
          ],
          "name": "stdout"
        }
      ]
    },
    {
      "cell_type": "code",
      "metadata": {
        "id": "TSuOj8unlzGG",
        "colab_type": "code",
        "colab": {
          "base_uri": "https://localhost:8080/",
          "height": 34
        },
        "outputId": "4ec9c013-cb58-45fc-de11-634143927619"
      },
      "source": [
        "#Imprimindo um número na tela\n",
        "print(10)"
      ],
      "execution_count": 3,
      "outputs": [
        {
          "output_type": "stream",
          "text": [
            "10\n"
          ],
          "name": "stdout"
        }
      ]
    },
    {
      "cell_type": "code",
      "metadata": {
        "id": "qgG9037MmH9H",
        "colab_type": "code",
        "colab": {
          "base_uri": "https://localhost:8080/",
          "height": 34
        },
        "outputId": "2b6525a2-677e-416f-c92c-8cd5022d5e65"
      },
      "source": [
        "print('10')"
      ],
      "execution_count": 4,
      "outputs": [
        {
          "output_type": "stream",
          "text": [
            "10\n"
          ],
          "name": "stdout"
        }
      ]
    },
    {
      "cell_type": "code",
      "metadata": {
        "id": "xb302ia9mPA5",
        "colab_type": "code",
        "colab": {
          "base_uri": "https://localhost:8080/",
          "height": 35
        },
        "outputId": "222a4d30-e78e-4f8c-91d2-db19e4c43be2"
      },
      "source": [
        "'Olá Mundo!'"
      ],
      "execution_count": 5,
      "outputs": [
        {
          "output_type": "execute_result",
          "data": {
            "application/vnd.google.colaboratory.intrinsic+json": {
              "type": "string"
            },
            "text/plain": [
              "'Olá Mundo!'"
            ]
          },
          "metadata": {
            "tags": []
          },
          "execution_count": 5
        }
      ]
    },
    {
      "cell_type": "markdown",
      "metadata": {
        "id": "pPco1fuln9iB",
        "colab_type": "text"
      },
      "source": [
        "### Utlizando Variáveis"
      ]
    },
    {
      "cell_type": "code",
      "metadata": {
        "id": "En3Qh7tMmgGd",
        "colab_type": "code",
        "colab": {}
      },
      "source": [
        "#Criando variáveis\n",
        "canal = 'Análise de Dados Brasil'"
      ],
      "execution_count": 6,
      "outputs": []
    },
    {
      "cell_type": "code",
      "metadata": {
        "id": "rUqWbqhvnThR",
        "colab_type": "code",
        "colab": {
          "base_uri": "https://localhost:8080/",
          "height": 35
        },
        "outputId": "2878ca29-92d0-4baa-ef76-d7f34df4048f"
      },
      "source": [
        "print(canal)"
      ],
      "execution_count": 7,
      "outputs": [
        {
          "output_type": "stream",
          "text": [
            "Análise de Dados Brasil\n"
          ],
          "name": "stdout"
        }
      ]
    },
    {
      "cell_type": "markdown",
      "metadata": {
        "id": "a4u4X0pBppg_",
        "colab_type": "text"
      },
      "source": [
        "### Regras na Criação de variáveis\n",
        "\n",
        "\n",
        "*   Os nomes só podem começar com letra ou _\n",
        "*   Não podem conter espaços\n",
        "*   São sensíveis a maiúsculas\n",
        "*   Não podem ser uma palavra reservada\n",
        "\n"
      ]
    },
    {
      "cell_type": "code",
      "metadata": {
        "id": "dSdOygUUoEOL",
        "colab_type": "code",
        "colab": {
          "base_uri": "https://localhost:8080/",
          "height": 131
        },
        "outputId": "f5138c08-91cc-4379-8d24-6b0356ea4f9f"
      },
      "source": [
        "#Exemplo Erro Variável\n",
        "10_gleisson = 'Gleisson Bispo'"
      ],
      "execution_count": 8,
      "outputs": [
        {
          "output_type": "error",
          "ename": "SyntaxError",
          "evalue": "ignored",
          "traceback": [
            "\u001b[0;36m  File \u001b[0;32m\"<ipython-input-8-55fecac86e97>\"\u001b[0;36m, line \u001b[0;32m1\u001b[0m\n\u001b[0;31m    10_gleisson = 'Gleisson Bispo'\u001b[0m\n\u001b[0m      ^\u001b[0m\n\u001b[0;31mSyntaxError\u001b[0m\u001b[0;31m:\u001b[0m invalid token\n"
          ]
        }
      ]
    },
    {
      "cell_type": "code",
      "metadata": {
        "id": "G0hu8ZBRoJ4C",
        "colab_type": "code",
        "colab": {
          "base_uri": "https://localhost:8080/",
          "height": 131
        },
        "outputId": "ef937a7c-91c5-4774-eca9-6a42c1067d6b"
      },
      "source": [
        "#Exemplo Erro Variável\n",
        "nome pessoa = 'Gleisson Bispo'"
      ],
      "execution_count": 9,
      "outputs": [
        {
          "output_type": "error",
          "ename": "SyntaxError",
          "evalue": "ignored",
          "traceback": [
            "\u001b[0;36m  File \u001b[0;32m\"<ipython-input-9-6560c9a0094a>\"\u001b[0;36m, line \u001b[0;32m1\u001b[0m\n\u001b[0;31m    nome pessoa = 'Gleisson Bispo'\u001b[0m\n\u001b[0m              ^\u001b[0m\n\u001b[0;31mSyntaxError\u001b[0m\u001b[0;31m:\u001b[0m invalid syntax\n"
          ]
        }
      ]
    },
    {
      "cell_type": "code",
      "metadata": {
        "id": "a7S3PGgLp_D2",
        "colab_type": "code",
        "colab": {
          "base_uri": "https://localhost:8080/",
          "height": 131
        },
        "outputId": "6760b8a0-428a-47ff-c999-6e520378ef0e"
      },
      "source": [
        "#Exemplo Erro Variável\n",
        "print() = 'Gleisson Bispo'"
      ],
      "execution_count": 19,
      "outputs": [
        {
          "output_type": "error",
          "ename": "SyntaxError",
          "evalue": "ignored",
          "traceback": [
            "\u001b[0;36m  File \u001b[0;32m\"<ipython-input-19-a29f9d7aec4b>\"\u001b[0;36m, line \u001b[0;32m1\u001b[0m\n\u001b[0;31m    print() = 'Gleisson Bispo'\u001b[0m\n\u001b[0m                              ^\u001b[0m\n\u001b[0;31mSyntaxError\u001b[0m\u001b[0;31m:\u001b[0m can't assign to function call\n"
          ]
        }
      ]
    },
    {
      "cell_type": "code",
      "metadata": {
        "id": "yTltgDsQoNY7",
        "colab_type": "code",
        "colab": {
          "base_uri": "https://localhost:8080/",
          "height": 35
        },
        "outputId": "da6ea60d-d5ef-4f93-a375-2370dfb792e2"
      },
      "source": [
        "#Criando Variáveis\n",
        "_gleisson = 'Gleisson Bispo'\n",
        "print(_gleisson)"
      ],
      "execution_count": 12,
      "outputs": [
        {
          "output_type": "stream",
          "text": [
            "Gleisson Bispo\n"
          ],
          "name": "stdout"
        }
      ]
    },
    {
      "cell_type": "code",
      "metadata": {
        "id": "QOsp4pk2onGq",
        "colab_type": "code",
        "colab": {}
      },
      "source": [
        "nome_usuario = 'Gleisson Bispo'"
      ],
      "execution_count": 13,
      "outputs": []
    },
    {
      "cell_type": "code",
      "metadata": {
        "id": "QSp0zpLso3o6",
        "colab_type": "code",
        "colab": {}
      },
      "source": [
        "#Criando variáveis com Números\n",
        "numero_1 = 10\n",
        "numero_2 = 20"
      ],
      "execution_count": 14,
      "outputs": []
    },
    {
      "cell_type": "code",
      "metadata": {
        "id": "bCpKJWlEo-Vt",
        "colab_type": "code",
        "colab": {
          "base_uri": "https://localhost:8080/",
          "height": 35
        },
        "outputId": "4a97e4ac-3fc5-4b9a-c0a5-af37123a5f12"
      },
      "source": [
        "#Somando Variáveis\n",
        "numero_1 + numero_2"
      ],
      "execution_count": 15,
      "outputs": [
        {
          "output_type": "execute_result",
          "data": {
            "text/plain": [
              "30"
            ]
          },
          "metadata": {
            "tags": []
          },
          "execution_count": 15
        }
      ]
    },
    {
      "cell_type": "markdown",
      "metadata": {
        "id": "1l4Bev2vqQbO",
        "colab_type": "text"
      },
      "source": [
        "# **Análise de Dados Brasil**\n",
        "***Um jeito diferente de aprender Análise de Dados!***\n",
        "* [**Youtube**](https://www.youtube.com/channel/UC1TUZx4WcPgKkcXymqL1KYA)\n",
        "* [**GitHub**](https://github.com/adadosbrasil)\n",
        "* [**Instagram**](https://www.instagram.com/adadosbrasil/)\n",
        "* [**Twitter**](https://twitter.com/adadosbrasil/)\n",
        "* [**LinkedIn**](https://www.linkedin.com/company/adadosbrasil/)\n",
        "\n",
        "\n"
      ]
    }
  ]
}