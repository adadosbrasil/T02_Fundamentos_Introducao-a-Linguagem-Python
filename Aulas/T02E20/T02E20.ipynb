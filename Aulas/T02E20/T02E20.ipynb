{
  "nbformat": 4,
  "nbformat_minor": 0,
  "metadata": {
    "colab": {
      "name": "T02E20.ipynb",
      "provenance": [],
      "collapsed_sections": []
    },
    "kernelspec": {
      "name": "python3",
      "display_name": "Python 3"
    }
  },
  "cells": [
    {
      "cell_type": "markdown",
      "metadata": {
        "id": "UH3xIgjOopuq"
      },
      "source": [
        "# **T02E20 - Introdução ao Python**\n",
        "## **Aula de Hoje:** Integrando Tuplas e Listas"
      ]
    },
    {
      "cell_type": "markdown",
      "metadata": {
        "id": "2MdN_rvOQAdK"
      },
      "source": [
        "### **Exemplo 01)** Criando uma lista"
      ]
    },
    {
      "cell_type": "code",
      "metadata": {
        "colab": {
          "base_uri": "https://localhost:8080/"
        },
        "id": "D0_fxgffbCC-",
        "outputId": "d1486eb3-78d6-4329-9db4-d4e17c3bc56e"
      },
      "source": [
        "lista_mes = ['Abril', 'Maio']\n",
        "lista_ano = [2010, 2011]\n",
        "\n",
        "print(lista_mes, lista_ano)"
      ],
      "execution_count": null,
      "outputs": [
        {
          "output_type": "stream",
          "text": [
            "['Abril', 'Maio'] [2010, 2011]\n"
          ],
          "name": "stdout"
        }
      ]
    },
    {
      "cell_type": "code",
      "metadata": {
        "id": "pHUF2XQIbtzR"
      },
      "source": [
        "lista_ano[0] = 2015"
      ],
      "execution_count": null,
      "outputs": []
    },
    {
      "cell_type": "code",
      "metadata": {
        "colab": {
          "base_uri": "https://localhost:8080/"
        },
        "id": "fMF_MQq7bxM-",
        "outputId": "2bb46eb4-7791-4654-b445-439f80336235"
      },
      "source": [
        "lista_ano"
      ],
      "execution_count": null,
      "outputs": [
        {
          "output_type": "execute_result",
          "data": {
            "text/plain": [
              "[2015, 2011]"
            ]
          },
          "metadata": {
            "tags": []
          },
          "execution_count": 41
        }
      ]
    },
    {
      "cell_type": "markdown",
      "metadata": {
        "id": "8bdnd-CYzP6z"
      },
      "source": [
        "### **Exemplo 02)** Criando uma tupla"
      ]
    },
    {
      "cell_type": "code",
      "metadata": {
        "colab": {
          "base_uri": "https://localhost:8080/"
        },
        "id": "6HaWeD25bCY2",
        "outputId": "59d4ccb7-520a-482b-cde6-41be0159eade"
      },
      "source": [
        "tupla_mes = ('Abril', 'Maio')\n",
        "tupla_ano = (2010, 2011)\n",
        "\n",
        "print(tupla_mes, tupla_ano)"
      ],
      "execution_count": null,
      "outputs": [
        {
          "output_type": "stream",
          "text": [
            "('Abril', 'Maio') (2010, 2011)\n"
          ],
          "name": "stdout"
        }
      ]
    },
    {
      "cell_type": "code",
      "metadata": {
        "colab": {
          "base_uri": "https://localhost:8080/",
          "height": 166
        },
        "id": "tvRQTUJyb0d2",
        "outputId": "899f3463-bcac-4ec3-c263-88af94393aa1"
      },
      "source": [
        "tupla_ano[0] = 2015"
      ],
      "execution_count": null,
      "outputs": [
        {
          "output_type": "error",
          "ename": "TypeError",
          "evalue": "ignored",
          "traceback": [
            "\u001b[0;31m---------------------------------------------------------------------------\u001b[0m",
            "\u001b[0;31mTypeError\u001b[0m                                 Traceback (most recent call last)",
            "\u001b[0;32m<ipython-input-43-6c5c534f05e2>\u001b[0m in \u001b[0;36m<module>\u001b[0;34m()\u001b[0m\n\u001b[0;32m----> 1\u001b[0;31m \u001b[0mtupla_ano\u001b[0m\u001b[0;34m[\u001b[0m\u001b[0;36m0\u001b[0m\u001b[0;34m]\u001b[0m \u001b[0;34m=\u001b[0m \u001b[0;36m2015\u001b[0m\u001b[0;34m\u001b[0m\u001b[0;34m\u001b[0m\u001b[0m\n\u001b[0m",
            "\u001b[0;31mTypeError\u001b[0m: 'tuple' object does not support item assignment"
          ]
        }
      ]
    },
    {
      "cell_type": "markdown",
      "metadata": {
        "id": "cDenUGhozgEK"
      },
      "source": [
        "### **Exemplo 03)** Criando uma lista de tuplas"
      ]
    },
    {
      "cell_type": "code",
      "metadata": {
        "id": "SsTs-65pbDKV"
      },
      "source": [
        "lista_tuplas = [(2010, 2011), ('Abril', 'Maio')]"
      ],
      "execution_count": null,
      "outputs": []
    },
    {
      "cell_type": "code",
      "metadata": {
        "colab": {
          "base_uri": "https://localhost:8080/"
        },
        "id": "vx37GhZJcHPF",
        "outputId": "cc218e96-def3-46fe-bb85-07c83f2d4cc6"
      },
      "source": [
        "lista_tuplas"
      ],
      "execution_count": null,
      "outputs": [
        {
          "output_type": "execute_result",
          "data": {
            "text/plain": [
              "[(2010, 2011), ('Abril', 'Maio')]"
            ]
          },
          "metadata": {
            "tags": []
          },
          "execution_count": 45
        }
      ]
    },
    {
      "cell_type": "code",
      "metadata": {
        "colab": {
          "base_uri": "https://localhost:8080/"
        },
        "id": "ZLMgC3UXcKzx",
        "outputId": "5a977633-ee78-41b3-c2e6-ebbbeb1e7b3b"
      },
      "source": [
        "len(lista_tuplas)"
      ],
      "execution_count": null,
      "outputs": [
        {
          "output_type": "execute_result",
          "data": {
            "text/plain": [
              "2"
            ]
          },
          "metadata": {
            "tags": []
          },
          "execution_count": 46
        }
      ]
    },
    {
      "cell_type": "code",
      "metadata": {
        "colab": {
          "base_uri": "https://localhost:8080/"
        },
        "id": "gvq1O344cODV",
        "outputId": "fcf2913f-8c42-45b2-8e38-2ff3175632a2"
      },
      "source": [
        "type(lista_tuplas)"
      ],
      "execution_count": null,
      "outputs": [
        {
          "output_type": "execute_result",
          "data": {
            "text/plain": [
              "list"
            ]
          },
          "metadata": {
            "tags": []
          },
          "execution_count": 47
        }
      ]
    },
    {
      "cell_type": "code",
      "metadata": {
        "colab": {
          "base_uri": "https://localhost:8080/"
        },
        "id": "sTvQXwdtcP3H",
        "outputId": "a503e038-be78-4778-a8d9-fb82306a5014"
      },
      "source": [
        "lista_tuplas[0]"
      ],
      "execution_count": null,
      "outputs": [
        {
          "output_type": "execute_result",
          "data": {
            "text/plain": [
              "(2010, 2011)"
            ]
          },
          "metadata": {
            "tags": []
          },
          "execution_count": 48
        }
      ]
    },
    {
      "cell_type": "code",
      "metadata": {
        "colab": {
          "base_uri": "https://localhost:8080/"
        },
        "id": "3k-WKO-KcSzA",
        "outputId": "fd9ee5ad-7d7b-4939-d93a-f98f05f5afa6"
      },
      "source": [
        "type(lista_tuplas[0])"
      ],
      "execution_count": null,
      "outputs": [
        {
          "output_type": "execute_result",
          "data": {
            "text/plain": [
              "tuple"
            ]
          },
          "metadata": {
            "tags": []
          },
          "execution_count": 49
        }
      ]
    },
    {
      "cell_type": "code",
      "metadata": {
        "colab": {
          "base_uri": "https://localhost:8080/"
        },
        "id": "kjB6BrvhcWrG",
        "outputId": "424ffd4d-c696-4e55-b89c-9c524bdc0c19"
      },
      "source": [
        "lista_tuplas"
      ],
      "execution_count": null,
      "outputs": [
        {
          "output_type": "execute_result",
          "data": {
            "text/plain": [
              "[(2010, 2011), ('Abril', 'Maio')]"
            ]
          },
          "metadata": {
            "tags": []
          },
          "execution_count": 50
        }
      ]
    },
    {
      "cell_type": "code",
      "metadata": {
        "id": "VUzc-y2Pca9z"
      },
      "source": [
        "lista_tuplas[0] = (2015, 2016)"
      ],
      "execution_count": null,
      "outputs": []
    },
    {
      "cell_type": "code",
      "metadata": {
        "colab": {
          "base_uri": "https://localhost:8080/"
        },
        "id": "qBYAzR_QciLG",
        "outputId": "1b2ed1c2-149a-4562-b1d3-aaa60f5fef66"
      },
      "source": [
        "lista_tuplas"
      ],
      "execution_count": null,
      "outputs": [
        {
          "output_type": "execute_result",
          "data": {
            "text/plain": [
              "[(2015, 2016), ('Abril', 'Maio')]"
            ]
          },
          "metadata": {
            "tags": []
          },
          "execution_count": 53
        }
      ]
    },
    {
      "cell_type": "code",
      "metadata": {
        "colab": {
          "base_uri": "https://localhost:8080/"
        },
        "id": "phybHjiQcok3",
        "outputId": "e1b0f478-0323-48d4-ecc3-8e8cdfff4355"
      },
      "source": [
        "lista_tuplas[0]"
      ],
      "execution_count": null,
      "outputs": [
        {
          "output_type": "execute_result",
          "data": {
            "text/plain": [
              "(2015, 2016)"
            ]
          },
          "metadata": {
            "tags": []
          },
          "execution_count": 54
        }
      ]
    },
    {
      "cell_type": "code",
      "metadata": {
        "colab": {
          "base_uri": "https://localhost:8080/",
          "height": 166
        },
        "id": "wDwNyJm7cx7l",
        "outputId": "1f829ac2-85da-42f4-f6eb-bdb818fed450"
      },
      "source": [
        "lista_tuplas[0][1] = 2020"
      ],
      "execution_count": null,
      "outputs": [
        {
          "output_type": "error",
          "ename": "TypeError",
          "evalue": "ignored",
          "traceback": [
            "\u001b[0;31m---------------------------------------------------------------------------\u001b[0m",
            "\u001b[0;31mTypeError\u001b[0m                                 Traceback (most recent call last)",
            "\u001b[0;32m<ipython-input-57-2a036a045b10>\u001b[0m in \u001b[0;36m<module>\u001b[0;34m()\u001b[0m\n\u001b[0;32m----> 1\u001b[0;31m \u001b[0mlista_tuplas\u001b[0m\u001b[0;34m[\u001b[0m\u001b[0;36m0\u001b[0m\u001b[0;34m]\u001b[0m\u001b[0;34m[\u001b[0m\u001b[0;36m1\u001b[0m\u001b[0;34m]\u001b[0m \u001b[0;34m=\u001b[0m \u001b[0;36m2020\u001b[0m\u001b[0;34m\u001b[0m\u001b[0;34m\u001b[0m\u001b[0m\n\u001b[0m",
            "\u001b[0;31mTypeError\u001b[0m: 'tuple' object does not support item assignment"
          ]
        }
      ]
    },
    {
      "cell_type": "code",
      "metadata": {
        "colab": {
          "base_uri": "https://localhost:8080/"
        },
        "id": "ajTBMiZFc57H",
        "outputId": "9af91655-613b-4c3b-ed03-8ed44a9b019c"
      },
      "source": [
        "lista_tuplas"
      ],
      "execution_count": null,
      "outputs": [
        {
          "output_type": "execute_result",
          "data": {
            "text/plain": [
              "[(2015, 2016), ('Abril', 'Maio')]"
            ]
          },
          "metadata": {
            "tags": []
          },
          "execution_count": 58
        }
      ]
    },
    {
      "cell_type": "markdown",
      "metadata": {
        "id": "VyE0QMd7rk1z"
      },
      "source": [
        "### **Exemplo 04)** Criando uma tupla de listas"
      ]
    },
    {
      "cell_type": "code",
      "metadata": {
        "id": "NT6YukvgbDs-"
      },
      "source": [
        "tupla_listas = ([2015, 2020], ['Janeiro', 'Fevereiro'])"
      ],
      "execution_count": null,
      "outputs": []
    },
    {
      "cell_type": "code",
      "metadata": {
        "colab": {
          "base_uri": "https://localhost:8080/"
        },
        "id": "4aMDFwmxdaLX",
        "outputId": "8ae91593-3ce7-4b54-dafd-59516dc3566a"
      },
      "source": [
        "tupla_listas"
      ],
      "execution_count": null,
      "outputs": [
        {
          "output_type": "execute_result",
          "data": {
            "text/plain": [
              "([2015, 2020], ['Janeiro', 'Fevereiro'])"
            ]
          },
          "metadata": {
            "tags": []
          },
          "execution_count": 60
        }
      ]
    },
    {
      "cell_type": "code",
      "metadata": {
        "colab": {
          "base_uri": "https://localhost:8080/"
        },
        "id": "oNUy4jCkddIH",
        "outputId": "d18e4562-36de-4234-c440-9bff72da4d5f"
      },
      "source": [
        "type(tupla_listas)"
      ],
      "execution_count": null,
      "outputs": [
        {
          "output_type": "execute_result",
          "data": {
            "text/plain": [
              "tuple"
            ]
          },
          "metadata": {
            "tags": []
          },
          "execution_count": 61
        }
      ]
    },
    {
      "cell_type": "code",
      "metadata": {
        "colab": {
          "base_uri": "https://localhost:8080/"
        },
        "id": "s1ciYHogdgWO",
        "outputId": "94016892-5511-4ee3-bfc7-09dcd646ae90"
      },
      "source": [
        "type(tupla_listas[0])"
      ],
      "execution_count": null,
      "outputs": [
        {
          "output_type": "execute_result",
          "data": {
            "text/plain": [
              "list"
            ]
          },
          "metadata": {
            "tags": []
          },
          "execution_count": 65
        }
      ]
    },
    {
      "cell_type": "code",
      "metadata": {
        "colab": {
          "base_uri": "https://localhost:8080/",
          "height": 166
        },
        "id": "hF_M-0Ctdn4S",
        "outputId": "0c92c0f6-08fe-49fa-ff0e-c9ca706d9673"
      },
      "source": [
        "tupla_listas[0] = [2050, 2052]"
      ],
      "execution_count": null,
      "outputs": [
        {
          "output_type": "error",
          "ename": "TypeError",
          "evalue": "ignored",
          "traceback": [
            "\u001b[0;31m---------------------------------------------------------------------------\u001b[0m",
            "\u001b[0;31mTypeError\u001b[0m                                 Traceback (most recent call last)",
            "\u001b[0;32m<ipython-input-68-adef08430332>\u001b[0m in \u001b[0;36m<module>\u001b[0;34m()\u001b[0m\n\u001b[0;32m----> 1\u001b[0;31m \u001b[0mtupla_listas\u001b[0m\u001b[0;34m[\u001b[0m\u001b[0;36m0\u001b[0m\u001b[0;34m]\u001b[0m \u001b[0;34m=\u001b[0m \u001b[0;34m[\u001b[0m\u001b[0;36m2050\u001b[0m\u001b[0;34m,\u001b[0m \u001b[0;36m2052\u001b[0m\u001b[0;34m]\u001b[0m\u001b[0;34m\u001b[0m\u001b[0;34m\u001b[0m\u001b[0m\n\u001b[0m",
            "\u001b[0;31mTypeError\u001b[0m: 'tuple' object does not support item assignment"
          ]
        }
      ]
    },
    {
      "cell_type": "code",
      "metadata": {
        "colab": {
          "base_uri": "https://localhost:8080/"
        },
        "id": "4fpDAPu5dwIf",
        "outputId": "69230506-948c-4270-f5f8-992876750518"
      },
      "source": [
        "tupla_listas[1]"
      ],
      "execution_count": null,
      "outputs": [
        {
          "output_type": "execute_result",
          "data": {
            "text/plain": [
              "['Janeiro', 'Fevereiro']"
            ]
          },
          "metadata": {
            "tags": []
          },
          "execution_count": 70
        }
      ]
    },
    {
      "cell_type": "code",
      "metadata": {
        "id": "7uedfo5vd3WH"
      },
      "source": [
        "tupla_listas[1][0] = 'Março'"
      ],
      "execution_count": null,
      "outputs": []
    },
    {
      "cell_type": "code",
      "metadata": {
        "colab": {
          "base_uri": "https://localhost:8080/"
        },
        "id": "fwPuBP5gd9I2",
        "outputId": "7a139c8b-2211-4ab5-ad40-5afa8b158671"
      },
      "source": [
        "tupla_listas"
      ],
      "execution_count": null,
      "outputs": [
        {
          "output_type": "execute_result",
          "data": {
            "text/plain": [
              "([2015, 2020], ['Março', 'Fevereiro'])"
            ]
          },
          "metadata": {
            "tags": []
          },
          "execution_count": 73
        }
      ]
    },
    {
      "cell_type": "markdown",
      "metadata": {
        "id": "4p69gfDEroo6"
      },
      "source": [
        "### **Exemplo 05)** Transformando tuplas e listas em strings utilizando o método **join( )**"
      ]
    },
    {
      "cell_type": "code",
      "metadata": {
        "id": "3Fex10AdbEIt"
      },
      "source": [
        "s = 'Gleisson é o professor de ciencia de dados'"
      ],
      "execution_count": null,
      "outputs": []
    },
    {
      "cell_type": "code",
      "metadata": {
        "colab": {
          "base_uri": "https://localhost:8080/",
          "height": 35
        },
        "id": "xIDBF474eTHZ",
        "outputId": "2d0cb5ff-e5a0-44a9-97b6-bbcd420ae02c"
      },
      "source": [
        "s"
      ],
      "execution_count": null,
      "outputs": [
        {
          "output_type": "execute_result",
          "data": {
            "application/vnd.google.colaboratory.intrinsic+json": {
              "type": "string"
            },
            "text/plain": [
              "'Gleisson é o professor de ciencia de dados'"
            ]
          },
          "metadata": {
            "tags": []
          },
          "execution_count": 75
        }
      ]
    },
    {
      "cell_type": "code",
      "metadata": {
        "colab": {
          "base_uri": "https://localhost:8080/"
        },
        "id": "kytCMAjdeTw2",
        "outputId": "ae9f5576-375b-47e3-e2c9-65882b06988c"
      },
      "source": [
        "tuple(s.split())"
      ],
      "execution_count": null,
      "outputs": [
        {
          "output_type": "execute_result",
          "data": {
            "text/plain": [
              "('Gleisson', 'é', 'o', 'professor', 'de', 'ciencia', 'de', 'dados')"
            ]
          },
          "metadata": {
            "tags": []
          },
          "execution_count": 77
        }
      ]
    },
    {
      "cell_type": "code",
      "metadata": {
        "id": "1KJgrDomeXxg"
      },
      "source": [
        "tupla_string = ('O', 'Gleisson', 'é', 'o', 'Professor')"
      ],
      "execution_count": null,
      "outputs": []
    },
    {
      "cell_type": "code",
      "metadata": {
        "colab": {
          "base_uri": "https://localhost:8080/"
        },
        "id": "4GuA5UQWefXg",
        "outputId": "445b8f6d-ab90-402a-8498-094cb0ec8231"
      },
      "source": [
        "tupla_string"
      ],
      "execution_count": null,
      "outputs": [
        {
          "output_type": "execute_result",
          "data": {
            "text/plain": [
              "('O', 'Gleisson', 'é', 'o', 'Professor')"
            ]
          },
          "metadata": {
            "tags": []
          },
          "execution_count": 79
        }
      ]
    },
    {
      "cell_type": "code",
      "metadata": {
        "colab": {
          "base_uri": "https://localhost:8080/",
          "height": 35
        },
        "id": "WUtyWvWdejco",
        "outputId": "d448e0be-e94e-4df1-e35a-f406c55d4dfe"
      },
      "source": [
        "' '.join(tupla_string)"
      ],
      "execution_count": null,
      "outputs": [
        {
          "output_type": "execute_result",
          "data": {
            "application/vnd.google.colaboratory.intrinsic+json": {
              "type": "string"
            },
            "text/plain": [
              "'O Gleisson é o Professor'"
            ]
          },
          "metadata": {
            "tags": []
          },
          "execution_count": 80
        }
      ]
    },
    {
      "cell_type": "code",
      "metadata": {
        "colab": {
          "base_uri": "https://localhost:8080/",
          "height": 35
        },
        "id": "Db0AX-ZUeyvv",
        "outputId": "002923e5-eef1-40ff-9863-f3aa2733c135"
      },
      "source": [
        "'$'.join(tupla_string)"
      ],
      "execution_count": null,
      "outputs": [
        {
          "output_type": "execute_result",
          "data": {
            "application/vnd.google.colaboratory.intrinsic+json": {
              "type": "string"
            },
            "text/plain": [
              "'O$Gleisson$é$o$Professor'"
            ]
          },
          "metadata": {
            "tags": []
          },
          "execution_count": 84
        }
      ]
    },
    {
      "cell_type": "markdown",
      "metadata": {
        "id": "rgmPSzbAo5R2"
      },
      "source": [
        "-----\n",
        "\n",
        "## **Análise de Dados Brasil**!\n",
        "***Um jeito diferente de aprender Análise de Dados!***\n",
        "\n",
        "[Youtube](https://www.youtube.com/channel/UC1TUZx4WcPgKkcXymqL1KYA) • [GitHub](https://github.com/adadosbrasil) • [Instagram](https://www.instagram.com/adadosbrasil/) • [LinkedIn](https://www.linkedin.com/company/adadosbrasil/)\n",
        "\n"
      ]
    }
  ]
}