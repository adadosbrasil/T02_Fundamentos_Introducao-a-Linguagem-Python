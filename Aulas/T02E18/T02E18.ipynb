{
  "nbformat": 4,
  "nbformat_minor": 0,
  "metadata": {
    "colab": {
      "name": "T02E18.ipynb",
      "provenance": [],
      "collapsed_sections": []
    },
    "kernelspec": {
      "name": "python3",
      "display_name": "Python 3"
    }
  },
  "cells": [
    {
      "cell_type": "markdown",
      "metadata": {
        "id": "UH3xIgjOopuq"
      },
      "source": [
        "# **T02E18 - Introdução ao Python**\n",
        "## **Aula de Hoje:** Trabalhando com Tuplas II"
      ]
    },
    {
      "cell_type": "markdown",
      "metadata": {
        "id": "G5KIFVLcEeLI"
      },
      "source": [
        "### **Exemplo 01)** Criando uma tupla com um único valor"
      ]
    },
    {
      "cell_type": "code",
      "metadata": {
        "id": "67AOh26wO7cN"
      },
      "source": [
        "tupla_teste = ('Paulo', 'Mariana', 'Claudio', 'Maria')"
      ],
      "execution_count": 1,
      "outputs": []
    },
    {
      "cell_type": "code",
      "metadata": {
        "colab": {
          "base_uri": "https://localhost:8080/"
        },
        "id": "7Sfwr0uNSN_V",
        "outputId": "f0d983d6-ada5-4409-bc92-aebcfa45838b"
      },
      "source": [
        "tupla_teste"
      ],
      "execution_count": 2,
      "outputs": [
        {
          "output_type": "execute_result",
          "data": {
            "text/plain": [
              "('Paulo', 'Mariana', 'Claudio', 'Maria')"
            ]
          },
          "metadata": {
            "tags": []
          },
          "execution_count": 2
        }
      ]
    },
    {
      "cell_type": "code",
      "metadata": {
        "colab": {
          "base_uri": "https://localhost:8080/"
        },
        "id": "G_X2oGBeSP0C",
        "outputId": "84e0c7c1-298d-4c77-d8b7-01874eded054"
      },
      "source": [
        "type(tupla_teste)"
      ],
      "execution_count": 3,
      "outputs": [
        {
          "output_type": "execute_result",
          "data": {
            "text/plain": [
              "tuple"
            ]
          },
          "metadata": {
            "tags": []
          },
          "execution_count": 3
        }
      ]
    },
    {
      "cell_type": "code",
      "metadata": {
        "id": "7_iesyV3SXPV"
      },
      "source": [
        "tupla_01 = ('Gleisson')"
      ],
      "execution_count": 10,
      "outputs": []
    },
    {
      "cell_type": "code",
      "metadata": {
        "colab": {
          "base_uri": "https://localhost:8080/",
          "height": 35
        },
        "id": "M6D220iVSb30",
        "outputId": "e78f3318-3030-43c4-c79b-23014cd92090"
      },
      "source": [
        "tupla_01"
      ],
      "execution_count": 11,
      "outputs": [
        {
          "output_type": "execute_result",
          "data": {
            "application/vnd.google.colaboratory.intrinsic+json": {
              "type": "string"
            },
            "text/plain": [
              "'Gleisson'"
            ]
          },
          "metadata": {
            "tags": []
          },
          "execution_count": 11
        }
      ]
    },
    {
      "cell_type": "code",
      "metadata": {
        "colab": {
          "base_uri": "https://localhost:8080/"
        },
        "id": "sjMbfpi1Sdi0",
        "outputId": "4152e89b-f2cc-4abc-d83b-2762b3eb3822"
      },
      "source": [
        "type(tupla_01)"
      ],
      "execution_count": 12,
      "outputs": [
        {
          "output_type": "execute_result",
          "data": {
            "text/plain": [
              "str"
            ]
          },
          "metadata": {
            "tags": []
          },
          "execution_count": 12
        }
      ]
    },
    {
      "cell_type": "code",
      "metadata": {
        "id": "_MWtZSqhSo9y"
      },
      "source": [
        "tupla_01 = ('Gleisson',)"
      ],
      "execution_count": 13,
      "outputs": []
    },
    {
      "cell_type": "code",
      "metadata": {
        "colab": {
          "base_uri": "https://localhost:8080/"
        },
        "id": "1eYBmy4TStzb",
        "outputId": "4ebb46b7-c7aa-4cac-b4f9-08ca4312c8e4"
      },
      "source": [
        "tupla_01"
      ],
      "execution_count": 15,
      "outputs": [
        {
          "output_type": "execute_result",
          "data": {
            "text/plain": [
              "('Gleisson',)"
            ]
          },
          "metadata": {
            "tags": []
          },
          "execution_count": 15
        }
      ]
    },
    {
      "cell_type": "code",
      "metadata": {
        "colab": {
          "base_uri": "https://localhost:8080/"
        },
        "id": "-kJHCUkeSy52",
        "outputId": "f1033449-02dd-4bcb-93fd-84b7fb1d6650"
      },
      "source": [
        "type(tupla_01)"
      ],
      "execution_count": 16,
      "outputs": [
        {
          "output_type": "execute_result",
          "data": {
            "text/plain": [
              "tuple"
            ]
          },
          "metadata": {
            "tags": []
          },
          "execution_count": 16
        }
      ]
    },
    {
      "cell_type": "code",
      "metadata": {
        "colab": {
          "base_uri": "https://localhost:8080/"
        },
        "id": "PzAGyAqcS1LT",
        "outputId": "04626a5c-f6f1-4932-f0b3-da1dab3a63ef"
      },
      "source": [
        "len(tupla_01)"
      ],
      "execution_count": 17,
      "outputs": [
        {
          "output_type": "execute_result",
          "data": {
            "text/plain": [
              "1"
            ]
          },
          "metadata": {
            "tags": []
          },
          "execution_count": 17
        }
      ]
    },
    {
      "cell_type": "code",
      "metadata": {
        "id": "5DqMRP2nS8F0"
      },
      "source": [
        "tupla_02 = 'Gleisson',"
      ],
      "execution_count": 24,
      "outputs": []
    },
    {
      "cell_type": "code",
      "metadata": {
        "colab": {
          "base_uri": "https://localhost:8080/"
        },
        "id": "zgjHHTA0TCwF",
        "outputId": "2ed8f7e1-e952-4296-b19f-fa80fec91fc7"
      },
      "source": [
        "tupla_02"
      ],
      "execution_count": 25,
      "outputs": [
        {
          "output_type": "execute_result",
          "data": {
            "text/plain": [
              "('Gleisson',)"
            ]
          },
          "metadata": {
            "tags": []
          },
          "execution_count": 25
        }
      ]
    },
    {
      "cell_type": "code",
      "metadata": {
        "colab": {
          "base_uri": "https://localhost:8080/"
        },
        "id": "AmBsWI5eTEeE",
        "outputId": "64cb13a8-180d-49c8-c2a8-54158ac90894"
      },
      "source": [
        "type(tupla_02)"
      ],
      "execution_count": 26,
      "outputs": [
        {
          "output_type": "execute_result",
          "data": {
            "text/plain": [
              "tuple"
            ]
          },
          "metadata": {
            "tags": []
          },
          "execution_count": 26
        }
      ]
    },
    {
      "cell_type": "code",
      "metadata": {
        "id": "vdIJ45xxTMed"
      },
      "source": [
        "tupla_03 = tuple(['Gleisson'])"
      ],
      "execution_count": 35,
      "outputs": []
    },
    {
      "cell_type": "code",
      "metadata": {
        "colab": {
          "base_uri": "https://localhost:8080/"
        },
        "id": "y9_4ZDMiTUwe",
        "outputId": "b5e02d28-ed0c-41ed-fa6e-c84ada5991a6"
      },
      "source": [
        "tupla_03"
      ],
      "execution_count": 36,
      "outputs": [
        {
          "output_type": "execute_result",
          "data": {
            "text/plain": [
              "('Gleisson',)"
            ]
          },
          "metadata": {
            "tags": []
          },
          "execution_count": 36
        }
      ]
    },
    {
      "cell_type": "code",
      "metadata": {
        "colab": {
          "base_uri": "https://localhost:8080/"
        },
        "id": "ytAX5TEETpm0",
        "outputId": "a0650944-38e2-4a4d-e6c6-be739cfd9a3d"
      },
      "source": [
        "type(tupla_03)"
      ],
      "execution_count": 37,
      "outputs": [
        {
          "output_type": "execute_result",
          "data": {
            "text/plain": [
              "tuple"
            ]
          },
          "metadata": {
            "tags": []
          },
          "execution_count": 37
        }
      ]
    },
    {
      "cell_type": "markdown",
      "metadata": {
        "id": "35Tikj7KOf-9"
      },
      "source": [
        "### **Exemplo 02)** Criando uma tupla aninhada\n"
      ]
    },
    {
      "cell_type": "code",
      "metadata": {
        "id": "zP4kageJMVjV"
      },
      "source": [
        "tupla_aninhada = (('Gleisson', 'Paulo'), ('Anderson', 'Flavio'), ('Pedro', 'João'))"
      ],
      "execution_count": 38,
      "outputs": []
    },
    {
      "cell_type": "code",
      "metadata": {
        "colab": {
          "base_uri": "https://localhost:8080/"
        },
        "id": "0s-V-SOaUFml",
        "outputId": "8b9618c8-0543-48c9-a9d5-d94d3ce90301"
      },
      "source": [
        "len(tupla_aninhada)"
      ],
      "execution_count": 40,
      "outputs": [
        {
          "output_type": "execute_result",
          "data": {
            "text/plain": [
              "3"
            ]
          },
          "metadata": {
            "tags": []
          },
          "execution_count": 40
        }
      ]
    },
    {
      "cell_type": "code",
      "metadata": {
        "colab": {
          "base_uri": "https://localhost:8080/"
        },
        "id": "DKlYIyscUSGt",
        "outputId": "5bb88b84-3e81-42a2-9b13-801a166c9ecd"
      },
      "source": [
        "tupla_aninhada"
      ],
      "execution_count": 41,
      "outputs": [
        {
          "output_type": "execute_result",
          "data": {
            "text/plain": [
              "(('Gleisson', 'Paulo'), ('Anderson', 'Flavio'), ('Pedro', 'João'))"
            ]
          },
          "metadata": {
            "tags": []
          },
          "execution_count": 41
        }
      ]
    },
    {
      "cell_type": "code",
      "metadata": {
        "colab": {
          "base_uri": "https://localhost:8080/",
          "height": 35
        },
        "id": "hw-d96-HUT4T",
        "outputId": "a04c6be5-f63d-42b9-e054-6efef8b94da8"
      },
      "source": [
        "tupla_aninhada[0][1]"
      ],
      "execution_count": 49,
      "outputs": [
        {
          "output_type": "execute_result",
          "data": {
            "application/vnd.google.colaboratory.intrinsic+json": {
              "type": "string"
            },
            "text/plain": [
              "'Paulo'"
            ]
          },
          "metadata": {
            "tags": []
          },
          "execution_count": 49
        }
      ]
    },
    {
      "cell_type": "markdown",
      "metadata": {
        "id": "OGgB_iPaqoOt"
      },
      "source": [
        "### **Exemplo 03)** Criando uma tupla vazia"
      ]
    },
    {
      "cell_type": "code",
      "metadata": {
        "id": "rwKDuD4wOfXN"
      },
      "source": [
        "tupla_vazia = ()"
      ],
      "execution_count": 50,
      "outputs": []
    },
    {
      "cell_type": "code",
      "metadata": {
        "colab": {
          "base_uri": "https://localhost:8080/"
        },
        "id": "LDu46_doUoTL",
        "outputId": "9d9d10a1-c2a2-438a-ec2c-0879eda335ba"
      },
      "source": [
        "tupla_vazia"
      ],
      "execution_count": 51,
      "outputs": [
        {
          "output_type": "execute_result",
          "data": {
            "text/plain": [
              "()"
            ]
          },
          "metadata": {
            "tags": []
          },
          "execution_count": 51
        }
      ]
    },
    {
      "cell_type": "code",
      "metadata": {
        "colab": {
          "base_uri": "https://localhost:8080/"
        },
        "id": "sQ8KNSEEUptq",
        "outputId": "974f4516-2d72-46b4-b8e4-0f0d9b4532f5"
      },
      "source": [
        "type(tupla_vazia)"
      ],
      "execution_count": 52,
      "outputs": [
        {
          "output_type": "execute_result",
          "data": {
            "text/plain": [
              "tuple"
            ]
          },
          "metadata": {
            "tags": []
          },
          "execution_count": 52
        }
      ]
    },
    {
      "cell_type": "code",
      "metadata": {
        "id": "s6KsZETOUsrl"
      },
      "source": [
        "tupla_vazia_02 = tuple()"
      ],
      "execution_count": 53,
      "outputs": []
    },
    {
      "cell_type": "code",
      "metadata": {
        "colab": {
          "base_uri": "https://localhost:8080/"
        },
        "id": "m7gJ-kATUvoz",
        "outputId": "1bb3936b-dc5f-4108-8890-46c8603f0710"
      },
      "source": [
        "tupla_vazia_02"
      ],
      "execution_count": 54,
      "outputs": [
        {
          "output_type": "execute_result",
          "data": {
            "text/plain": [
              "()"
            ]
          },
          "metadata": {
            "tags": []
          },
          "execution_count": 54
        }
      ]
    },
    {
      "cell_type": "code",
      "metadata": {
        "colab": {
          "base_uri": "https://localhost:8080/"
        },
        "id": "AygCiMKiUxQt",
        "outputId": "eb5c96a2-9a7d-4300-82e6-b01754f66584"
      },
      "source": [
        "type(tupla_vazia_02)"
      ],
      "execution_count": 55,
      "outputs": [
        {
          "output_type": "execute_result",
          "data": {
            "text/plain": [
              "tuple"
            ]
          },
          "metadata": {
            "tags": []
          },
          "execution_count": 55
        }
      ]
    },
    {
      "cell_type": "markdown",
      "metadata": {
        "id": "rgmPSzbAo5R2"
      },
      "source": [
        "-----\n",
        "\n",
        "## **Análise de Dados Brasil**!\n",
        "***Um jeito diferente de aprender Análise de Dados!***\n",
        "\n",
        "[Youtube](https://www.youtube.com/channel/UC1TUZx4WcPgKkcXymqL1KYA) • [GitHub](https://github.com/adadosbrasil) • [Instagram](https://www.instagram.com/adadosbrasil/) • [Twitter](https://twitter.com/adadosbrasil/) • [LinkedIn](https://www.linkedin.com/company/adadosbrasil/)\n",
        "\n"
      ]
    }
  ]
}